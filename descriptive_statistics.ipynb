{
 "cells": [
  {
   "cell_type": "markdown",
   "id": "3011636a",
   "metadata": {},
   "source": [
    "# Descrptive Statistics"
   ]
  },
  {
   "cell_type": "code",
   "execution_count": 6,
   "id": "2b854832",
   "metadata": {},
   "outputs": [],
   "source": [
    "list1 = [1,1,1,2,3,4,3,5]"
   ]
  },
  {
   "cell_type": "code",
   "execution_count": 7,
   "id": "e260a3e4",
   "metadata": {},
   "outputs": [
    {
     "data": {
      "text/plain": [
       "2.5"
      ]
     },
     "execution_count": 7,
     "metadata": {},
     "output_type": "execute_result"
    }
   ],
   "source": [
    "mean = sum(list1)/len(list1)\n",
    "mean"
   ]
  },
  {
   "cell_type": "code",
   "execution_count": 8,
   "id": "d5e472ea",
   "metadata": {},
   "outputs": [],
   "source": [
    "list2 = [1,2,3]"
   ]
  },
  {
   "cell_type": "code",
   "execution_count": 34,
   "id": "47cca02b",
   "metadata": {},
   "outputs": [],
   "source": [
    "def median(list1):\n",
    "    '''This function returns us median from a list'''\n",
    "    list1.sort()\n",
    "    print(list1)\n",
    "    if len(list1)%2 == 0:\n",
    "        return (list1[(len(list1)//2)-1]+list1[len(list1)//2])/2\n",
    "        #return median\n",
    "    else:\n",
    "        return list1[(len(list1))//2]"
   ]
  },
  {
   "cell_type": "code",
   "execution_count": 35,
   "id": "1eaf17ad",
   "metadata": {},
   "outputs": [
    {
     "name": "stdout",
     "output_type": "stream",
     "text": [
      "[1, 1, 1, 2, 3, 3, 4, 5]\n"
     ]
    },
    {
     "data": {
      "text/plain": [
       "2.5"
      ]
     },
     "execution_count": 35,
     "metadata": {},
     "output_type": "execute_result"
    }
   ],
   "source": [
    "median(list1)"
   ]
  },
  {
   "cell_type": "code",
   "execution_count": 36,
   "id": "d228dd83",
   "metadata": {},
   "outputs": [
    {
     "name": "stdout",
     "output_type": "stream",
     "text": [
      "[1, 2, 3]\n"
     ]
    },
    {
     "data": {
      "text/plain": [
       "2"
      ]
     },
     "execution_count": 36,
     "metadata": {},
     "output_type": "execute_result"
    }
   ],
   "source": [
    "median(list2)"
   ]
  },
  {
   "cell_type": "code",
   "execution_count": 17,
   "id": "60eb1c53",
   "metadata": {},
   "outputs": [
    {
     "data": {
      "text/plain": [
       "[1, 1, 1, 2, 3, 3, 4, 5]"
      ]
     },
     "execution_count": 17,
     "metadata": {},
     "output_type": "execute_result"
    }
   ],
   "source": [
    "list1"
   ]
  },
  {
   "cell_type": "code",
   "execution_count": 45,
   "id": "4ec9ed37",
   "metadata": {},
   "outputs": [
    {
     "data": {
      "text/plain": [
       "[(0, 1), (1, 1), (2, 1), (3, 2), (4, 3), (5, 3), (6, 4), (7, 5)]"
      ]
     },
     "execution_count": 45,
     "metadata": {},
     "output_type": "execute_result"
    }
   ],
   "source": [
    "[(i,j) for i,j in enumerate(list1)]\n",
    "        "
   ]
  },
  {
   "cell_type": "code",
   "execution_count": 37,
   "id": "792b7d0a",
   "metadata": {},
   "outputs": [],
   "source": [
    "import numpy as np\n",
    "arr1 = np.array([1, 1, 1, 2, 3, 3, 4, 5])"
   ]
  },
  {
   "cell_type": "code",
   "execution_count": 39,
   "id": "9fcd0510",
   "metadata": {},
   "outputs": [
    {
     "data": {
      "text/plain": [
       "2.5"
      ]
     },
     "execution_count": 39,
     "metadata": {},
     "output_type": "execute_result"
    }
   ],
   "source": [
    "arr1.mean()"
   ]
  },
  {
   "cell_type": "code",
   "execution_count": 41,
   "id": "8632f54f",
   "metadata": {},
   "outputs": [
    {
     "data": {
      "text/plain": [
       "2.5"
      ]
     },
     "execution_count": 41,
     "metadata": {},
     "output_type": "execute_result"
    }
   ],
   "source": [
    "np.median(arr1)"
   ]
  },
  {
   "cell_type": "code",
   "execution_count": 51,
   "id": "9c64b730",
   "metadata": {},
   "outputs": [
    {
     "data": {
      "text/plain": [
       "1"
      ]
     },
     "execution_count": 51,
     "metadata": {},
     "output_type": "execute_result"
    }
   ],
   "source": [
    "max(list1,key=list1.count)"
   ]
  },
  {
   "cell_type": "code",
   "execution_count": 52,
   "id": "6373293f",
   "metadata": {},
   "outputs": [
    {
     "data": {
      "text/plain": [
       "[1, 1, 1, 2, 3, 3, 4, 5]"
      ]
     },
     "execution_count": 52,
     "metadata": {},
     "output_type": "execute_result"
    }
   ],
   "source": [
    "list1"
   ]
  },
  {
   "cell_type": "code",
   "execution_count": 81,
   "id": "ee75641c",
   "metadata": {},
   "outputs": [],
   "source": [
    "def mode(list1):\n",
    "    '''This function find mode from a list'''\n",
    "    unique_value = []\n",
    "    mode_value = []\n",
    "    \n",
    "    # first loop find the unique value\n",
    "    for i in list1:\n",
    "        if i not in unique_value:\n",
    "            unique_value.append(i)   \n",
    "    # second loop find max count of unique value from list  \n",
    "    for j in unique_value:\n",
    "        mode_value.append(list1.count(j))\n",
    "    return unique_value[mode_value.index(max(mode_value))] "
   ]
  },
  {
   "cell_type": "code",
   "execution_count": 82,
   "id": "6169033c",
   "metadata": {},
   "outputs": [
    {
     "data": {
      "text/plain": [
       "1"
      ]
     },
     "execution_count": 82,
     "metadata": {},
     "output_type": "execute_result"
    }
   ],
   "source": [
    "mode(list1)"
   ]
  },
  {
   "cell_type": "code",
   "execution_count": 68,
   "id": "c8d0d597",
   "metadata": {},
   "outputs": [
    {
     "data": {
      "text/plain": [
       "9"
      ]
     },
     "execution_count": 68,
     "metadata": {},
     "output_type": "execute_result"
    }
   ],
   "source": [
    "mode([9,9,9,1,2,2,2])"
   ]
  },
  {
   "cell_type": "code",
   "execution_count": 69,
   "id": "b6998b8b",
   "metadata": {},
   "outputs": [
    {
     "data": {
      "text/plain": [
       "9"
      ]
     },
     "execution_count": 69,
     "metadata": {},
     "output_type": "execute_result"
    }
   ],
   "source": [
    "list2 = [9,9,9,1,2,2,2]\n",
    "max(list2,key=list2.count)"
   ]
  },
  {
   "cell_type": "code",
   "execution_count": 72,
   "id": "2c4ca43a",
   "metadata": {},
   "outputs": [],
   "source": [
    "unique_value = []\n",
    "mode_value = []\n",
    "\n",
    "# first loop find the unique value\n",
    "for i in list1:\n",
    "    if i not in unique_value:\n",
    "        unique_value.append(i)    \n",
    "\n",
    "\n",
    "for j in unique_value:\n",
    "    mode_value.append(list1.count(j))"
   ]
  },
  {
   "cell_type": "code",
   "execution_count": 73,
   "id": "d3639562",
   "metadata": {},
   "outputs": [
    {
     "data": {
      "text/plain": [
       "[1, 1, 1, 2, 3, 3, 4, 5]"
      ]
     },
     "execution_count": 73,
     "metadata": {},
     "output_type": "execute_result"
    }
   ],
   "source": [
    "list1"
   ]
  },
  {
   "cell_type": "code",
   "execution_count": 71,
   "id": "31a7d0d2",
   "metadata": {},
   "outputs": [
    {
     "data": {
      "text/plain": [
       "[1, 2, 3, 4, 5]"
      ]
     },
     "execution_count": 71,
     "metadata": {},
     "output_type": "execute_result"
    }
   ],
   "source": [
    "unique_value"
   ]
  },
  {
   "cell_type": "code",
   "execution_count": 74,
   "id": "acc91f0a",
   "metadata": {},
   "outputs": [
    {
     "data": {
      "text/plain": [
       "[3, 1, 2, 1, 1]"
      ]
     },
     "execution_count": 74,
     "metadata": {},
     "output_type": "execute_result"
    }
   ],
   "source": [
    "mode_value"
   ]
  },
  {
   "cell_type": "code",
   "execution_count": 76,
   "id": "93206d62",
   "metadata": {},
   "outputs": [
    {
     "data": {
      "text/plain": [
       "1"
      ]
     },
     "execution_count": 76,
     "metadata": {},
     "output_type": "execute_result"
    }
   ],
   "source": [
    "unique_value[mode_value.index(max(mode_value))]"
   ]
  },
  {
   "cell_type": "code",
   "execution_count": null,
   "id": "3933483b",
   "metadata": {},
   "outputs": [],
   "source": []
  }
 ],
 "metadata": {
  "kernelspec": {
   "display_name": "Python 3 (ipykernel)",
   "language": "python",
   "name": "python3"
  },
  "language_info": {
   "codemirror_mode": {
    "name": "ipython",
    "version": 3
   },
   "file_extension": ".py",
   "mimetype": "text/x-python",
   "name": "python",
   "nbconvert_exporter": "python",
   "pygments_lexer": "ipython3",
   "version": "3.10.9"
  }
 },
 "nbformat": 4,
 "nbformat_minor": 5
}
