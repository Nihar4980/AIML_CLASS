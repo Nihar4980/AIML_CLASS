{
 "cells": [
  {
   "cell_type": "code",
   "execution_count": 2,
   "id": "85a4d05f",
   "metadata": {},
   "outputs": [],
   "source": [
    "from sklearn.datasets import make_regression\n",
    "import numpy as np"
   ]
  },
  {
   "cell_type": "code",
   "execution_count": 28,
   "id": "9919a414",
   "metadata": {},
   "outputs": [],
   "source": [
    "X,y = make_regression(n_samples=100,n_features=1,n_informative=1,n_targets=1,noise=80,random_state=1)"
   ]
  },
  {
   "cell_type": "code",
   "execution_count": 29,
   "id": "b6f0161f",
   "metadata": {},
   "outputs": [
    {
     "data": {
      "text/plain": [
       "array([[-0.61175641],\n",
       "       [-0.24937038],\n",
       "       [ 0.48851815],\n",
       "       [ 0.76201118],\n",
       "       [ 1.51981682],\n",
       "       [ 0.37756379],\n",
       "       [ 0.51292982],\n",
       "       [-0.67124613],\n",
       "       [-1.39649634],\n",
       "       [ 0.31563495],\n",
       "       [-0.63699565],\n",
       "       [-0.39675353],\n",
       "       [-1.10061918],\n",
       "       [ 0.90085595],\n",
       "       [-1.09989127],\n",
       "       [ 0.82797464],\n",
       "       [-0.07557171],\n",
       "       [-0.35224985],\n",
       "       [-0.67066229],\n",
       "       [-1.07296862],\n",
       "       [-0.30620401],\n",
       "       [ 2.18557541],\n",
       "       [ 0.86540763],\n",
       "       [ 0.19829972],\n",
       "       [-0.38405435],\n",
       "       [-0.68372786],\n",
       "       [ 0.05080775],\n",
       "       [ 0.58281521],\n",
       "       [ 1.25286816],\n",
       "       [-0.75439794],\n",
       "       [-0.34934272],\n",
       "       [-0.88762896],\n",
       "       [ 0.18656139],\n",
       "       [ 0.87616892],\n",
       "       [ 0.83898341],\n",
       "       [-0.50446586],\n",
       "       [-0.34385368],\n",
       "       [ 1.6924546 ],\n",
       "       [-2.3015387 ],\n",
       "       [ 0.93110208],\n",
       "       [ 2.10025514],\n",
       "       [ 1.46210794],\n",
       "       [-0.84520564],\n",
       "       [-0.87785842],\n",
       "       [-0.3224172 ],\n",
       "       [ 0.88514116],\n",
       "       [ 0.16003707],\n",
       "       [ 1.13162939],\n",
       "       [-0.37528495],\n",
       "       [ 0.50249434],\n",
       "       [-0.20889423],\n",
       "       [ 0.12015895],\n",
       "       [ 0.58662319],\n",
       "       [ 0.3190391 ],\n",
       "       [-0.69166075],\n",
       "       [ 0.69803203],\n",
       "       [ 1.19891788],\n",
       "       [-0.20075807],\n",
       "       [ 0.53035547],\n",
       "       [ 0.74204416],\n",
       "       [ 0.41005165],\n",
       "       [ 0.11900865],\n",
       "       [-0.7612069 ],\n",
       "       [ 0.42349435],\n",
       "       [ 0.30017032],\n",
       "       [-1.1425182 ],\n",
       "       [ 0.18515642],\n",
       "       [-0.93576943],\n",
       "       [-0.62000084],\n",
       "       [-1.11731035],\n",
       "       [-1.44411381],\n",
       "       [-0.22232814],\n",
       "       [ 1.62434536],\n",
       "       [ 0.61720311],\n",
       "       [-0.6871727 ],\n",
       "       [ 0.07734007],\n",
       "       [-0.0126646 ],\n",
       "       [-0.63873041],\n",
       "       [ 1.13376944],\n",
       "       [ 1.74481176],\n",
       "       [ 0.90159072],\n",
       "       [-2.06014071],\n",
       "       [ 0.2344157 ],\n",
       "       [-0.17242821],\n",
       "       [ 0.12182127],\n",
       "       [ 1.14472371],\n",
       "       [-0.12289023],\n",
       "       [-0.74715829],\n",
       "       [ 0.28558733],\n",
       "       [-2.02220122],\n",
       "       [ 0.23009474],\n",
       "       [-0.26788808],\n",
       "       [-0.52817175],\n",
       "       [ 1.12948391],\n",
       "       [ 0.19091548],\n",
       "       [-0.29809284],\n",
       "       [ 1.65980218],\n",
       "       [ 0.04359686],\n",
       "       [ 0.04221375],\n",
       "       [-0.19183555]])"
      ]
     },
     "execution_count": 29,
     "metadata": {},
     "output_type": "execute_result"
    }
   ],
   "source": [
    "X"
   ]
  },
  {
   "cell_type": "code",
   "execution_count": 4,
   "id": "b22be880",
   "metadata": {},
   "outputs": [
    {
     "data": {
      "text/plain": [
       "array([ -78.27581902,   -1.47828209,  -38.77074381,    2.83072428,\n",
       "         91.32330587,  -82.95976973,  -36.64165261,    6.28290108,\n",
       "        -45.98897673, -104.02095513,  -17.56569748,   18.51164306,\n",
       "         82.90493119,  -56.5928387 ,  -30.20086498,  113.60290139,\n",
       "        -26.21151074,  -52.06628967,  -63.09231448,  -81.09106141,\n",
       "       -106.51897232,   66.76408941,  -24.38861173,   73.18137333,\n",
       "         67.12188311,    4.90317776,  -47.25615887,  -90.88530265,\n",
       "        -74.88514068,   60.88799986,  125.62025617,   34.13128205,\n",
       "        114.37987349,  -33.81466864,  -66.34685901,  -87.58641411,\n",
       "        -45.56275415,   48.61183336,  -50.9035849 ,  -13.09524855,\n",
       "        -33.42448087,   33.29060317,    5.40758417,  -49.47534756,\n",
       "        132.66537599,   22.21715573,    4.95074593, -157.70701656,\n",
       "         67.994367  ,  -30.91763461,  -26.43981772,  -46.57469332,\n",
       "       -144.57818262,  133.73117931,   18.62246057,   39.50641694,\n",
       "        -35.07247341,   27.05342964,   48.46243892,   40.79636806,\n",
       "         31.85195216,  -70.97620824,  -17.5472843 , -141.97321393,\n",
       "         77.44248547, -143.54822157, -113.94409641,   74.41775656,\n",
       "          1.47220543, -102.23574833,  -76.18451597,   74.61134339,\n",
       "         71.28641998,  -61.25712764,  -43.89773265,   45.99272418,\n",
       "        -33.93064201, -113.01523618,  105.28822677,  -12.1606828 ,\n",
       "        -65.2761139 ,   85.46378536,   54.18189884,  -46.29652084,\n",
       "        -12.4733243 ,  -97.46431512,   14.94142094,   27.08862288,\n",
       "        -20.64857673,  139.50934232,   62.10128765,  -21.66280099,\n",
       "         -0.31170714, -111.53812167,   46.57217375,  -85.83816821,\n",
       "        103.52385893, -150.05585955,  116.48730458,   53.12712093])"
      ]
     },
     "execution_count": 4,
     "metadata": {},
     "output_type": "execute_result"
    }
   ],
   "source": [
    "y"
   ]
  },
  {
   "cell_type": "code",
   "execution_count": 6,
   "id": "08fec609",
   "metadata": {},
   "outputs": [],
   "source": [
    "from sklearn.model_selection import train_test_split"
   ]
  },
  {
   "cell_type": "code",
   "execution_count": 7,
   "id": "0a8202f6",
   "metadata": {},
   "outputs": [],
   "source": [
    "X_train, X_test, y_train, y_test = train_test_split(X, y, test_size=0.2, random_state=2)"
   ]
  },
  {
   "cell_type": "code",
   "execution_count": 8,
   "id": "93278b9f",
   "metadata": {},
   "outputs": [],
   "source": [
    "class LinearRegression:\n",
    "    \n",
    "    def __init__(self):\n",
    "        self.m = None\n",
    "        self.b = None\n",
    "        \n",
    "    def fit(self,X_train,y_train):\n",
    "        \n",
    "        num = 0\n",
    "        den = 0\n",
    "        for i in range(X_train.shape[0]):\n",
    "            num += (X_train[i] - X_train.mean())*(y_train[i] - y_train.mean())\n",
    "            den += (X_train[i] - X_train.mean())*(X_train[i] - X_train.mean())\n",
    "        self.m = num/den\n",
    "        self.b = y_train.mean() - (self.m * X_train.mean())\n",
    "        #print(self.m,self.b)\n",
    "    \n",
    "    def predict(self,X_test):\n",
    "        \n",
    "        return self.m * X_test + self.b"
   ]
  },
  {
   "cell_type": "code",
   "execution_count": 9,
   "id": "0ee78f12",
   "metadata": {},
   "outputs": [],
   "source": [
    "lr = LinearRegression()"
   ]
  },
  {
   "cell_type": "code",
   "execution_count": 10,
   "id": "e1798b44",
   "metadata": {},
   "outputs": [],
   "source": [
    "lr.fit(X_train,y_train)"
   ]
  },
  {
   "cell_type": "code",
   "execution_count": 11,
   "id": "8153b879",
   "metadata": {},
   "outputs": [
    {
     "data": {
      "text/plain": [
       "array([15.57636453])"
      ]
     },
     "execution_count": 11,
     "metadata": {},
     "output_type": "execute_result"
    }
   ],
   "source": [
    "lr.predict(X_test[0])"
   ]
  },
  {
   "cell_type": "code",
   "execution_count": 12,
   "id": "dcf1c5bc",
   "metadata": {},
   "outputs": [
    {
     "data": {
      "text/plain": [
       "[<matplotlib.lines.Line2D at 0x213e2f1cf40>]"
      ]
     },
     "execution_count": 12,
     "metadata": {},
     "output_type": "execute_result"
    },
    {
     "data": {
      "image/png": "[encoded data removed]",
      "text/plain": [
       "<Figure size 640x480 with 1 Axes>"
      ]
     },
     "metadata": {},
     "output_type": "display_data"
    }
   ],
   "source": [
    "import matplotlib.pyplot as plt\n",
    "plt.scatter(X,y)\n",
    "plt.plot(X,lr.predict(X),color='r')"
   ]
  },
  {
   "cell_type": "code",
   "execution_count": 13,
   "id": "be97b9cc",
   "metadata": {},
   "outputs": [],
   "source": [
    "from sklearn.metrics import r2_score,mean_absolute_error,mean_squared_error"
   ]
  },
  {
   "cell_type": "code",
   "execution_count": 14,
   "id": "29125ae5",
   "metadata": {},
   "outputs": [],
   "source": [
    "y_pred = lr.predict(X_test)"
   ]
  },
  {
   "cell_type": "code",
   "execution_count": 15,
   "id": "176dab04",
   "metadata": {},
   "outputs": [
    {
     "name": "stdout",
     "output_type": "stream",
     "text": [
      "r2 score is 0.051565647824949656\n",
      "MAE : 49.244595665456714\n",
      "MSE : 3395.1691063225067\n",
      "RMSE : 58.26807965192011\n"
     ]
    }
   ],
   "source": [
    "print(f'r2 score is {r2_score(y_test,y_pred)}')\n",
    "print(f'MAE : {mean_absolute_error(y_test,y_pred)}')\n",
    "print(f'MSE : {mean_squared_error(y_test,y_pred)}')\n",
    "print(f'RMSE : {np.sqrt(mean_squared_error(y_test,y_pred))}')"
   ]
  },
  {
   "cell_type": "markdown",
   "id": "75b5305a",
   "metadata": {},
   "source": [
    "# Importing Existing Libaries"
   ]
  },
  {
   "cell_type": "code",
   "execution_count": 16,
   "id": "1aa2603e",
   "metadata": {},
   "outputs": [],
   "source": [
    "from sklearn.linear_model import LinearRegression"
   ]
  },
  {
   "cell_type": "code",
   "execution_count": 17,
   "id": "87647230",
   "metadata": {},
   "outputs": [],
   "source": [
    "lr1 = LinearRegression()"
   ]
  },
  {
   "cell_type": "code",
   "execution_count": 18,
   "id": "5d8e51a3",
   "metadata": {},
   "outputs": [
    {
     "data": {
      "text/html": [
       "<style>#sk-container-id-1 {color: black;background-color: white;}#sk-container-id-1 pre{padding: 0;}#sk-container-id-1 div.sk-toggleable {background-color: white;}#sk-container-id-1 label.sk-toggleable__label {cursor: pointer;display: block;width: 100%;margin-bottom: 0;padding: 0.3em;box-sizing: border-box;text-align: center;}#sk-container-id-1 label.sk-toggleable__label-arrow:before {content: \"▸\";float: left;margin-right: 0.25em;color: #696969;}#sk-container-id-1 label.sk-toggleable__label-arrow:hover:before {color: black;}#sk-container-id-1 div.sk-estimator:hover label.sk-toggleable__label-arrow:before {color: black;}#sk-container-id-1 div.sk-toggleable__content {max-height: 0;max-width: 0;overflow: hidden;text-align: left;background-color: #f0f8ff;}#sk-container-id-1 div.sk-toggleable__content pre {margin: 0.2em;color: black;border-radius: 0.25em;background-color: #f0f8ff;}#sk-container-id-1 input.sk-toggleable__control:checked~div.sk-toggleable__content {max-height: 200px;max-width: 100%;overflow: auto;}#sk-container-id-1 input.sk-toggleable__control:checked~label.sk-toggleable__label-arrow:before {content: \"▾\";}#sk-container-id-1 div.sk-estimator input.sk-toggleable__control:checked~label.sk-toggleable__label {background-color: #d4ebff;}#sk-container-id-1 div.sk-label input.sk-toggleable__control:checked~label.sk-toggleable__label {background-color: #d4ebff;}#sk-container-id-1 input.sk-hidden--visually {border: 0;clip: rect(1px 1px 1px 1px);clip: rect(1px, 1px, 1px, 1px);height: 1px;margin: -1px;overflow: hidden;padding: 0;position: absolute;width: 1px;}#sk-container-id-1 div.sk-estimator {font-family: monospace;background-color: #f0f8ff;border: 1px dotted black;border-radius: 0.25em;box-sizing: border-box;margin-bottom: 0.5em;}#sk-container-id-1 div.sk-estimator:hover {background-color: #d4ebff;}#sk-container-id-1 div.sk-parallel-item::after {content: \"\";width: 100%;border-bottom: 1px solid gray;flex-grow: 1;}#sk-container-id-1 div.sk-label:hover label.sk-toggleable__label {background-color: #d4ebff;}#sk-container-id-1 div.sk-serial::before {content: \"\";position: absolute;border-left: 1px solid gray;box-sizing: border-box;top: 0;bottom: 0;left: 50%;z-index: 0;}#sk-container-id-1 div.sk-serial {display: flex;flex-direction: column;align-items: center;background-color: white;padding-right: 0.2em;padding-left: 0.2em;position: relative;}#sk-container-id-1 div.sk-item {position: relative;z-index: 1;}#sk-container-id-1 div.sk-parallel {display: flex;align-items: stretch;justify-content: center;background-color: white;position: relative;}#sk-container-id-1 div.sk-item::before, #sk-container-id-1 div.sk-parallel-item::before {content: \"\";position: absolute;border-left: 1px solid gray;box-sizing: border-box;top: 0;bottom: 0;left: 50%;z-index: -1;}#sk-container-id-1 div.sk-parallel-item {display: flex;flex-direction: column;z-index: 1;position: relative;background-color: white;}#sk-container-id-1 div.sk-parallel-item:first-child::after {align-self: flex-end;width: 50%;}#sk-container-id-1 div.sk-parallel-item:last-child::after {align-self: flex-start;width: 50%;}#sk-container-id-1 div.sk-parallel-item:only-child::after {width: 0;}#sk-container-id-1 div.sk-dashed-wrapped {border: 1px dashed gray;margin: 0 0.4em 0.5em 0.4em;box-sizing: border-box;padding-bottom: 0.4em;background-color: white;}#sk-container-id-1 div.sk-label label {font-family: monospace;font-weight: bold;display: inline-block;line-height: 1.2em;}#sk-container-id-1 div.sk-label-container {text-align: center;}#sk-container-id-1 div.sk-container {/* jupyter's `normalize.less` sets `[hidden] { display: none; }` but bootstrap.min.css set `[hidden] { display: none !important; }` so we also need the `!important` here to be able to override the default hidden behavior on the sphinx rendered scikit-learn.org. See: https://github.com/scikit-learn/scikit-learn/issues/21755 */display: inline-block !important;position: relative;}#sk-container-id-1 div.sk-text-repr-fallback {display: none;}</style><div id=\"sk-container-id-1\" class=\"sk-top-container\"><div class=\"sk-text-repr-fallback\"><pre>LinearRegression()</pre><b>In a Jupyter environment, please rerun this cell to show the HTML representation or trust the notebook. <br />On GitHub, the HTML representation is unable to render, please try loading this page with nbviewer.org.</b></div><div class=\"sk-container\" hidden><div class=\"sk-item\"><div class=\"sk-estimator sk-toggleable\"><input class=\"sk-toggleable__control sk-hidden--visually\" id=\"sk-estimator-id-1\" type=\"checkbox\" checked><label for=\"sk-estimator-id-1\" class=\"sk-toggleable__label sk-toggleable__label-arrow\">LinearRegression</label><div class=\"sk-toggleable__content\"><pre>LinearRegression()</pre></div></div></div></div></div>"
      ],
      "text/plain": [
       "LinearRegression()"
      ]
     },
     "execution_count": 18,
     "metadata": {},
     "output_type": "execute_result"
    }
   ],
   "source": [
    "lr1.fit(X_train,y_train)"
   ]
  },
  {
   "cell_type": "code",
   "execution_count": 19,
   "id": "9d9c5e14",
   "metadata": {},
   "outputs": [],
   "source": [
    "y_pred1 = lr1.predict(X_test)"
   ]
  },
  {
   "cell_type": "code",
   "execution_count": 20,
   "id": "e4a0d772",
   "metadata": {},
   "outputs": [
    {
     "name": "stdout",
     "output_type": "stream",
     "text": [
      "r2 score is 0.051565647824949656\n",
      "MAE : 49.244595665456714\n",
      "MSE : 3395.1691063225067\n",
      "RMSE : 58.26807965192011\n"
     ]
    }
   ],
   "source": [
    "print(f'r2 score is {r2_score(y_test,y_pred1)}')\n",
    "print(f'MAE : {mean_absolute_error(y_test,y_pred1)}')\n",
    "print(f'MSE : {mean_squared_error(y_test,y_pred1)}')\n",
    "print(f'RMSE : {np.sqrt(mean_squared_error(y_test,y_pred1))}')"
   ]
  },
  {
   "cell_type": "markdown",
   "id": "9f8c4173",
   "metadata": {},
   "source": [
    "# Using Scaling"
   ]
  },
  {
   "cell_type": "code",
   "execution_count": 22,
   "id": "67d72717",
   "metadata": {},
   "outputs": [],
   "source": [
    "import seaborn as sns"
   ]
  },
  {
   "cell_type": "code",
   "execution_count": 23,
   "id": "585e2d20",
   "metadata": {},
   "outputs": [
    {
     "name": "stderr",
     "output_type": "stream",
     "text": [
      "C:\\Users\\Nihar\\AppData\\Local\\Temp\\ipykernel_4772\\3710746820.py:1: UserWarning: \n",
      "\n",
      "`distplot` is a deprecated function and will be removed in seaborn v0.14.0.\n",
      "\n",
      "Please adapt your code to use either `displot` (a figure-level function with\n",
      "similar flexibility) or `histplot` (an axes-level function for histograms).\n",
      "\n",
      "For a guide to updating your code to use the new functions, please see\n",
      "https://gist.github.com/mwaskom/de44147ed2974457ad6372750bbe5751\n",
      "\n",
      "  sns.distplot(X,kde=True)\n"
     ]
    },
    {
     "data": {
      "text/plain": [
       "<Axes: ylabel='Density'>"
      ]
     },
     "execution_count": 23,
     "metadata": {},
     "output_type": "execute_result"
    },
    {
     "data": {
      "image/png": "[encoded data removed]",
      "text/plain": [
       "<Figure size 640x480 with 1 Axes>"
      ]
     },
     "metadata": {},
     "output_type": "display_data"
    }
   ],
   "source": [
    "sns.distplot(X,kde=True)"
   ]
  },
  {
   "cell_type": "code",
   "execution_count": 50,
   "id": "d33b7ea9",
   "metadata": {},
   "outputs": [
    {
     "data": {
      "text/plain": [
       "array([-0.00448165])"
      ]
     },
     "execution_count": 50,
     "metadata": {},
     "output_type": "execute_result"
    }
   ],
   "source": [
    "from scipy import stats\n",
    "stats.skew(X)"
   ]
  },
  {
   "cell_type": "code",
   "execution_count": 30,
   "id": "61b052f7",
   "metadata": {},
   "outputs": [
    {
     "data": {
      "text/plain": [
       "array([[-0.61175641],\n",
       "       [-0.24937038],\n",
       "       [ 0.48851815],\n",
       "       [ 0.76201118],\n",
       "       [ 1.51981682],\n",
       "       [ 0.37756379],\n",
       "       [ 0.51292982],\n",
       "       [-0.67124613],\n",
       "       [-1.39649634],\n",
       "       [ 0.31563495],\n",
       "       [-0.63699565],\n",
       "       [-0.39675353],\n",
       "       [-1.10061918],\n",
       "       [ 0.90085595],\n",
       "       [-1.09989127],\n",
       "       [ 0.82797464],\n",
       "       [-0.07557171],\n",
       "       [-0.35224985],\n",
       "       [-0.67066229],\n",
       "       [-1.07296862],\n",
       "       [-0.30620401],\n",
       "       [ 2.18557541],\n",
       "       [ 0.86540763],\n",
       "       [ 0.19829972],\n",
       "       [-0.38405435],\n",
       "       [-0.68372786],\n",
       "       [ 0.05080775],\n",
       "       [ 0.58281521],\n",
       "       [ 1.25286816],\n",
       "       [-0.75439794],\n",
       "       [-0.34934272],\n",
       "       [-0.88762896],\n",
       "       [ 0.18656139],\n",
       "       [ 0.87616892],\n",
       "       [ 0.83898341],\n",
       "       [-0.50446586],\n",
       "       [-0.34385368],\n",
       "       [ 1.6924546 ],\n",
       "       [-2.3015387 ],\n",
       "       [ 0.93110208],\n",
       "       [ 2.10025514],\n",
       "       [ 1.46210794],\n",
       "       [-0.84520564],\n",
       "       [-0.87785842],\n",
       "       [-0.3224172 ],\n",
       "       [ 0.88514116],\n",
       "       [ 0.16003707],\n",
       "       [ 1.13162939],\n",
       "       [-0.37528495],\n",
       "       [ 0.50249434],\n",
       "       [-0.20889423],\n",
       "       [ 0.12015895],\n",
       "       [ 0.58662319],\n",
       "       [ 0.3190391 ],\n",
       "       [-0.69166075],\n",
       "       [ 0.69803203],\n",
       "       [ 1.19891788],\n",
       "       [-0.20075807],\n",
       "       [ 0.53035547],\n",
       "       [ 0.74204416],\n",
       "       [ 0.41005165],\n",
       "       [ 0.11900865],\n",
       "       [-0.7612069 ],\n",
       "       [ 0.42349435],\n",
       "       [ 0.30017032],\n",
       "       [-1.1425182 ],\n",
       "       [ 0.18515642],\n",
       "       [-0.93576943],\n",
       "       [-0.62000084],\n",
       "       [-1.11731035],\n",
       "       [-1.44411381],\n",
       "       [-0.22232814],\n",
       "       [ 1.62434536],\n",
       "       [ 0.61720311],\n",
       "       [-0.6871727 ],\n",
       "       [ 0.07734007],\n",
       "       [-0.0126646 ],\n",
       "       [-0.63873041],\n",
       "       [ 1.13376944],\n",
       "       [ 1.74481176],\n",
       "       [ 0.90159072],\n",
       "       [-2.06014071],\n",
       "       [ 0.2344157 ],\n",
       "       [-0.17242821],\n",
       "       [ 0.12182127],\n",
       "       [ 1.14472371],\n",
       "       [-0.12289023],\n",
       "       [-0.74715829],\n",
       "       [ 0.28558733],\n",
       "       [-2.02220122],\n",
       "       [ 0.23009474],\n",
       "       [-0.26788808],\n",
       "       [-0.52817175],\n",
       "       [ 1.12948391],\n",
       "       [ 0.19091548],\n",
       "       [-0.29809284],\n",
       "       [ 1.65980218],\n",
       "       [ 0.04359686],\n",
       "       [ 0.04221375],\n",
       "       [-0.19183555]])"
      ]
     },
     "execution_count": 30,
     "metadata": {},
     "output_type": "execute_result"
    }
   ],
   "source": [
    "X"
   ]
  },
  {
   "cell_type": "code",
   "execution_count": 32,
   "id": "32553748",
   "metadata": {},
   "outputs": [],
   "source": [
    "from sklearn.preprocessing import StandardScaler,MinMaxScaler"
   ]
  },
  {
   "cell_type": "code",
   "execution_count": 33,
   "id": "ce5e64a6",
   "metadata": {},
   "outputs": [],
   "source": [
    "std = StandardScaler()"
   ]
  },
  {
   "cell_type": "code",
   "execution_count": 34,
   "id": "d595ee2b",
   "metadata": {},
   "outputs": [],
   "source": [
    "X_std = std.fit_transform(X)"
   ]
  },
  {
   "cell_type": "code",
   "execution_count": 35,
   "id": "06fd1ed6",
   "metadata": {},
   "outputs": [
    {
     "data": {
      "text/plain": [
       "array([[-0.75957131],\n",
       "       [-0.35016783],\n",
       "       [ 0.48345737],\n",
       "       [ 0.79243451],\n",
       "       [ 1.64856094],\n",
       "       [ 0.35810734],\n",
       "       [ 0.51103631],\n",
       "       [-0.82677947],\n",
       "       [-1.6461266 ],\n",
       "       [ 0.2881436 ],\n",
       "       [-0.78808519],\n",
       "       [-0.51667307],\n",
       "       [-1.31186113],\n",
       "       [ 0.94929356],\n",
       "       [-1.31103878],\n",
       "       [ 0.86695634],\n",
       "       [-0.15381982],\n",
       "       [-0.4663953 ],\n",
       "       [-0.82611987],\n",
       "       [-1.28062308],\n",
       "       [-0.41437529],\n",
       "       [ 2.40069778],\n",
       "       [ 0.90924603],\n",
       "       [ 0.15558482],\n",
       "       [-0.50232626],\n",
       "       [-0.84088063],\n",
       "       [-0.01104336],\n",
       "       [ 0.58998892],\n",
       "       [ 1.34697727],\n",
       "       [-0.92071973],\n",
       "       [-0.46311099],\n",
       "       [-1.07123669],\n",
       "       [ 0.14232351],\n",
       "       [ 0.92140354],\n",
       "       [ 0.87939343],\n",
       "       [-0.63836045],\n",
       "       [-0.45690978],\n",
       "       [ 1.84359746],\n",
       "       [-2.66859286],\n",
       "       [ 0.98346395],\n",
       "       [ 2.30430771],\n",
       "       [ 1.58336468],\n",
       "       [-1.0233092 ],\n",
       "       [-1.06019848],\n",
       "       [-0.43269205],\n",
       "       [ 0.93153988],\n",
       "       [ 0.11235781],\n",
       "       [ 1.21000849],\n",
       "       [-0.49241907],\n",
       "       [ 0.49924689],\n",
       "       [-0.30444014],\n",
       "       [ 0.06730575],\n",
       "       [ 0.59429096],\n",
       "       [ 0.29198941],\n",
       "       [-0.84984276],\n",
       "       [ 0.72015445],\n",
       "       [ 1.28602727],\n",
       "       [-0.29524836],\n",
       "       [ 0.53072283],\n",
       "       [ 0.76987688],\n",
       "       [ 0.39481031],\n",
       "       [ 0.0660062 ],\n",
       "       [-0.92841212],\n",
       "       [ 0.40999712],\n",
       "       [ 0.27067253],\n",
       "       [-1.3591963 ],\n",
       "       [ 0.14073625],\n",
       "       [-1.12562311],\n",
       "       [-0.76888541],\n",
       "       [-1.33071788],\n",
       "       [-1.69992215],\n",
       "       [-0.31961702],\n",
       "       [ 1.76665145],\n",
       "       [ 0.62883845],\n",
       "       [-0.84477241],\n",
       "       [ 0.01893137],\n",
       "       [-0.08275087],\n",
       "       [-0.79004502],\n",
       "       [ 1.21242621],\n",
       "       [ 1.90274766],\n",
       "       [ 0.95012367],\n",
       "       [-2.39587491],\n",
       "       [ 0.19638663],\n",
       "       [-0.26324287],\n",
       "       [ 0.06918374],\n",
       "       [ 1.22480173],\n",
       "       [-0.20727762],\n",
       "       [-0.91254078],\n",
       "       [ 0.25419747],\n",
       "       [-2.35301299],\n",
       "       [ 0.19150505],\n",
       "       [-0.37108809],\n",
       "       [-0.66514203],\n",
       "       [ 1.20758465],\n",
       "       [ 0.14724252],\n",
       "       [-0.40521174],\n",
       "       [ 1.80670858],\n",
       "       [-0.01918983],\n",
       "       [-0.02075239],\n",
       "       [-0.2851682 ]])"
      ]
     },
     "execution_count": 35,
     "metadata": {},
     "output_type": "execute_result"
    }
   ],
   "source": [
    "X_std"
   ]
  },
  {
   "cell_type": "code",
   "execution_count": 38,
   "id": "4743a653",
   "metadata": {},
   "outputs": [
    {
     "data": {
      "text/plain": [
       "array([[  1. ],\n",
       "       [ 12. ],\n",
       "       [ 13.9],\n",
       "       [ 99. ],\n",
       "       [100. ]])"
      ]
     },
     "execution_count": 38,
     "metadata": {},
     "output_type": "execute_result"
    }
   ],
   "source": [
    "a = np.array([1,12,13.9,99,100])\n",
    "std1 = StandardScaler()\n",
    "a_std = std1.fit_transform(a)\n",
    "a"
   ]
  },
  {
   "cell_type": "code",
   "execution_count": 39,
   "id": "7993eb47",
   "metadata": {},
   "outputs": [
    {
     "data": {
      "text/plain": [
       "array([[-0.99121861],\n",
       "       [-0.74442357],\n",
       "       [-0.70179534],\n",
       "       [ 1.2075008 ],\n",
       "       [ 1.22993672]])"
      ]
     },
     "execution_count": 39,
     "metadata": {},
     "output_type": "execute_result"
    }
   ],
   "source": [
    "a_std"
   ]
  },
  {
   "cell_type": "code",
   "execution_count": 42,
   "id": "4d7a5de0",
   "metadata": {},
   "outputs": [
    {
     "data": {
      "text/plain": [
       "array([[  1. ],\n",
       "       [ 12. ],\n",
       "       [ 13.9],\n",
       "       [ 99. ],\n",
       "       [100. ]])"
      ]
     },
     "execution_count": 42,
     "metadata": {},
     "output_type": "execute_result"
    }
   ],
   "source": [
    "a = np.array([1,12,13.9,99,100]).reshape(-1,1)\n",
    "a"
   ]
  },
  {
   "cell_type": "code",
   "execution_count": 43,
   "id": "5109db8d",
   "metadata": {},
   "outputs": [],
   "source": [
    "std1 = StandardScaler()\n",
    "a_std = std1.fit_transform(a)"
   ]
  },
  {
   "cell_type": "code",
   "execution_count": 44,
   "id": "96d5f5fa",
   "metadata": {},
   "outputs": [
    {
     "data": {
      "text/plain": [
       "array([[-0.99121861],\n",
       "       [-0.74442357],\n",
       "       [-0.70179534],\n",
       "       [ 1.2075008 ],\n",
       "       [ 1.22993672]])"
      ]
     },
     "execution_count": 44,
     "metadata": {},
     "output_type": "execute_result"
    }
   ],
   "source": [
    "a_std"
   ]
  },
  {
   "cell_type": "code",
   "execution_count": 45,
   "id": "78fcf38a",
   "metadata": {},
   "outputs": [],
   "source": [
    "X_train, X_test, y_train, y_test = train_test_split(X_std, y, test_size=0.2, random_state=2)"
   ]
  },
  {
   "cell_type": "code",
   "execution_count": 46,
   "id": "cd2d7fcc",
   "metadata": {},
   "outputs": [],
   "source": [
    "lr2 = LinearRegression()"
   ]
  },
  {
   "cell_type": "code",
   "execution_count": 47,
   "id": "730e9b00",
   "metadata": {},
   "outputs": [
    {
     "data": {
      "text/html": [
       "<style>#sk-container-id-2 {color: black;background-color: white;}#sk-container-id-2 pre{padding: 0;}#sk-container-id-2 div.sk-toggleable {background-color: white;}#sk-container-id-2 label.sk-toggleable__label {cursor: pointer;display: block;width: 100%;margin-bottom: 0;padding: 0.3em;box-sizing: border-box;text-align: center;}#sk-container-id-2 label.sk-toggleable__label-arrow:before {content: \"▸\";float: left;margin-right: 0.25em;color: #696969;}#sk-container-id-2 label.sk-toggleable__label-arrow:hover:before {color: black;}#sk-container-id-2 div.sk-estimator:hover label.sk-toggleable__label-arrow:before {color: black;}#sk-container-id-2 div.sk-toggleable__content {max-height: 0;max-width: 0;overflow: hidden;text-align: left;background-color: #f0f8ff;}#sk-container-id-2 div.sk-toggleable__content pre {margin: 0.2em;color: black;border-radius: 0.25em;background-color: #f0f8ff;}#sk-container-id-2 input.sk-toggleable__control:checked~div.sk-toggleable__content {max-height: 200px;max-width: 100%;overflow: auto;}#sk-container-id-2 input.sk-toggleable__control:checked~label.sk-toggleable__label-arrow:before {content: \"▾\";}#sk-container-id-2 div.sk-estimator input.sk-toggleable__control:checked~label.sk-toggleable__label {background-color: #d4ebff;}#sk-container-id-2 div.sk-label input.sk-toggleable__control:checked~label.sk-toggleable__label {background-color: #d4ebff;}#sk-container-id-2 input.sk-hidden--visually {border: 0;clip: rect(1px 1px 1px 1px);clip: rect(1px, 1px, 1px, 1px);height: 1px;margin: -1px;overflow: hidden;padding: 0;position: absolute;width: 1px;}#sk-container-id-2 div.sk-estimator {font-family: monospace;background-color: #f0f8ff;border: 1px dotted black;border-radius: 0.25em;box-sizing: border-box;margin-bottom: 0.5em;}#sk-container-id-2 div.sk-estimator:hover {background-color: #d4ebff;}#sk-container-id-2 div.sk-parallel-item::after {content: \"\";width: 100%;border-bottom: 1px solid gray;flex-grow: 1;}#sk-container-id-2 div.sk-label:hover label.sk-toggleable__label {background-color: #d4ebff;}#sk-container-id-2 div.sk-serial::before {content: \"\";position: absolute;border-left: 1px solid gray;box-sizing: border-box;top: 0;bottom: 0;left: 50%;z-index: 0;}#sk-container-id-2 div.sk-serial {display: flex;flex-direction: column;align-items: center;background-color: white;padding-right: 0.2em;padding-left: 0.2em;position: relative;}#sk-container-id-2 div.sk-item {position: relative;z-index: 1;}#sk-container-id-2 div.sk-parallel {display: flex;align-items: stretch;justify-content: center;background-color: white;position: relative;}#sk-container-id-2 div.sk-item::before, #sk-container-id-2 div.sk-parallel-item::before {content: \"\";position: absolute;border-left: 1px solid gray;box-sizing: border-box;top: 0;bottom: 0;left: 50%;z-index: -1;}#sk-container-id-2 div.sk-parallel-item {display: flex;flex-direction: column;z-index: 1;position: relative;background-color: white;}#sk-container-id-2 div.sk-parallel-item:first-child::after {align-self: flex-end;width: 50%;}#sk-container-id-2 div.sk-parallel-item:last-child::after {align-self: flex-start;width: 50%;}#sk-container-id-2 div.sk-parallel-item:only-child::after {width: 0;}#sk-container-id-2 div.sk-dashed-wrapped {border: 1px dashed gray;margin: 0 0.4em 0.5em 0.4em;box-sizing: border-box;padding-bottom: 0.4em;background-color: white;}#sk-container-id-2 div.sk-label label {font-family: monospace;font-weight: bold;display: inline-block;line-height: 1.2em;}#sk-container-id-2 div.sk-label-container {text-align: center;}#sk-container-id-2 div.sk-container {/* jupyter's `normalize.less` sets `[hidden] { display: none; }` but bootstrap.min.css set `[hidden] { display: none !important; }` so we also need the `!important` here to be able to override the default hidden behavior on the sphinx rendered scikit-learn.org. See: https://github.com/scikit-learn/scikit-learn/issues/21755 */display: inline-block !important;position: relative;}#sk-container-id-2 div.sk-text-repr-fallback {display: none;}</style><div id=\"sk-container-id-2\" class=\"sk-top-container\"><div class=\"sk-text-repr-fallback\"><pre>LinearRegression()</pre><b>In a Jupyter environment, please rerun this cell to show the HTML representation or trust the notebook. <br />On GitHub, the HTML representation is unable to render, please try loading this page with nbviewer.org.</b></div><div class=\"sk-container\" hidden><div class=\"sk-item\"><div class=\"sk-estimator sk-toggleable\"><input class=\"sk-toggleable__control sk-hidden--visually\" id=\"sk-estimator-id-2\" type=\"checkbox\" checked><label for=\"sk-estimator-id-2\" class=\"sk-toggleable__label sk-toggleable__label-arrow\">LinearRegression</label><div class=\"sk-toggleable__content\"><pre>LinearRegression()</pre></div></div></div></div></div>"
      ],
      "text/plain": [
       "LinearRegression()"
      ]
     },
     "execution_count": 47,
     "metadata": {},
     "output_type": "execute_result"
    }
   ],
   "source": [
    "lr2.fit(X_train,y_train)"
   ]
  },
  {
   "cell_type": "code",
   "execution_count": 48,
   "id": "ee3c3c69",
   "metadata": {},
   "outputs": [],
   "source": [
    "y_pred_std = lr2.predict(X_test)"
   ]
  },
  {
   "cell_type": "code",
   "execution_count": 49,
   "id": "a42a9055",
   "metadata": {},
   "outputs": [
    {
     "name": "stdout",
     "output_type": "stream",
     "text": [
      "r2 score is 0.5008037988909309\n",
      "MAE : 53.11550614802852\n",
      "MSE : 4914.36286287384\n",
      "RMSE : 70.10251680841309\n"
     ]
    }
   ],
   "source": [
    "print(f'r2 score is {r2_score(y_test,y_pred_std)}')\n",
    "print(f'MAE : {mean_absolute_error(y_test,y_pred_std)}')\n",
    "print(f'MSE : {mean_squared_error(y_test,y_pred_std)}')\n",
    "print(f'RMSE : {np.sqrt(mean_squared_error(y_test,y_pred_std))}')"
   ]
  },
  {
   "cell_type": "code",
   "execution_count": 51,
   "id": "ccff165d",
   "metadata": {},
   "outputs": [],
   "source": [
    "normal = MinMaxScaler()"
   ]
  },
  {
   "cell_type": "code",
   "execution_count": 52,
   "id": "f9b7399d",
   "metadata": {},
   "outputs": [
    {
     "data": {
      "text/plain": [
       "array([[0.37658554],\n",
       "       [0.45734703],\n",
       "       [0.62179316],\n",
       "       [0.68274392],\n",
       "       [0.85162878],\n",
       "       [0.59706582],\n",
       "       [0.62723355],\n",
       "       [0.36332764],\n",
       "       [0.20169809],\n",
       "       [0.58326434],\n",
       "       [0.37096071],\n",
       "       [0.42450117],\n",
       "       [0.26763739],\n",
       "       [0.71368692],\n",
       "       [0.26779962],\n",
       "       [0.69744456],\n",
       "       [0.49607987],\n",
       "       [0.43441927],\n",
       "       [0.36345775],\n",
       "       [0.27379961],\n",
       "       [0.44468107],\n",
       "       [1.        ],\n",
       "       [0.70578689],\n",
       "       [0.55711497],\n",
       "       [0.42733131],\n",
       "       [0.36054595],\n",
       "       [0.52424485],\n",
       "       [0.64280824],\n",
       "       [0.7921365 ],\n",
       "       [0.34479639],\n",
       "       [0.43506716],\n",
       "       [0.31510447],\n",
       "       [0.55449896],\n",
       "       [0.70818516],\n",
       "       [0.69989798],\n",
       "       [0.40049635],\n",
       "       [0.43629045],\n",
       "       [0.8901029 ],\n",
       "       [0.        ],\n",
       "       [0.72042759],\n",
       "       [0.98098549],\n",
       "       [0.83876776],\n",
       "       [0.32455895],\n",
       "       [0.31728194],\n",
       "       [0.44106779],\n",
       "       [0.71018472],\n",
       "       [0.54858774],\n",
       "       [0.76511718],\n",
       "       [0.42928566],\n",
       "       [0.6249079 ],\n",
       "       [0.46636756],\n",
       "       [0.53970048],\n",
       "       [0.64365689],\n",
       "       [0.58402299],\n",
       "       [0.35877803],\n",
       "       [0.6684855 ],\n",
       "       [0.78011312],\n",
       "       [0.46818079],\n",
       "       [0.63111704],\n",
       "       [0.67829406],\n",
       "       [0.60430608],\n",
       "       [0.53944413],\n",
       "       [0.34327895],\n",
       "       [0.60730193],\n",
       "       [0.57981789],\n",
       "       [0.25829976],\n",
       "       [0.55418584],\n",
       "       [0.30437587],\n",
       "       [0.37474818],\n",
       "       [0.26391759],\n",
       "       [0.19108605],\n",
       "       [0.46337368],\n",
       "       [0.87492405],\n",
       "       [0.65047194],\n",
       "       [0.35977824],\n",
       "       [0.53015785],\n",
       "       [0.51009937],\n",
       "       [0.3705741 ],\n",
       "       [0.76559411],\n",
       "       [0.90177124],\n",
       "       [0.71385067],\n",
       "       [0.05379805],\n",
       "       [0.56516379],\n",
       "       [0.47449439],\n",
       "       [0.54007095],\n",
       "       [0.76803538],\n",
       "       [0.48553445],\n",
       "       [0.34640982],\n",
       "       [0.57656791],\n",
       "       [0.06225326],\n",
       "       [0.56420081],\n",
       "       [0.45322017],\n",
       "       [0.39521325],\n",
       "       [0.76463904],\n",
       "       [0.55546931],\n",
       "       [0.44648873],\n",
       "       [0.88282597],\n",
       "       [0.52263782],\n",
       "       [0.52232958],\n",
       "       [0.47016927]])"
      ]
     },
     "execution_count": 52,
     "metadata": {},
     "output_type": "execute_result"
    }
   ],
   "source": [
    "X_normal = normal.fit_transform(X)\n",
    "X_normal"
   ]
  },
  {
   "cell_type": "code",
   "execution_count": 1,
   "id": "28a6ccdd",
   "metadata": {},
   "outputs": [],
   "source": [
    "\n",
    "        "
   ]
  },
  {
   "cell_type": "code",
   "execution_count": 58,
   "id": "e773e787",
   "metadata": {},
   "outputs": [
    {
     "data": {
      "text/plain": [
       "array([], dtype=float64)"
      ]
     },
     "execution_count": 58,
     "metadata": {},
     "output_type": "execute_result"
    }
   ],
   "source": [
    "np.array([])"
   ]
  },
  {
   "cell_type": "code",
   "execution_count": 65,
   "id": "cce4b9db",
   "metadata": {},
   "outputs": [
    {
     "data": {
      "text/plain": [
       "array([], dtype=float64)"
      ]
     },
     "execution_count": 65,
     "metadata": {},
     "output_type": "execute_result"
    }
   ],
   "source": [
    "minmax(X)"
   ]
  },
  {
   "cell_type": "code",
   "execution_count": 60,
   "id": "74089ea5",
   "metadata": {},
   "outputs": [
    {
     "name": "stdout",
     "output_type": "stream",
     "text": [
      "[-0.61175641]\n",
      "[-0.24937038]\n",
      "[0.48851815]\n",
      "[0.76201118]\n",
      "[1.51981682]\n",
      "[0.37756379]\n",
      "[0.51292982]\n",
      "[-0.67124613]\n",
      "[-1.39649634]\n",
      "[0.31563495]\n",
      "[-0.63699565]\n",
      "[-0.39675353]\n",
      "[-1.10061918]\n",
      "[0.90085595]\n",
      "[-1.09989127]\n",
      "[0.82797464]\n",
      "[-0.07557171]\n",
      "[-0.35224985]\n",
      "[-0.67066229]\n",
      "[-1.07296862]\n",
      "[-0.30620401]\n",
      "[2.18557541]\n",
      "[0.86540763]\n",
      "[0.19829972]\n",
      "[-0.38405435]\n",
      "[-0.68372786]\n",
      "[0.05080775]\n",
      "[0.58281521]\n",
      "[1.25286816]\n",
      "[-0.75439794]\n",
      "[-0.34934272]\n",
      "[-0.88762896]\n",
      "[0.18656139]\n",
      "[0.87616892]\n",
      "[0.83898341]\n",
      "[-0.50446586]\n",
      "[-0.34385368]\n",
      "[1.6924546]\n",
      "[-2.3015387]\n",
      "[0.93110208]\n",
      "[2.10025514]\n",
      "[1.46210794]\n",
      "[-0.84520564]\n",
      "[-0.87785842]\n",
      "[-0.3224172]\n",
      "[0.88514116]\n",
      "[0.16003707]\n",
      "[1.13162939]\n",
      "[-0.37528495]\n",
      "[0.50249434]\n",
      "[-0.20889423]\n",
      "[0.12015895]\n",
      "[0.58662319]\n",
      "[0.3190391]\n",
      "[-0.69166075]\n",
      "[0.69803203]\n",
      "[1.19891788]\n",
      "[-0.20075807]\n",
      "[0.53035547]\n",
      "[0.74204416]\n",
      "[0.41005165]\n",
      "[0.11900865]\n",
      "[-0.7612069]\n",
      "[0.42349435]\n",
      "[0.30017032]\n",
      "[-1.1425182]\n",
      "[0.18515642]\n",
      "[-0.93576943]\n",
      "[-0.62000084]\n",
      "[-1.11731035]\n",
      "[-1.44411381]\n",
      "[-0.22232814]\n",
      "[1.62434536]\n",
      "[0.61720311]\n",
      "[-0.6871727]\n",
      "[0.07734007]\n",
      "[-0.0126646]\n",
      "[-0.63873041]\n",
      "[1.13376944]\n",
      "[1.74481176]\n",
      "[0.90159072]\n",
      "[-2.06014071]\n",
      "[0.2344157]\n",
      "[-0.17242821]\n",
      "[0.12182127]\n",
      "[1.14472371]\n",
      "[-0.12289023]\n",
      "[-0.74715829]\n",
      "[0.28558733]\n",
      "[-2.02220122]\n",
      "[0.23009474]\n",
      "[-0.26788808]\n",
      "[-0.52817175]\n",
      "[1.12948391]\n",
      "[0.19091548]\n",
      "[-0.29809284]\n",
      "[1.65980218]\n",
      "[0.04359686]\n",
      "[0.04221375]\n",
      "[-0.19183555]\n"
     ]
    }
   ],
   "source": [
    "for i in X:\n",
    "    print(i)"
   ]
  },
  {
   "cell_type": "code",
   "execution_count": 61,
   "id": "b650297a",
   "metadata": {},
   "outputs": [
    {
     "data": {
      "text/plain": [
       "-2.3015386968802827"
      ]
     },
     "execution_count": 61,
     "metadata": {},
     "output_type": "execute_result"
    }
   ],
   "source": [
    "X.min()"
   ]
  },
  {
   "cell_type": "code",
   "execution_count": 62,
   "id": "7dd51a43",
   "metadata": {},
   "outputs": [
    {
     "data": {
      "text/plain": [
       "2.1855754065331614"
      ]
     },
     "execution_count": 62,
     "metadata": {},
     "output_type": "execute_result"
    }
   ],
   "source": [
    "X.max()"
   ]
  },
  {
   "cell_type": "code",
   "execution_count": 67,
   "id": "dbc1f39a",
   "metadata": {},
   "outputs": [],
   "source": [
    "X_train, X_test, y_train, y_test = train_test_split(X_normal, y, test_size=0.2, random_state=2)"
   ]
  },
  {
   "cell_type": "code",
   "execution_count": 68,
   "id": "afdf2d0f",
   "metadata": {},
   "outputs": [],
   "source": [
    "lr2 = LinearRegression()"
   ]
  },
  {
   "cell_type": "code",
   "execution_count": 70,
   "id": "a5fdd860",
   "metadata": {},
   "outputs": [
    {
     "data": {
      "text/html": [
       "<style>#sk-container-id-3 {color: black;background-color: white;}#sk-container-id-3 pre{padding: 0;}#sk-container-id-3 div.sk-toggleable {background-color: white;}#sk-container-id-3 label.sk-toggleable__label {cursor: pointer;display: block;width: 100%;margin-bottom: 0;padding: 0.3em;box-sizing: border-box;text-align: center;}#sk-container-id-3 label.sk-toggleable__label-arrow:before {content: \"▸\";float: left;margin-right: 0.25em;color: #696969;}#sk-container-id-3 label.sk-toggleable__label-arrow:hover:before {color: black;}#sk-container-id-3 div.sk-estimator:hover label.sk-toggleable__label-arrow:before {color: black;}#sk-container-id-3 div.sk-toggleable__content {max-height: 0;max-width: 0;overflow: hidden;text-align: left;background-color: #f0f8ff;}#sk-container-id-3 div.sk-toggleable__content pre {margin: 0.2em;color: black;border-radius: 0.25em;background-color: #f0f8ff;}#sk-container-id-3 input.sk-toggleable__control:checked~div.sk-toggleable__content {max-height: 200px;max-width: 100%;overflow: auto;}#sk-container-id-3 input.sk-toggleable__control:checked~label.sk-toggleable__label-arrow:before {content: \"▾\";}#sk-container-id-3 div.sk-estimator input.sk-toggleable__control:checked~label.sk-toggleable__label {background-color: #d4ebff;}#sk-container-id-3 div.sk-label input.sk-toggleable__control:checked~label.sk-toggleable__label {background-color: #d4ebff;}#sk-container-id-3 input.sk-hidden--visually {border: 0;clip: rect(1px 1px 1px 1px);clip: rect(1px, 1px, 1px, 1px);height: 1px;margin: -1px;overflow: hidden;padding: 0;position: absolute;width: 1px;}#sk-container-id-3 div.sk-estimator {font-family: monospace;background-color: #f0f8ff;border: 1px dotted black;border-radius: 0.25em;box-sizing: border-box;margin-bottom: 0.5em;}#sk-container-id-3 div.sk-estimator:hover {background-color: #d4ebff;}#sk-container-id-3 div.sk-parallel-item::after {content: \"\";width: 100%;border-bottom: 1px solid gray;flex-grow: 1;}#sk-container-id-3 div.sk-label:hover label.sk-toggleable__label {background-color: #d4ebff;}#sk-container-id-3 div.sk-serial::before {content: \"\";position: absolute;border-left: 1px solid gray;box-sizing: border-box;top: 0;bottom: 0;left: 50%;z-index: 0;}#sk-container-id-3 div.sk-serial {display: flex;flex-direction: column;align-items: center;background-color: white;padding-right: 0.2em;padding-left: 0.2em;position: relative;}#sk-container-id-3 div.sk-item {position: relative;z-index: 1;}#sk-container-id-3 div.sk-parallel {display: flex;align-items: stretch;justify-content: center;background-color: white;position: relative;}#sk-container-id-3 div.sk-item::before, #sk-container-id-3 div.sk-parallel-item::before {content: \"\";position: absolute;border-left: 1px solid gray;box-sizing: border-box;top: 0;bottom: 0;left: 50%;z-index: -1;}#sk-container-id-3 div.sk-parallel-item {display: flex;flex-direction: column;z-index: 1;position: relative;background-color: white;}#sk-container-id-3 div.sk-parallel-item:first-child::after {align-self: flex-end;width: 50%;}#sk-container-id-3 div.sk-parallel-item:last-child::after {align-self: flex-start;width: 50%;}#sk-container-id-3 div.sk-parallel-item:only-child::after {width: 0;}#sk-container-id-3 div.sk-dashed-wrapped {border: 1px dashed gray;margin: 0 0.4em 0.5em 0.4em;box-sizing: border-box;padding-bottom: 0.4em;background-color: white;}#sk-container-id-3 div.sk-label label {font-family: monospace;font-weight: bold;display: inline-block;line-height: 1.2em;}#sk-container-id-3 div.sk-label-container {text-align: center;}#sk-container-id-3 div.sk-container {/* jupyter's `normalize.less` sets `[hidden] { display: none; }` but bootstrap.min.css set `[hidden] { display: none !important; }` so we also need the `!important` here to be able to override the default hidden behavior on the sphinx rendered scikit-learn.org. See: https://github.com/scikit-learn/scikit-learn/issues/21755 */display: inline-block !important;position: relative;}#sk-container-id-3 div.sk-text-repr-fallback {display: none;}</style><div id=\"sk-container-id-3\" class=\"sk-top-container\"><div class=\"sk-text-repr-fallback\"><pre>LinearRegression()</pre><b>In a Jupyter environment, please rerun this cell to show the HTML representation or trust the notebook. <br />On GitHub, the HTML representation is unable to render, please try loading this page with nbviewer.org.</b></div><div class=\"sk-container\" hidden><div class=\"sk-item\"><div class=\"sk-estimator sk-toggleable\"><input class=\"sk-toggleable__control sk-hidden--visually\" id=\"sk-estimator-id-3\" type=\"checkbox\" checked><label for=\"sk-estimator-id-3\" class=\"sk-toggleable__label sk-toggleable__label-arrow\">LinearRegression</label><div class=\"sk-toggleable__content\"><pre>LinearRegression()</pre></div></div></div></div></div>"
      ],
      "text/plain": [
       "LinearRegression()"
      ]
     },
     "execution_count": 70,
     "metadata": {},
     "output_type": "execute_result"
    }
   ],
   "source": [
    "lr2.fit(X_train,y_train)"
   ]
  },
  {
   "cell_type": "code",
   "execution_count": 71,
   "id": "80ee0974",
   "metadata": {},
   "outputs": [],
   "source": [
    "y_pred_norm = lr2.predict(X_test)"
   ]
  },
  {
   "cell_type": "code",
   "execution_count": 72,
   "id": "a487502c",
   "metadata": {},
   "outputs": [
    {
     "name": "stdout",
     "output_type": "stream",
     "text": [
      "r2 score is 0.5008037988909309\n",
      "MAE : 53.11550614802852\n",
      "MSE : 4914.362862873839\n",
      "RMSE : 70.10251680841309\n"
     ]
    }
   ],
   "source": [
    "print(f'r2 score is {r2_score(y_test,y_pred_norm)}')\n",
    "print(f'MAE : {mean_absolute_error(y_test,y_pred_norm)}')\n",
    "print(f'MSE : {mean_squared_error(y_test,y_pred_norm)}')\n",
    "print(f'RMSE : {np.sqrt(mean_squared_error(y_test,y_pred_norm))}')"
   ]
  },
  {
   "cell_type": "code",
   "execution_count": 3,
   "id": "9bbf7261",
   "metadata": {},
   "outputs": [],
   "source": [
    "a = np.array([1,2,3])\n",
    "def minmax(X):\n",
    "    normal = np.array([])\n",
    "    for i in X:\n",
    "        norm = (i - X.min())/(X.max()-X.min())\n",
    "        normal = np.append(normal, norm)\n",
    "        print(norm)\n",
    "    return normal"
   ]
  },
  {
   "cell_type": "code",
   "execution_count": 4,
   "id": "dfc9177d",
   "metadata": {},
   "outputs": [
    {
     "name": "stdout",
     "output_type": "stream",
     "text": [
      "0.0\n",
      "0.5\n",
      "1.0\n"
     ]
    },
    {
     "data": {
      "text/plain": [
       "array([0. , 0.5, 1. ])"
      ]
     },
     "execution_count": 4,
     "metadata": {},
     "output_type": "execute_result"
    }
   ],
   "source": [
    "minmax(a)"
   ]
  },
  {
   "cell_type": "code",
   "execution_count": 8,
   "id": "1d00bfdd",
   "metadata": {},
   "outputs": [],
   "source": [
    "def standard(X):\n",
    "    normal = np.array([])\n",
    "    for i in X:\n",
    "        norm = (i - X.mean())/np.std(X)\n",
    "        normal = np.append(normal, norm)\n",
    "        print(norm)\n",
    "    return normal"
   ]
  },
  {
   "cell_type": "code",
   "execution_count": 6,
   "id": "7ae4001b",
   "metadata": {},
   "outputs": [
    {
     "data": {
      "text/plain": [
       "0.816496580927726"
      ]
     },
     "execution_count": 6,
     "metadata": {},
     "output_type": "execute_result"
    }
   ],
   "source": [
    "np.std(a)"
   ]
  },
  {
   "cell_type": "code",
   "execution_count": 7,
   "id": "a9db7f28",
   "metadata": {},
   "outputs": [
    {
     "data": {
      "text/plain": [
       "2.0"
      ]
     },
     "execution_count": 7,
     "metadata": {},
     "output_type": "execute_result"
    }
   ],
   "source": [
    "a.mean()"
   ]
  },
  {
   "cell_type": "code",
   "execution_count": 10,
   "id": "b5e38a39",
   "metadata": {},
   "outputs": [
    {
     "name": "stdout",
     "output_type": "stream",
     "text": [
      "-1.224744871391589\n",
      "0.0\n",
      "1.224744871391589\n"
     ]
    }
   ],
   "source": [
    "b = standard(a)"
   ]
  },
  {
   "cell_type": "code",
   "execution_count": 11,
   "id": "6601a9ce",
   "metadata": {},
   "outputs": [
    {
     "data": {
      "text/plain": [
       "array([-1.22474487,  0.        ,  1.22474487])"
      ]
     },
     "execution_count": 11,
     "metadata": {},
     "output_type": "execute_result"
    }
   ],
   "source": [
    "b"
   ]
  },
  {
   "cell_type": "code",
   "execution_count": 12,
   "id": "00fe720a",
   "metadata": {},
   "outputs": [
    {
     "data": {
      "text/plain": [
       "0.0"
      ]
     },
     "execution_count": 12,
     "metadata": {},
     "output_type": "execute_result"
    }
   ],
   "source": [
    "b.mean()"
   ]
  },
  {
   "cell_type": "code",
   "execution_count": 13,
   "id": "4e665673",
   "metadata": {},
   "outputs": [
    {
     "data": {
      "text/plain": [
       "0.9999999999999999"
      ]
     },
     "execution_count": 13,
     "metadata": {},
     "output_type": "execute_result"
    }
   ],
   "source": [
    "np.std(b)"
   ]
  },
  {
   "cell_type": "code",
   "execution_count": null,
   "id": "afee6385",
   "metadata": {},
   "outputs": [],
   "source": []
  }
 ],
 "metadata": {
  "kernelspec": {
   "display_name": "Python 3 (ipykernel)",
   "language": "python",
   "name": "python3"
  },
  "language_info": {
   "codemirror_mode": {
    "name": "ipython",
    "version": 3
   },
   "file_extension": ".py",
   "mimetype": "text/x-python",
   "name": "python",
   "nbconvert_exporter": "python",
   "pygments_lexer": "ipython3",
   "version": "3.10.9"
  }
 },
 "nbformat": 4,
 "nbformat_minor": 5
}
