{
 "cells": [
  {
   "cell_type": "markdown",
   "id": "ba6f1605",
   "metadata": {},
   "source": [
    "Parameter\tDescription\n",
    "object(s)\tAny object, and as many as you like. Will be converted to string before printed\n",
    "sep='separator'\tOptional. Specify how to separate the objects, if there is more than one. Default is ' '\n",
    "end='end'\tOptional. Specify what to print at the end. Default is '\\n' (line feed)\n",
    "file\tOptional. An object with a write method. Default is sys.stdout\n",
    "flush\tOptional. A Boolean, specifying if the output is flushed (True) or buffered (False). Default is False"
   ]
  },
  {
   "cell_type": "code",
   "execution_count": 15,
   "id": "09958381",
   "metadata": {},
   "outputs": [],
   "source": [
    "def star(n):\n",
    "    '''Function to demonstrate printing pattern\n",
    "       # outer loop to handle number of rows\n",
    "       # n in this case'''\n",
    "    for i in range(0,n):\n",
    "        # inner loop to handle number of columns\n",
    "        # values changing acc. to outer loop\n",
    "        for j in range(0,i+1):\n",
    "            print('* ', end =' ')\n",
    "        print()"
   ]
  },
  {
   "cell_type": "code",
   "execution_count": 16,
   "id": "95dfc833",
   "metadata": {},
   "outputs": [
    {
     "name": "stdout",
     "output_type": "stream",
     "text": [
      "*  \n",
      "*  *  \n",
      "*  *  *  \n",
      "*  *  *  *  \n",
      "*  *  *  *  *  \n"
     ]
    }
   ],
   "source": [
    "star(5)"
   ]
  },
  {
   "cell_type": "code",
   "execution_count": 21,
   "id": "4cd9ee4b",
   "metadata": {},
   "outputs": [
    {
     "name": "stdout",
     "output_type": "stream",
     "text": [
      "4\n",
      "5\n",
      "5\n",
      "5\n",
      "6\n",
      "7\n",
      "7\n"
     ]
    }
   ],
   "source": [
    "a,b,c,d,e,f = 4,5,5,6,7,7\n",
    "print(a,b,b,c,d,e,f,sep='\\n')"
   ]
  },
  {
   "cell_type": "code",
   "execution_count": 26,
   "id": "f43ebbde",
   "metadata": {},
   "outputs": [
    {
     "name": "stdout",
     "output_type": "stream",
     "text": [
      "* \n",
      "* * \n",
      "* * * \n",
      "* * * * \n",
      "* * * * * \n"
     ]
    }
   ],
   "source": [
    "n = 5\n",
    "for i in range(1, n + 1):\n",
    "    print(\"* \" * i)\n"
   ]
  },
  {
   "cell_type": "code",
   "execution_count": 29,
   "id": "b84699d8",
   "metadata": {},
   "outputs": [
    {
     "name": "stdout",
     "output_type": "stream",
     "text": [
      "* * * * * \n",
      "* * * * \n",
      "* * * \n",
      "* * \n",
      "* \n"
     ]
    }
   ],
   "source": [
    "for i in range(5,0,-1):\n",
    "    print(\"* \" * i)"
   ]
  },
  {
   "cell_type": "code",
   "execution_count": 88,
   "id": "eb519668",
   "metadata": {},
   "outputs": [
    {
     "name": "stdout",
     "output_type": "stream",
     "text": [
      "1   2   3   4   5   \n",
      "6   7   8   9   \n",
      "10   11   12   \n",
      "13   14   \n",
      "15   \n"
     ]
    }
   ],
   "source": [
    "n = 5\n",
    "num =1\n",
    "for i in range(0,n):\n",
    "    for j in range(n,i,-1):\n",
    "        print(num, end ='   ')\n",
    "        num = num+1\n",
    "    print()"
   ]
  },
  {
   "cell_type": "code",
   "execution_count": 38,
   "id": "59395cf9",
   "metadata": {},
   "outputs": [
    {
     "name": "stdout",
     "output_type": "stream",
     "text": [
      "* \n",
      "* * \n",
      "* * * \n",
      "* * * * \n",
      "* * * * * \n"
     ]
    }
   ],
   "source": [
    "#python3 code to print pyramid pattern using recursion\n",
    "def pypart(n):\n",
    "    if n==0:\n",
    "        return\n",
    "    else:\n",
    "        pypart(n-1)\n",
    "        print(\"* \"*n)\n",
    "  \n",
    "# Driver Code\n",
    "n = 5\n",
    "pypart(n)"
   ]
  },
  {
   "cell_type": "code",
   "execution_count": 39,
   "id": "796982ff",
   "metadata": {},
   "outputs": [
    {
     "name": "stdout",
     "output_type": "stream",
     "text": [
      "* \r\n",
      "* * \r\n",
      "* * * \r\n",
      "* * * * \r\n",
      "* * * * * \r\n"
     ]
    }
   ],
   "source": [
    "# input\n",
    "n=5\n",
    " \n",
    "i=1;j=0\n",
    "# while loop check the condition until the\n",
    "# condition become false. if it is true then \n",
    "# enter in to loop and print the pattern\n",
    "while(i<=n):\n",
    "    while(j<=i-1):\n",
    "        print(\"* \",end=\"\") \n",
    "        j+=1\n",
    "     # printing next line for each row\n",
    "    print(\"\\r\") \n",
    "    j=0;i+=1\n",
    " "
   ]
  },
  {
   "cell_type": "code",
   "execution_count": 51,
   "id": "6bc9f551",
   "metadata": {},
   "outputs": [
    {
     "name": "stdout",
     "output_type": "stream",
     "text": [
      "     *\n",
      "    * *\n",
      "   * * *\n",
      "  * * * *\n",
      " * * * * *\n"
     ]
    }
   ],
   "source": [
    "height = 5\n",
    "for row in range(1, height+ 1):\n",
    "    print(\" \" * (height - row) +\" *\" * row)"
   ]
  },
  {
   "cell_type": "code",
   "execution_count": 62,
   "id": "15428289",
   "metadata": {},
   "outputs": [
    {
     "name": "stdout",
     "output_type": "stream",
     "text": [
      "        * \n",
      "      * * \n",
      "    * * * \n",
      "  * * * * \n",
      "* * * * * \n"
     ]
    }
   ],
   "source": [
    "# number of spaces\n",
    "k = 2*n - 2\n",
    "\n",
    "# outer loop to handle number of rows\n",
    "for i in range(0, n):\n",
    "    \n",
    "    # inner loop to handle number spaces\n",
    "    # values changing acc. to requirement\n",
    "    for j in range(0, k):\n",
    "        print(end=\" \")\n",
    "\n",
    "    k = k-2\n",
    "\n",
    "    for j in range(0,i+1):\n",
    "        print('* ', end ='')\n",
    "        \n",
    "    print()"
   ]
  },
  {
   "cell_type": "code",
   "execution_count": 65,
   "id": "517a702a",
   "metadata": {},
   "outputs": [
    {
     "name": "stdout",
     "output_type": "stream",
     "text": [
      "    * \n",
      "   * * \n",
      "  * * * \n",
      " * * * * \n",
      "* * * * * \n"
     ]
    }
   ],
   "source": [
    "# number of spaces\n",
    "k = n - 1\n",
    "\n",
    "# outer loop to handle number of rows\n",
    "for i in range(0, n):\n",
    "    \n",
    "    # inner loop to handle number spaces\n",
    "    # values changing acc. to requirement\n",
    "    for j in range(0, k):\n",
    "        print(end=\" \")\n",
    "\n",
    "    k = k-1\n",
    "\n",
    "    for j in range(0,i+1):\n",
    "        print('* ', end ='')\n",
    "\n",
    "    print()"
   ]
  },
  {
   "cell_type": "code",
   "execution_count": 67,
   "id": "e47b17ec",
   "metadata": {},
   "outputs": [
    {
     "name": "stdout",
     "output_type": "stream",
     "text": [
      "100 \r\n",
      "100 101 \r\n",
      "100 101 102 \r\n",
      "100 101 102 103 \r\n",
      "100 101 102 103 104 \r\n"
     ]
    }
   ],
   "source": [
    "# initialising starting number \n",
    "#num = 1\n",
    "\n",
    "# outer loop to handle number of rows\n",
    "for i in range(0, n):\n",
    "\n",
    "    # re assigning num\n",
    "    num = 100\n",
    "\n",
    "    # inner loop to handle number of columns\n",
    "        # values changing acc. to outer loop\n",
    "    for j in range(0, i+1):\n",
    "\n",
    "            # printing number\n",
    "        print(num, end=\" \")\n",
    "\n",
    "        # incrementing number at each column\n",
    "        num = num + 1\n",
    "\n",
    "    # ending line after each row\n",
    "    print(\"\\r\")"
   ]
  },
  {
   "cell_type": "code",
   "execution_count": 69,
   "id": "fb05413a",
   "metadata": {},
   "outputs": [
    {
     "name": "stdout",
     "output_type": "stream",
     "text": [
      "1 \r\n",
      "2 3 \r\n",
      "4 5 6 \r\n",
      "7 8 9 10 \r\n",
      "11 12 13 14 15 \r\n"
     ]
    }
   ],
   "source": [
    "# initialising starting number \n",
    "num = 1\n",
    "\n",
    "# outer loop to handle number of rows\n",
    "for i in range(0, n):\n",
    "\n",
    "    # re assigning num\n",
    "    #num = 100\n",
    "\n",
    "    # inner loop to handle number of columns\n",
    "        # values changing acc. to outer loop\n",
    "    for j in range(0, i+1):\n",
    "\n",
    "            # printing number\n",
    "        print(num, end=\" \")\n",
    "\n",
    "        # incrementing number at each column\n",
    "        num = num + 1\n",
    "\n",
    "    # ending line after each row\n",
    "    print(\"\\r\")"
   ]
  },
  {
   "cell_type": "code",
   "execution_count": 70,
   "id": "e506b8de",
   "metadata": {},
   "outputs": [
    {
     "data": {
      "text/plain": [
       "'A'"
      ]
     },
     "execution_count": 70,
     "metadata": {},
     "output_type": "execute_result"
    }
   ],
   "source": [
    "chr(65)"
   ]
  },
  {
   "cell_type": "code",
   "execution_count": 71,
   "id": "67bc025f",
   "metadata": {},
   "outputs": [
    {
     "name": "stdout",
     "output_type": "stream",
     "text": [
      "A \r\n",
      "A B \r\n",
      "A B C \r\n",
      "A B C D \r\n",
      "A B C D E \r\n"
     ]
    }
   ],
   "source": [
    "# initialising starting number \n",
    "#num = 65\n",
    "\n",
    "# outer loop to handle number of rows\n",
    "for i in range(0, n):\n",
    "\n",
    "    # re assigning num\n",
    "    num = 65\n",
    "\n",
    "    # inner loop to handle number of columns\n",
    "        # values changing acc. to outer loop\n",
    "    for j in range(0, i+1):\n",
    "\n",
    "            # printing number\n",
    "        print(chr(num), end=\" \")\n",
    "\n",
    "        # incrementing number at each column\n",
    "        num = num + 1\n",
    "\n",
    "    # ending line after each row\n",
    "    print(\"\\r\")"
   ]
  },
  {
   "cell_type": "code",
   "execution_count": 72,
   "id": "2b7bdff8",
   "metadata": {},
   "outputs": [
    {
     "name": "stdout",
     "output_type": "stream",
     "text": [
      "A \r\n",
      "B C \r\n",
      "D E F \r\n",
      "G H I J \r\n",
      "K L M N O \r\n"
     ]
    }
   ],
   "source": [
    "# initialising starting number \n",
    "num = 65\n",
    "\n",
    "# outer loop to handle number of rows\n",
    "for i in range(0, n):\n",
    "\n",
    "    # re assigning num\n",
    "    #num = 65\n",
    "\n",
    "    # inner loop to handle number of columns\n",
    "        # values changing acc. to outer loop\n",
    "    for j in range(0, i+1):\n",
    "\n",
    "            # printing number\n",
    "        print(chr(num), end=\" \")\n",
    "\n",
    "        # incrementing number at each column\n",
    "        num = num + 1\n",
    "\n",
    "    # ending line after each row\n",
    "    print(\"\\r\")"
   ]
  },
  {
   "cell_type": "code",
   "execution_count": 73,
   "id": "dba6b041",
   "metadata": {},
   "outputs": [
    {
     "name": "stdout",
     "output_type": "stream",
     "text": [
      "      A \n",
      "     A B \n",
      "    A B C \n",
      "   A B C D \n",
      "  A B C D E \n"
     ]
    }
   ],
   "source": [
    "n = 5\n",
    "alph = 65\n",
    "for i in range(0, n):\n",
    "    print(\" \" * (n-i), end=\" \")\n",
    "    for j in range(0, i+1):\n",
    "        print(chr(alph), end=\" \")\n",
    "        alph += 1\n",
    "    alph = 65\n",
    "    print()"
   ]
  },
  {
   "cell_type": "code",
   "execution_count": 74,
   "id": "9673afc1",
   "metadata": {},
   "outputs": [
    {
     "name": "stdout",
     "output_type": "stream",
     "text": [
      "      A \n",
      "     B C \n",
      "    D E F \n",
      "   G H I J \n",
      "  K L M N O \n"
     ]
    }
   ],
   "source": [
    "n = 5\n",
    "alph = 65\n",
    "for i in range(0, n):\n",
    "    print(\" \" * (n-i), end=\" \")\n",
    "    for j in range(0, i+1):\n",
    "        print(chr(alph), end=\" \")\n",
    "        alph += 1\n",
    "    #alph = 65\n",
    "    print()"
   ]
  },
  {
   "cell_type": "code",
   "execution_count": 76,
   "id": "359c83c3",
   "metadata": {},
   "outputs": [
    {
     "name": "stdout",
     "output_type": "stream",
     "text": [
      "* * * * * \n",
      "* * * * * \n",
      "* * * * * \n",
      "* * * * * \n",
      "* * * * * \n"
     ]
    }
   ],
   "source": [
    "for i in range(5):\n",
    "    for j in range(5):\n",
    "        print(\"* \", end=\"\")\n",
    "    print()"
   ]
  },
  {
   "cell_type": "code",
   "execution_count": 81,
   "id": "e20763a9",
   "metadata": {},
   "outputs": [
    {
     "name": "stdout",
     "output_type": "stream",
     "text": [
      "A B C D E \n",
      " F G H I \n",
      "  J K L \n",
      "   M N \n",
      "    O \n"
     ]
    }
   ],
   "source": [
    "n = 5\n",
    "alph = 65\n",
    "for i in range(0, n):\n",
    "    for j in range(i):\n",
    "        print(\" \", end=\"\")\n",
    "    for j in range(i,5):\n",
    "        print(chr(alph), end=\" \")\n",
    "        alph += 1\n",
    "    #alph = 65\n",
    "    print()"
   ]
  },
  {
   "cell_type": "code",
   "execution_count": 83,
   "id": "484bd5b0",
   "metadata": {},
   "outputs": [
    {
     "name": "stdout",
     "output_type": "stream",
     "text": [
      "     * \n",
      "    * * \n",
      "   * * * \n",
      "  * * * * \n",
      " * * * * * \n"
     ]
    }
   ],
   "source": [
    "for i in range(5):\n",
    "    for j in range(5, i, -1):\n",
    "        print(\" \", end=\"\")\n",
    "    for k in range(i + 1):\n",
    "        print(\"* \", end=\"\")\n",
    "    print()"
   ]
  },
  {
   "cell_type": "code",
   "execution_count": 84,
   "id": "bea64cc4",
   "metadata": {},
   "outputs": [],
   "source": [
    "from contextlib import redirect_stdout\n",
    "\n",
    "with open('out.txt', 'w') as f:\n",
    "    with redirect_stdout(f):\n",
    "        print('data')"
   ]
  },
  {
   "cell_type": "code",
   "execution_count": null,
   "id": "9e75c181",
   "metadata": {},
   "outputs": [],
   "source": []
  }
 ],
 "metadata": {
  "kernelspec": {
   "display_name": "Python 3 (ipykernel)",
   "language": "python",
   "name": "python3"
  },
  "language_info": {
   "codemirror_mode": {
    "name": "ipython",
    "version": 3
   },
   "file_extension": ".py",
   "mimetype": "text/x-python",
   "name": "python",
   "nbconvert_exporter": "python",
   "pygments_lexer": "ipython3",
   "version": "3.11.5"
  }
 },
 "nbformat": 4,
 "nbformat_minor": 5
}
