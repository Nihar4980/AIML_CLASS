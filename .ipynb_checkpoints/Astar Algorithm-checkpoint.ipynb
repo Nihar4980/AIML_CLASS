{
 "cells": [
  {
   "cell_type": "code",
   "execution_count": 2,
   "id": "b949db09",
   "metadata": {},
   "outputs": [],
   "source": [
    "def aStarAlgo(start_node, stop_node):\n",
    "    open_set = set(start_node)\n",
    "    closed_set = set()\n",
    "    \n",
    "    g = {}\n",
    "    parents = {}\n",
    "    \n",
    "    g[start_node] = 0\n",
    "    \n",
    "    parents[start_node] = start_node\n",
    "    \n",
    "    while len(open_set) > 0:\n",
    "        n = None\n",
    "        \n",
    "        #node with lowest f() is found\n",
    "        for v in open_set:\n",
    "            if n == None or g[v] + heuristic(v) < g[n] + heuristic(n):\n",
    "                n == v\n",
    "        \n",
    "        if n == stop_node or Graph_node[n] == None:\n",
    "            pass\n",
    "        \n",
    "        else:\n",
    "            for (m, weight) in get_neighbors(n):\n",
    "                if m not in open_set and m not in closed_set:\n",
    "                    open_set.add(m)\n",
    "                    parents[m] = n\n",
    "                    g[m] = g[n] + weight\n",
    "                    \n",
    "                else:\n",
    "                    if g[m] > g[n] + weight:\n",
    "                        g[m] = g[n] + weight\n",
    "                        \n",
    "                        parents[m] = n\n",
    "                        \n",
    "                        if m in closed_set:\n",
    "                            closed_set.remove(m)\n",
    "                            open_set.add(m)\n",
    "        if n == None:\n",
    "            print('Path does not exists!')\n",
    "            return None\n",
    "        \n",
    "        if n == stop_node:\n",
    "            path = []\n",
    "            \n",
    "            while parents[n] != n:\n",
    "                path.append(n)\n",
    "                n = parent[n]\n",
    "                \n",
    "            path.append(start_node)\n",
    "            \n",
    "            path.reverse()\n",
    "            \n",
    "            print(f'Path found: {path}')\n",
    "            return path\n",
    "        \n",
    "        open_set.remove(n)\n",
    "        closed_set.add(n)\n",
    "        \n",
    "    print('Path does not exist')\n",
    "    return None\n",
    "            "
   ]
  },
  {
   "cell_type": "code",
   "execution_count": 3,
   "id": "501fd278",
   "metadata": {},
   "outputs": [],
   "source": [
    "def get_neighbors(v):\n",
    "    if v in Graph_nodes:\n",
    "        return Graph_nodes[v]\n",
    "    else:\n",
    "        return None"
   ]
  },
  {
   "cell_type": "code",
   "execution_count": 4,
   "id": "2f1862ec",
   "metadata": {},
   "outputs": [],
   "source": [
    "def heuristic(n):\n",
    "    H_dist = {\n",
    "        'A': 11,\n",
    "        'B': 6,\n",
    "        'C': 99,\n",
    "        'D': 1,\n",
    "        'E': 7,\n",
    "        'G': 0\n",
    "    }\n",
    "    \n",
    "    return H_dist(n)"
   ]
  },
  {
   "cell_type": "code",
   "execution_count": 8,
   "id": "1b1ae309",
   "metadata": {},
   "outputs": [],
   "source": [
    "Graph_node = {\n",
    "        'A': [('B',2),('E', 3)],\n",
    "        'B': [('C',1),('G',9)],\n",
    "        'C': None,\n",
    "        'E': [('D',6)],\n",
    "        'D': [('G', 1)]\n",
    "}"
   ]
  },
  {
   "cell_type": "code",
   "execution_count": 10,
   "id": "f3cf58f7",
   "metadata": {},
   "outputs": [
    {
     "ename": "KeyError",
     "evalue": "None",
     "output_type": "error",
     "traceback": [
      "\u001b[1;31m---------------------------------------------------------------------------\u001b[0m",
      "\u001b[1;31mKeyError\u001b[0m                                  Traceback (most recent call last)",
      "Cell \u001b[1;32mIn[10], line 1\u001b[0m\n\u001b[1;32m----> 1\u001b[0m aStarAlgo(\u001b[38;5;124m'\u001b[39m\u001b[38;5;124mA\u001b[39m\u001b[38;5;124m'\u001b[39m,\u001b[38;5;124m'\u001b[39m\u001b[38;5;124mG\u001b[39m\u001b[38;5;124m'\u001b[39m)\n",
      "Cell \u001b[1;32mIn[2], line 20\u001b[0m, in \u001b[0;36maStarAlgo\u001b[1;34m(start_node, stop_node)\u001b[0m\n\u001b[0;32m     17\u001b[0m     \u001b[38;5;28;01mif\u001b[39;00m n \u001b[38;5;241m==\u001b[39m \u001b[38;5;28;01mNone\u001b[39;00m \u001b[38;5;129;01mor\u001b[39;00m g[v] \u001b[38;5;241m+\u001b[39m heuristic(v) \u001b[38;5;241m<\u001b[39m g[n] \u001b[38;5;241m+\u001b[39m heuristic(n):\n\u001b[0;32m     18\u001b[0m         n \u001b[38;5;241m==\u001b[39m v\n\u001b[1;32m---> 20\u001b[0m \u001b[38;5;28;01mif\u001b[39;00m n \u001b[38;5;241m==\u001b[39m stop_node \u001b[38;5;129;01mor\u001b[39;00m Graph_node[n] \u001b[38;5;241m==\u001b[39m \u001b[38;5;28;01mNone\u001b[39;00m:\n\u001b[0;32m     21\u001b[0m     \u001b[38;5;28;01mpass\u001b[39;00m\n\u001b[0;32m     23\u001b[0m \u001b[38;5;28;01melse\u001b[39;00m:\n",
      "\u001b[1;31mKeyError\u001b[0m: None"
     ]
    }
   ],
   "source": [
    "aStarAlgo('A','G')"
   ]
  },
  {
   "cell_type": "code",
   "execution_count": 14,
   "id": "7c3bbd5a",
   "metadata": {},
   "outputs": [
    {
     "name": "stdout",
     "output_type": "stream",
     "text": [
      "<class 'NoneType'>\n"
     ]
    }
   ],
   "source": [
    "print(type(Graph_node['C']))"
   ]
  },
  {
   "cell_type": "code",
   "execution_count": 91,
   "id": "708e8228",
   "metadata": {},
   "outputs": [],
   "source": [
    "tree = {'S': [['A', 1], ['B', 5], ['C', 8]],\n",
    "'A': [['S', 1], ['D', 3], ['E', 7], ['G', 9]],\n",
    "'B': [['S', 5], ['G', 4]],\n",
    "'C': [['S', 8], ['G', 5]],\n",
    "'D': [['A', 3]],\n",
    "'E': [['A', 7]]}\n",
    "tree2 = {'S': [['A', 1], ['B', 2]],\n",
    "'A': [['S', 1]],\n",
    "'B': [['S', 2], ['C', 3], ['D', 4]],\n",
    "'C': [['B', 2], ['E', 5], ['F', 6]],\n",
    "'D': [['B', 4], ['G', 7]],\n",
    "'E': [['C', 5]],\n",
    "'F': [['C', 6]]\n",
    "}\n",
    "heuristic = {'S': 8, 'A': 8, 'B': 4, 'C': 3, 'D': 5000, 'E': 5000, 'G': 0}\n",
    "heuristic2 = {'S': 0, 'A': 5000, 'B': 2, 'C': 3, 'D': 4, 'E': 5000, 'F': 5000, 'G': 0}\n",
    "cost = {'S': 0} # total cost for nodes visited"
   ]
  },
  {
   "cell_type": "code",
   "execution_count": 92,
   "id": "b46731c0",
   "metadata": {},
   "outputs": [],
   "source": [
    "def AStarSearch(tree, heuristic):\n",
    "    first_key, first_value = next(iter(heuristic.items()))\n",
    "    last_key, last_value = list(heuristic.items())[-1]\n",
    "    closed = []\n",
    "    opened = [[first_key, first_value]]\n",
    "    \n",
    "    \n",
    "    while True:\n",
    "        fn = [i[1] for i in opened]\n",
    "        choosen_index = fn.index(min(fn))\n",
    "        node = opened[choosen_index][0]\n",
    "        closed.append(opened[choosen_index])\n",
    "        del opened[choosen_index]\n",
    "        \n",
    "        if closed[-1][0] == last_key:\n",
    "            break\n",
    "            \n",
    "        for item in tree[node]:\n",
    "            if item[0] in [closed_item[0] for closed_item in closed]:\n",
    "                continue\n",
    "            cost.update({item[0]: cost[node] + item[1]})\n",
    "            fn_node = cost[node] + heuristic[item[0]] + item[1]\n",
    "            temp = [item[0], fn_node]\n",
    "            opened.append(temp)\n",
    "            \n",
    "    '''find optimal Sequence'''\n",
    "    trace_node = last_key\n",
    "    optimal_sequence = [last_key]\n",
    "    \n",
    "    for i in range(len(closed)-2,-1,-1):\n",
    "        check_node = closed[i][0]\n",
    "        if trace_node in [children[0] for children in tree[check_node]]:\n",
    "            children_cost = [temp[1] for temp in tree[check_node]]\n",
    "            children_nodes = [temp[0] for temp in tree[check_node]]\n",
    "            \n",
    "            if cost[check_node] + children_cost[children_nodes.index(trace_node)] == cost[trace_node]:\n",
    "                optimal_sequence.append(check_node)\n",
    "                trace_node = check_node\n",
    "                \n",
    "    optimal_sequence.reverse()\n",
    "    \n",
    "    return closed, optimal_sequence"
   ]
  },
  {
   "cell_type": "code",
   "execution_count": 95,
   "id": "ea8e4572",
   "metadata": {},
   "outputs": [],
   "source": [
    "_,optimal_sequence = AStarSearch(tree, heuristic)"
   ]
  },
  {
   "cell_type": "code",
   "execution_count": 96,
   "id": "76a32ce2",
   "metadata": {},
   "outputs": [
    {
     "data": {
      "text/plain": [
       "['S', 'B', 'G']"
      ]
     },
     "execution_count": 96,
     "metadata": {},
     "output_type": "execute_result"
    }
   ],
   "source": [
    "optimal_sequence"
   ]
  },
  {
   "cell_type": "code",
   "execution_count": 98,
   "id": "8ffae35b",
   "metadata": {},
   "outputs": [
    {
     "data": {
      "text/plain": [
       "{'S': [['A', 1], ['B', 5], ['C', 8]],\n",
       " 'A': [['S', 1], ['D', 3], ['E', 7], ['G', 9]],\n",
       " 'B': [['S', 5], ['G', 4]],\n",
       " 'C': [['S', 8], ['G', 5]],\n",
       " 'D': [['A', 3]],\n",
       " 'E': [['A', 7]]}"
      ]
     },
     "execution_count": 98,
     "metadata": {},
     "output_type": "execute_result"
    }
   ],
   "source": [
    "tree"
   ]
  },
  {
   "cell_type": "code",
   "execution_count": 107,
   "id": "c8a555a8",
   "metadata": {},
   "outputs": [],
   "source": [
    "first_key, first_value = next(iter(heuristic.items()))"
   ]
  },
  {
   "cell_type": "code",
   "execution_count": 108,
   "id": "41a4858f",
   "metadata": {},
   "outputs": [
    {
     "data": {
      "text/plain": [
       "['S', 8]"
      ]
     },
     "execution_count": 108,
     "metadata": {},
     "output_type": "execute_result"
    }
   ],
   "source": [
    "[first_key, first_value]"
   ]
  },
  {
   "cell_type": "code",
   "execution_count": 67,
   "id": "530ae1de",
   "metadata": {},
   "outputs": [],
   "source": [
    "opened = [['S',8]]"
   ]
  },
  {
   "cell_type": "code",
   "execution_count": 68,
   "id": "46f2f5d0",
   "metadata": {},
   "outputs": [
    {
     "data": {
      "text/plain": [
       "[8]"
      ]
     },
     "execution_count": 68,
     "metadata": {},
     "output_type": "execute_result"
    }
   ],
   "source": [
    "fn = [i[1] for i in opened]\n",
    "fn"
   ]
  },
  {
   "cell_type": "code",
   "execution_count": 69,
   "id": "31765a57",
   "metadata": {},
   "outputs": [],
   "source": [
    "choosen_index = fn.index(min(fn))"
   ]
  },
  {
   "cell_type": "code",
   "execution_count": 42,
   "id": "31b1d086",
   "metadata": {},
   "outputs": [
    {
     "data": {
      "text/plain": [
       "8"
      ]
     },
     "execution_count": 42,
     "metadata": {},
     "output_type": "execute_result"
    }
   ],
   "source": [
    "min(fn)"
   ]
  },
  {
   "cell_type": "code",
   "execution_count": 43,
   "id": "4eff67d8",
   "metadata": {},
   "outputs": [
    {
     "data": {
      "text/plain": [
       "'S'"
      ]
     },
     "execution_count": 43,
     "metadata": {},
     "output_type": "execute_result"
    }
   ],
   "source": [
    "opened[0][0]"
   ]
  },
  {
   "cell_type": "code",
   "execution_count": 45,
   "id": "96620b6d",
   "metadata": {},
   "outputs": [
    {
     "data": {
      "text/plain": [
       "['S', 8]"
      ]
     },
     "execution_count": 45,
     "metadata": {},
     "output_type": "execute_result"
    }
   ],
   "source": [
    "[i for i in opened[choosen_index]]"
   ]
  },
  {
   "cell_type": "code",
   "execution_count": 33,
   "id": "4c42a657",
   "metadata": {},
   "outputs": [
    {
     "data": {
      "text/plain": [
       "[]"
      ]
     },
     "execution_count": 33,
     "metadata": {},
     "output_type": "execute_result"
    }
   ],
   "source": [
    "opened"
   ]
  },
  {
   "cell_type": "code",
   "execution_count": 37,
   "id": "62422b41",
   "metadata": {},
   "outputs": [
    {
     "name": "stdout",
     "output_type": "stream",
     "text": [
      "A\n",
      "B\n",
      "C\n"
     ]
    }
   ],
   "source": [
    "for item in tree['S']:\n",
    "    print(item[0])"
   ]
  },
  {
   "cell_type": "code",
   "execution_count": 55,
   "id": "8b3a528b",
   "metadata": {},
   "outputs": [],
   "source": [
    "for item in tree[node]:\n",
    "            if item[0] in [closed_item for closed_item in closed]:\n",
    "                continue\n",
    "            cost.update({item[0]: cost[node] + item[1]})\n",
    "            fn_node = cost[node] + heuristic[item[0]] + item[1]"
   ]
  },
  {
   "cell_type": "code",
   "execution_count": 52,
   "id": "6ff0d639",
   "metadata": {},
   "outputs": [
    {
     "data": {
      "text/plain": [
       "{'S': 0, 'A': 1, 'B': 5, 'C': 8}"
      ]
     },
     "execution_count": 52,
     "metadata": {},
     "output_type": "execute_result"
    }
   ],
   "source": [
    "cost"
   ]
  },
  {
   "cell_type": "code",
   "execution_count": 56,
   "id": "e3568c0f",
   "metadata": {},
   "outputs": [
    {
     "data": {
      "text/plain": [
       "11"
      ]
     },
     "execution_count": 56,
     "metadata": {},
     "output_type": "execute_result"
    }
   ],
   "source": [
    "fn_node"
   ]
  },
  {
   "cell_type": "code",
   "execution_count": 57,
   "id": "8c6408b4",
   "metadata": {},
   "outputs": [
    {
     "data": {
      "text/plain": [
       "0"
      ]
     },
     "execution_count": 57,
     "metadata": {},
     "output_type": "execute_result"
    }
   ],
   "source": [
    "cost[node]"
   ]
  },
  {
   "cell_type": "code",
   "execution_count": 58,
   "id": "d20dce5f",
   "metadata": {},
   "outputs": [
    {
     "data": {
      "text/plain": [
       "'C'"
      ]
     },
     "execution_count": 58,
     "metadata": {},
     "output_type": "execute_result"
    }
   ],
   "source": [
    "item[0]"
   ]
  },
  {
   "cell_type": "code",
   "execution_count": 63,
   "id": "ab020ec1",
   "metadata": {},
   "outputs": [
    {
     "data": {
      "text/plain": [
       "[3, 2, 1, 0]"
      ]
     },
     "execution_count": 63,
     "metadata": {},
     "output_type": "execute_result"
    }
   ],
   "source": [
    "[i for i in range(len([1,2,3,4,5])-2,-1,-1)]"
   ]
  },
  {
   "cell_type": "code",
   "execution_count": 70,
   "id": "3e6c7b72",
   "metadata": {},
   "outputs": [],
   "source": [
    "closed = []"
   ]
  },
  {
   "cell_type": "code",
   "execution_count": 71,
   "id": "e682360c",
   "metadata": {},
   "outputs": [],
   "source": [
    "closed.append(opened[choosen_index])"
   ]
  },
  {
   "cell_type": "code",
   "execution_count": 72,
   "id": "d26a592e",
   "metadata": {},
   "outputs": [
    {
     "data": {
      "text/plain": [
       "[['S', 8]]"
      ]
     },
     "execution_count": 72,
     "metadata": {},
     "output_type": "execute_result"
    }
   ],
   "source": [
    "closed"
   ]
  },
  {
   "cell_type": "code",
   "execution_count": 112,
   "id": "e07b345b",
   "metadata": {},
   "outputs": [],
   "source": [
    "last_key, last_value = list(heuristic.items())[-1]"
   ]
  },
  {
   "cell_type": "code",
   "execution_count": 113,
   "id": "9c294737",
   "metadata": {},
   "outputs": [
    {
     "data": {
      "text/plain": [
       "('G', 0)"
      ]
     },
     "execution_count": 113,
     "metadata": {},
     "output_type": "execute_result"
    }
   ],
   "source": [
    "last_key, last_value"
   ]
  },
  {
   "cell_type": "code",
   "execution_count": 114,
   "id": "955319c8",
   "metadata": {},
   "outputs": [
    {
     "data": {
      "text/plain": [
       "('G', 0)"
      ]
     },
     "execution_count": 114,
     "metadata": {},
     "output_type": "execute_result"
    }
   ],
   "source": [
    "list(heuristic.items())[-1]"
   ]
  },
  {
   "cell_type": "code",
   "execution_count": 115,
   "id": "8e833d19",
   "metadata": {},
   "outputs": [
    {
     "data": {
      "text/plain": [
       "3"
      ]
     },
     "execution_count": 115,
     "metadata": {},
     "output_type": "execute_result"
    }
   ],
   "source": [
    "a, b, c = [1, 2, 3]\n",
    "c"
   ]
  },
  {
   "cell_type": "code",
   "execution_count": null,
   "id": "8143c50b",
   "metadata": {},
   "outputs": [],
   "source": []
  }
 ],
 "metadata": {
  "kernelspec": {
   "display_name": "Python 3 (ipykernel)",
   "language": "python",
   "name": "python3"
  },
  "language_info": {
   "codemirror_mode": {
    "name": "ipython",
    "version": 3
   },
   "file_extension": ".py",
   "mimetype": "text/x-python",
   "name": "python",
   "nbconvert_exporter": "python",
   "pygments_lexer": "ipython3",
   "version": "3.11.4"
  }
 },
 "nbformat": 4,
 "nbformat_minor": 5
}
