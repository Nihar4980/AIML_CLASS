{
 "cells": [
  {
   "cell_type": "code",
   "execution_count": 3,
   "id": "8f4e94e2",
   "metadata": {},
   "outputs": [],
   "source": [
    "# positional Arguments\n",
    "def power(a=1,b=2):\n",
    "    return a**b"
   ]
  },
  {
   "cell_type": "code",
   "execution_count": 2,
   "id": "c4d2f4e7",
   "metadata": {},
   "outputs": [
    {
     "data": {
      "text/plain": [
       "81"
      ]
     },
     "execution_count": 2,
     "metadata": {},
     "output_type": "execute_result"
    }
   ],
   "source": [
    "power(9,2)"
   ]
  },
  {
   "cell_type": "code",
   "execution_count": 4,
   "id": "15e65ad3",
   "metadata": {},
   "outputs": [
    {
     "data": {
      "text/plain": [
       "81"
      ]
     },
     "execution_count": 4,
     "metadata": {},
     "output_type": "execute_result"
    }
   ],
   "source": [
    "power(9)"
   ]
  },
  {
   "cell_type": "markdown",
   "id": "81233c65",
   "metadata": {},
   "source": [
    "# *args and **kwargs"
   ]
  },
  {
   "cell_type": "markdown",
   "id": "d92c00f4",
   "metadata": {},
   "source": [
    "### *args and **kwargs - are special python keyword that are used to pass the variable length of arguments to a function"
   ]
  },
  {
   "cell_type": "markdown",
   "id": "ef547702",
   "metadata": {},
   "source": [
    "## *arg\n",
    "- allow pass variable number of non-keyword arguments"
   ]
  },
  {
   "cell_type": "code",
   "execution_count": 6,
   "id": "cc769c71",
   "metadata": {},
   "outputs": [],
   "source": [
    "def multiply(a,b,c):\n",
    "    return a*b*c"
   ]
  },
  {
   "cell_type": "code",
   "execution_count": 7,
   "id": "49181a84",
   "metadata": {},
   "outputs": [
    {
     "data": {
      "text/plain": [
       "180"
      ]
     },
     "execution_count": 7,
     "metadata": {},
     "output_type": "execute_result"
    }
   ],
   "source": [
    "multiply(9,4,5)"
   ]
  },
  {
   "cell_type": "code",
   "execution_count": 11,
   "id": "7ae75543",
   "metadata": {},
   "outputs": [],
   "source": [
    "def mult(*args):\n",
    "    product = 1\n",
    "    \n",
    "    for i in args:\n",
    "        product = product * i\n",
    "    print(args) # python automatically add number of arguments in tuple\n",
    "    return product"
   ]
  },
  {
   "cell_type": "code",
   "execution_count": 12,
   "id": "1d26b7b5",
   "metadata": {},
   "outputs": [
    {
     "name": "stdout",
     "output_type": "stream",
     "text": [
      "(9, 4, 4, 4, 44, 4)\n"
     ]
    },
    {
     "data": {
      "text/plain": [
       "101376"
      ]
     },
     "execution_count": 12,
     "metadata": {},
     "output_type": "execute_result"
    }
   ],
   "source": [
    "mult(9,4,4,4,44,4)"
   ]
  },
  {
   "cell_type": "code",
   "execution_count": 13,
   "id": "128d8c84",
   "metadata": {},
   "outputs": [
    {
     "name": "stdout",
     "output_type": "stream",
     "text": [
      "(1, 2, 3, 4, 5)\n"
     ]
    },
    {
     "data": {
      "text/plain": [
       "120"
      ]
     },
     "execution_count": 13,
     "metadata": {},
     "output_type": "execute_result"
    }
   ],
   "source": [
    "mult(1,2,3,4,5)"
   ]
  },
  {
   "cell_type": "code",
   "execution_count": 19,
   "id": "9f7e720e",
   "metadata": {},
   "outputs": [],
   "source": [
    "def add(*add): # input only * with any args or var code will work\n",
    "    '''\n",
    "    function add number of variables'''\n",
    "    addition = 0\n",
    "    for i in add:\n",
    "        addition += i\n",
    "    print(add)\n",
    "    return addition"
   ]
  },
  {
   "cell_type": "code",
   "execution_count": 20,
   "id": "54142c59",
   "metadata": {},
   "outputs": [
    {
     "name": "stdout",
     "output_type": "stream",
     "text": [
      "(1, 2, 3)\n"
     ]
    },
    {
     "data": {
      "text/plain": [
       "6"
      ]
     },
     "execution_count": 20,
     "metadata": {},
     "output_type": "execute_result"
    }
   ],
   "source": [
    "add(1,2,3)"
   ]
  },
  {
   "cell_type": "code",
   "execution_count": 21,
   "id": "03e5ca8d",
   "metadata": {},
   "outputs": [
    {
     "data": {
      "text/plain": [
       "'\\n    function add number of variables'"
      ]
     },
     "execution_count": 21,
     "metadata": {},
     "output_type": "execute_result"
    }
   ],
   "source": [
    "add.__doc__"
   ]
  },
  {
   "cell_type": "markdown",
   "id": "40018d07",
   "metadata": {},
   "source": [
    "## **kwargs \n",
    "\n",
    "- It allow any number of keyword arguments\n",
    "- Keyword arguments means that contains a key-value pair, like a python dictionary."
   ]
  },
  {
   "cell_type": "code",
   "execution_count": 23,
   "id": "7f880a49",
   "metadata": {},
   "outputs": [],
   "source": [
    "def display(**kwargs):\n",
    "    for (key,value) in kwargs.items():\n",
    "        print(key,'->',value)"
   ]
  },
  {
   "cell_type": "code",
   "execution_count": 26,
   "id": "2cb02e9b",
   "metadata": {},
   "outputs": [
    {
     "name": "stdout",
     "output_type": "stream",
     "text": [
      "Maharastra -> Mumbai\n",
      "Odisha -> Bhubaneswar\n",
      "Gujurat -> Gandhinagar\n"
     ]
    }
   ],
   "source": [
    "display(Maharastra='Mumbai',Odisha='Bhubaneswar',Gujurat='Gandhinagar')"
   ]
  },
  {
   "cell_type": "code",
   "execution_count": null,
   "id": "b6b0ed63",
   "metadata": {},
   "outputs": [],
   "source": []
  }
 ],
 "metadata": {
  "kernelspec": {
   "display_name": "Python 3 (ipykernel)",
   "language": "python",
   "name": "python3"
  },
  "language_info": {
   "codemirror_mode": {
    "name": "ipython",
    "version": 3
   },
   "file_extension": ".py",
   "mimetype": "text/x-python",
   "name": "python",
   "nbconvert_exporter": "python",
   "pygments_lexer": "ipython3",
   "version": "3.10.9"
  }
 },
 "nbformat": 4,
 "nbformat_minor": 5
}
