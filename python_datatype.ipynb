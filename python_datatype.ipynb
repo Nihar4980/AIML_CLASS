{
 "cells": [
  {
   "cell_type": "markdown",
   "id": "6c6763ce",
   "metadata": {},
   "source": [
    "# DataType"
   ]
  },
  {
   "cell_type": "markdown",
   "id": "7d427c06",
   "metadata": {},
   "source": [
    "### Types of datatype\n",
    "- Numerical\n",
    "  - integer\n",
    "  - Float\n",
    "  - complex\n",
    "  - Boolean\n",
    " - String\n",
    " - List\n",
    " - Tuple\n",
    " - Set\n",
    " - Dictionary"
   ]
  },
  {
   "cell_type": "code",
   "execution_count": 2,
   "id": "1ec15598",
   "metadata": {},
   "outputs": [],
   "source": [
    "a = 2"
   ]
  },
  {
   "cell_type": "code",
   "execution_count": 3,
   "id": "5bd74f42",
   "metadata": {},
   "outputs": [
    {
     "data": {
      "text/plain": [
       "int"
      ]
     },
     "execution_count": 3,
     "metadata": {},
     "output_type": "execute_result"
    }
   ],
   "source": [
    "type(a)"
   ]
  },
  {
   "cell_type": "code",
   "execution_count": 4,
   "id": "f1ec55c2",
   "metadata": {},
   "outputs": [
    {
     "data": {
      "text/plain": [
       "float"
      ]
     },
     "execution_count": 4,
     "metadata": {},
     "output_type": "execute_result"
    }
   ],
   "source": [
    "a = 2.3\n",
    "type(a)"
   ]
  },
  {
   "cell_type": "code",
   "execution_count": 5,
   "id": "57ccd3a2",
   "metadata": {},
   "outputs": [
    {
     "data": {
      "text/plain": [
       "complex"
      ]
     },
     "execution_count": 5,
     "metadata": {},
     "output_type": "execute_result"
    }
   ],
   "source": [
    "a = 2 + 3j\n",
    "type(a)"
   ]
  },
  {
   "cell_type": "code",
   "execution_count": 7,
   "id": "a4cbbdcd",
   "metadata": {},
   "outputs": [
    {
     "data": {
      "text/plain": [
       "bool"
      ]
     },
     "execution_count": 7,
     "metadata": {},
     "output_type": "execute_result"
    }
   ],
   "source": [
    "a = 3\n",
    "b = 2\n",
    "type(a<b)"
   ]
  },
  {
   "cell_type": "markdown",
   "id": "8a5a30bd",
   "metadata": {},
   "source": [
    "# String"
   ]
  },
  {
   "cell_type": "code",
   "execution_count": 8,
   "id": "3d56b325",
   "metadata": {},
   "outputs": [
    {
     "data": {
      "text/plain": [
       "'We are living in Pune'"
      ]
     },
     "execution_count": 8,
     "metadata": {},
     "output_type": "execute_result"
    }
   ],
   "source": [
    "text1 = 'We are living in Pune'\n",
    "text1"
   ]
  },
  {
   "cell_type": "code",
   "execution_count": 9,
   "id": "61ede6d1",
   "metadata": {},
   "outputs": [
    {
     "data": {
      "text/plain": [
       "'We are living in pune'"
      ]
     },
     "execution_count": 9,
     "metadata": {},
     "output_type": "execute_result"
    }
   ],
   "source": [
    "text1.capitalize()"
   ]
  },
  {
   "cell_type": "code",
   "execution_count": 10,
   "id": "e4a136e2",
   "metadata": {},
   "outputs": [
    {
     "data": {
      "text/plain": [
       "'we are living in pune'"
      ]
     },
     "execution_count": 10,
     "metadata": {},
     "output_type": "execute_result"
    }
   ],
   "source": [
    "text1.casefold()"
   ]
  },
  {
   "cell_type": "code",
   "execution_count": 14,
   "id": "de9f32a1",
   "metadata": {},
   "outputs": [
    {
     "data": {
      "text/plain": [
       "'  We are living in Pune  '"
      ]
     },
     "execution_count": 14,
     "metadata": {},
     "output_type": "execute_result"
    }
   ],
   "source": [
    "text1.center(25)"
   ]
  },
  {
   "cell_type": "code",
   "execution_count": 17,
   "id": "a41ab3bc",
   "metadata": {},
   "outputs": [
    {
     "data": {
      "text/plain": [
       "1"
      ]
     },
     "execution_count": 17,
     "metadata": {},
     "output_type": "execute_result"
    }
   ],
   "source": [
    "text1.count('a')"
   ]
  },
  {
   "cell_type": "code",
   "execution_count": 18,
   "id": "81065401",
   "metadata": {},
   "outputs": [
    {
     "data": {
      "text/plain": [
       "3"
      ]
     },
     "execution_count": 18,
     "metadata": {},
     "output_type": "execute_result"
    }
   ],
   "source": [
    "text1.count('e')"
   ]
  },
  {
   "cell_type": "code",
   "execution_count": 21,
   "id": "4f1c1bbe",
   "metadata": {},
   "outputs": [
    {
     "data": {
      "text/plain": [
       "17"
      ]
     },
     "execution_count": 21,
     "metadata": {},
     "output_type": "execute_result"
    }
   ],
   "source": [
    "text1.find('P')"
   ]
  },
  {
   "cell_type": "code",
   "execution_count": 22,
   "id": "94f1362e",
   "metadata": {},
   "outputs": [
    {
     "data": {
      "text/plain": [
       "'We are living in Pune'"
      ]
     },
     "execution_count": 22,
     "metadata": {},
     "output_type": "execute_result"
    }
   ],
   "source": [
    "text1"
   ]
  },
  {
   "cell_type": "code",
   "execution_count": 23,
   "id": "7d34b24e",
   "metadata": {},
   "outputs": [
    {
     "data": {
      "text/plain": [
       "0"
      ]
     },
     "execution_count": 23,
     "metadata": {},
     "output_type": "execute_result"
    }
   ],
   "source": [
    "text1.find('W')"
   ]
  },
  {
   "cell_type": "code",
   "execution_count": 24,
   "id": "e29bea14",
   "metadata": {},
   "outputs": [
    {
     "data": {
      "text/plain": [
       "8"
      ]
     },
     "execution_count": 24,
     "metadata": {},
     "output_type": "execute_result"
    }
   ],
   "source": [
    "text1.find('i')"
   ]
  },
  {
   "cell_type": "code",
   "execution_count": 25,
   "id": "46e35aa2",
   "metadata": {},
   "outputs": [],
   "source": [
    "# Indexing"
   ]
  },
  {
   "cell_type": "code",
   "execution_count": 26,
   "id": "770eeba8",
   "metadata": {},
   "outputs": [
    {
     "data": {
      "text/plain": [
       "'W'"
      ]
     },
     "execution_count": 26,
     "metadata": {},
     "output_type": "execute_result"
    }
   ],
   "source": [
    "text1[0]"
   ]
  },
  {
   "cell_type": "code",
   "execution_count": 27,
   "id": "277e4993",
   "metadata": {},
   "outputs": [
    {
     "data": {
      "text/plain": [
       "21"
      ]
     },
     "execution_count": 27,
     "metadata": {},
     "output_type": "execute_result"
    }
   ],
   "source": [
    "len(text1)"
   ]
  },
  {
   "cell_type": "code",
   "execution_count": 28,
   "id": "a2e032a9",
   "metadata": {},
   "outputs": [
    {
     "data": {
      "text/plain": [
       "'We are'"
      ]
     },
     "execution_count": 28,
     "metadata": {},
     "output_type": "execute_result"
    }
   ],
   "source": [
    "# slicing\n",
    "text1[0:6]"
   ]
  },
  {
   "cell_type": "code",
   "execution_count": 29,
   "id": "cf908bd7",
   "metadata": {},
   "outputs": [
    {
     "data": {
      "text/plain": [
       "'We are living in Pune'"
      ]
     },
     "execution_count": 29,
     "metadata": {},
     "output_type": "execute_result"
    }
   ],
   "source": [
    "text1"
   ]
  },
  {
   "cell_type": "code",
   "execution_count": 33,
   "id": "a6a39316",
   "metadata": {},
   "outputs": [
    {
     "data": {
      "text/plain": [
       "'Weine'"
      ]
     },
     "execution_count": 33,
     "metadata": {},
     "output_type": "execute_result"
    }
   ],
   "source": [
    "text1[0:22:5]"
   ]
  },
  {
   "cell_type": "code",
   "execution_count": 34,
   "id": "a9282957",
   "metadata": {},
   "outputs": [
    {
     "data": {
      "text/plain": [
       "'enuP ni gnivil era eW'"
      ]
     },
     "execution_count": 34,
     "metadata": {},
     "output_type": "execute_result"
    }
   ],
   "source": [
    "text1[::-1]"
   ]
  },
  {
   "cell_type": "code",
   "execution_count": 35,
   "id": "c6c29be3",
   "metadata": {},
   "outputs": [
    {
     "data": {
      "text/plain": [
       "True"
      ]
     },
     "execution_count": 35,
     "metadata": {},
     "output_type": "execute_result"
    }
   ],
   "source": [
    "text1.endswith('e')"
   ]
  },
  {
   "cell_type": "code",
   "execution_count": 36,
   "id": "b58280c6",
   "metadata": {},
   "outputs": [
    {
     "data": {
      "text/plain": [
       "False"
      ]
     },
     "execution_count": 36,
     "metadata": {},
     "output_type": "execute_result"
    }
   ],
   "source": [
    "text1.endswith('a')"
   ]
  },
  {
   "cell_type": "code",
   "execution_count": 38,
   "id": "86e224f1",
   "metadata": {},
   "outputs": [
    {
     "data": {
      "text/plain": [
       "True"
      ]
     },
     "execution_count": 38,
     "metadata": {},
     "output_type": "execute_result"
    }
   ],
   "source": [
    "text1.startswith('W')"
   ]
  },
  {
   "cell_type": "code",
   "execution_count": 39,
   "id": "f72f3e4e",
   "metadata": {},
   "outputs": [
    {
     "data": {
      "text/plain": [
       "False"
      ]
     },
     "execution_count": 39,
     "metadata": {},
     "output_type": "execute_result"
    }
   ],
   "source": [
    "text1.startswith('w')"
   ]
  },
  {
   "cell_type": "code",
   "execution_count": 40,
   "id": "d8b9d857",
   "metadata": {},
   "outputs": [
    {
     "data": {
      "text/plain": [
       "'WE ARE LIVING IN PUNE'"
      ]
     },
     "execution_count": 40,
     "metadata": {},
     "output_type": "execute_result"
    }
   ],
   "source": [
    "text1.upper()"
   ]
  },
  {
   "cell_type": "code",
   "execution_count": 41,
   "id": "679da8a8",
   "metadata": {},
   "outputs": [
    {
     "data": {
      "text/plain": [
       "'we are living in pune'"
      ]
     },
     "execution_count": 41,
     "metadata": {},
     "output_type": "execute_result"
    }
   ],
   "source": [
    "text1.lower()"
   ]
  },
  {
   "cell_type": "code",
   "execution_count": null,
   "id": "a119ad2a",
   "metadata": {},
   "outputs": [],
   "source": []
  }
 ],
 "metadata": {
  "kernelspec": {
   "display_name": "Python 3 (ipykernel)",
   "language": "python",
   "name": "python3"
  },
  "language_info": {
   "codemirror_mode": {
    "name": "ipython",
    "version": 3
   },
   "file_extension": ".py",
   "mimetype": "text/x-python",
   "name": "python",
   "nbconvert_exporter": "python",
   "pygments_lexer": "ipython3",
   "version": "3.10.9"
  }
 },
 "nbformat": 4,
 "nbformat_minor": 5
}
