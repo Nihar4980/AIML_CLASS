{
 "cells": [
  {
   "cell_type": "markdown",
   "id": "6c6763ce",
   "metadata": {},
   "source": [
    "# DataType"
   ]
  },
  {
   "cell_type": "markdown",
   "id": "7d427c06",
   "metadata": {},
   "source": [
    "### Types of datatype\n",
    "- Numerical\n",
    "  - integer\n",
    "  - Float\n",
    "  - complex\n",
    "  - Boolean\n",
    " - String\n",
    " - List\n",
    " - Tuple\n",
    " - Set\n",
    " - Dictionary"
   ]
  },
  {
   "cell_type": "code",
   "execution_count": 1,
   "id": "1ec15598",
   "metadata": {},
   "outputs": [],
   "source": [
    "a = 2"
   ]
  },
  {
   "cell_type": "code",
   "execution_count": 2,
   "id": "5bd74f42",
   "metadata": {},
   "outputs": [
    {
     "data": {
      "text/plain": [
       "int"
      ]
     },
     "execution_count": 2,
     "metadata": {},
     "output_type": "execute_result"
    }
   ],
   "source": [
    "type(a)"
   ]
  },
  {
   "cell_type": "code",
   "execution_count": 3,
   "id": "f1ec55c2",
   "metadata": {},
   "outputs": [
    {
     "data": {
      "text/plain": [
       "float"
      ]
     },
     "execution_count": 3,
     "metadata": {},
     "output_type": "execute_result"
    }
   ],
   "source": [
    "a = 2.3\n",
    "type(a)"
   ]
  },
  {
   "cell_type": "code",
   "execution_count": 4,
   "id": "57ccd3a2",
   "metadata": {},
   "outputs": [
    {
     "data": {
      "text/plain": [
       "complex"
      ]
     },
     "execution_count": 4,
     "metadata": {},
     "output_type": "execute_result"
    }
   ],
   "source": [
    "a = 2 + 3j\n",
    "type(a)"
   ]
  },
  {
   "cell_type": "code",
   "execution_count": 5,
   "id": "a4cbbdcd",
   "metadata": {},
   "outputs": [
    {
     "data": {
      "text/plain": [
       "bool"
      ]
     },
     "execution_count": 5,
     "metadata": {},
     "output_type": "execute_result"
    }
   ],
   "source": [
    "a = 3\n",
    "b = 2\n",
    "type(a<b)"
   ]
  },
  {
   "cell_type": "markdown",
   "id": "8a5a30bd",
   "metadata": {},
   "source": [
    "# String"
   ]
  },
  {
   "cell_type": "code",
   "execution_count": 6,
   "id": "3d56b325",
   "metadata": {},
   "outputs": [
    {
     "data": {
      "text/plain": [
       "'We are living in Pune'"
      ]
     },
     "execution_count": 6,
     "metadata": {},
     "output_type": "execute_result"
    }
   ],
   "source": [
    "text1 = 'We are living in Pune'\n",
    "text1"
   ]
  },
  {
   "cell_type": "code",
   "execution_count": 7,
   "id": "61ede6d1",
   "metadata": {},
   "outputs": [
    {
     "data": {
      "text/plain": [
       "'We are living in pune'"
      ]
     },
     "execution_count": 7,
     "metadata": {},
     "output_type": "execute_result"
    }
   ],
   "source": [
    "text1.capitalize()"
   ]
  },
  {
   "cell_type": "code",
   "execution_count": 8,
   "id": "e4a136e2",
   "metadata": {},
   "outputs": [
    {
     "data": {
      "text/plain": [
       "'we are living in pune'"
      ]
     },
     "execution_count": 8,
     "metadata": {},
     "output_type": "execute_result"
    }
   ],
   "source": [
    "text1.casefold()"
   ]
  },
  {
   "cell_type": "code",
   "execution_count": 9,
   "id": "de9f32a1",
   "metadata": {},
   "outputs": [
    {
     "data": {
      "text/plain": [
       "'  We are living in Pune  '"
      ]
     },
     "execution_count": 9,
     "metadata": {},
     "output_type": "execute_result"
    }
   ],
   "source": [
    "text1.center(25)"
   ]
  },
  {
   "cell_type": "code",
   "execution_count": 10,
   "id": "a41ab3bc",
   "metadata": {},
   "outputs": [
    {
     "data": {
      "text/plain": [
       "1"
      ]
     },
     "execution_count": 10,
     "metadata": {},
     "output_type": "execute_result"
    }
   ],
   "source": [
    "text1.count('a')"
   ]
  },
  {
   "cell_type": "code",
   "execution_count": 11,
   "id": "81065401",
   "metadata": {},
   "outputs": [
    {
     "data": {
      "text/plain": [
       "3"
      ]
     },
     "execution_count": 11,
     "metadata": {},
     "output_type": "execute_result"
    }
   ],
   "source": [
    "text1.count('e')"
   ]
  },
  {
   "cell_type": "code",
   "execution_count": 12,
   "id": "4f1c1bbe",
   "metadata": {},
   "outputs": [
    {
     "data": {
      "text/plain": [
       "17"
      ]
     },
     "execution_count": 12,
     "metadata": {},
     "output_type": "execute_result"
    }
   ],
   "source": [
    "text1.find('P')"
   ]
  },
  {
   "cell_type": "code",
   "execution_count": 13,
   "id": "94f1362e",
   "metadata": {},
   "outputs": [
    {
     "data": {
      "text/plain": [
       "'We are living in Pune'"
      ]
     },
     "execution_count": 13,
     "metadata": {},
     "output_type": "execute_result"
    }
   ],
   "source": [
    "text1"
   ]
  },
  {
   "cell_type": "code",
   "execution_count": 14,
   "id": "7d34b24e",
   "metadata": {},
   "outputs": [
    {
     "data": {
      "text/plain": [
       "0"
      ]
     },
     "execution_count": 14,
     "metadata": {},
     "output_type": "execute_result"
    }
   ],
   "source": [
    "text1.find('W')"
   ]
  },
  {
   "cell_type": "code",
   "execution_count": 15,
   "id": "e29bea14",
   "metadata": {},
   "outputs": [
    {
     "data": {
      "text/plain": [
       "8"
      ]
     },
     "execution_count": 15,
     "metadata": {},
     "output_type": "execute_result"
    }
   ],
   "source": [
    "text1.find('i')"
   ]
  },
  {
   "cell_type": "code",
   "execution_count": 16,
   "id": "46e35aa2",
   "metadata": {},
   "outputs": [],
   "source": [
    "# Indexing"
   ]
  },
  {
   "cell_type": "code",
   "execution_count": 17,
   "id": "770eeba8",
   "metadata": {},
   "outputs": [
    {
     "data": {
      "text/plain": [
       "'W'"
      ]
     },
     "execution_count": 17,
     "metadata": {},
     "output_type": "execute_result"
    }
   ],
   "source": [
    "text1[0]"
   ]
  },
  {
   "cell_type": "code",
   "execution_count": 18,
   "id": "277e4993",
   "metadata": {},
   "outputs": [
    {
     "data": {
      "text/plain": [
       "21"
      ]
     },
     "execution_count": 18,
     "metadata": {},
     "output_type": "execute_result"
    }
   ],
   "source": [
    "len(text1)"
   ]
  },
  {
   "cell_type": "code",
   "execution_count": 19,
   "id": "a2e032a9",
   "metadata": {},
   "outputs": [
    {
     "data": {
      "text/plain": [
       "'We are'"
      ]
     },
     "execution_count": 19,
     "metadata": {},
     "output_type": "execute_result"
    }
   ],
   "source": [
    "# slicing\n",
    "text1[0:6]"
   ]
  },
  {
   "cell_type": "code",
   "execution_count": 20,
   "id": "cf908bd7",
   "metadata": {},
   "outputs": [
    {
     "data": {
      "text/plain": [
       "'We are living in Pune'"
      ]
     },
     "execution_count": 20,
     "metadata": {},
     "output_type": "execute_result"
    }
   ],
   "source": [
    "text1"
   ]
  },
  {
   "cell_type": "code",
   "execution_count": 21,
   "id": "a6a39316",
   "metadata": {},
   "outputs": [
    {
     "data": {
      "text/plain": [
       "'Weine'"
      ]
     },
     "execution_count": 21,
     "metadata": {},
     "output_type": "execute_result"
    }
   ],
   "source": [
    "text1[0:22:5]"
   ]
  },
  {
   "cell_type": "code",
   "execution_count": 22,
   "id": "a9282957",
   "metadata": {},
   "outputs": [
    {
     "data": {
      "text/plain": [
       "'enuP ni gnivil era eW'"
      ]
     },
     "execution_count": 22,
     "metadata": {},
     "output_type": "execute_result"
    }
   ],
   "source": [
    "text1[::-1]"
   ]
  },
  {
   "cell_type": "code",
   "execution_count": 23,
   "id": "c6c29be3",
   "metadata": {},
   "outputs": [
    {
     "data": {
      "text/plain": [
       "True"
      ]
     },
     "execution_count": 23,
     "metadata": {},
     "output_type": "execute_result"
    }
   ],
   "source": [
    "text1.endswith('e')"
   ]
  },
  {
   "cell_type": "code",
   "execution_count": 24,
   "id": "b58280c6",
   "metadata": {},
   "outputs": [
    {
     "data": {
      "text/plain": [
       "False"
      ]
     },
     "execution_count": 24,
     "metadata": {},
     "output_type": "execute_result"
    }
   ],
   "source": [
    "text1.endswith('a')"
   ]
  },
  {
   "cell_type": "code",
   "execution_count": 25,
   "id": "86e224f1",
   "metadata": {},
   "outputs": [
    {
     "data": {
      "text/plain": [
       "True"
      ]
     },
     "execution_count": 25,
     "metadata": {},
     "output_type": "execute_result"
    }
   ],
   "source": [
    "text1.startswith('W')"
   ]
  },
  {
   "cell_type": "code",
   "execution_count": 26,
   "id": "f72f3e4e",
   "metadata": {},
   "outputs": [
    {
     "data": {
      "text/plain": [
       "False"
      ]
     },
     "execution_count": 26,
     "metadata": {},
     "output_type": "execute_result"
    }
   ],
   "source": [
    "text1.startswith('w')"
   ]
  },
  {
   "cell_type": "code",
   "execution_count": 27,
   "id": "d8b9d857",
   "metadata": {},
   "outputs": [
    {
     "data": {
      "text/plain": [
       "'WE ARE LIVING IN PUNE'"
      ]
     },
     "execution_count": 27,
     "metadata": {},
     "output_type": "execute_result"
    }
   ],
   "source": [
    "text1.upper()"
   ]
  },
  {
   "cell_type": "code",
   "execution_count": 28,
   "id": "679da8a8",
   "metadata": {},
   "outputs": [
    {
     "data": {
      "text/plain": [
       "'we are living in pune'"
      ]
     },
     "execution_count": 28,
     "metadata": {},
     "output_type": "execute_result"
    }
   ],
   "source": [
    "text1.lower()"
   ]
  },
  {
   "cell_type": "code",
   "execution_count": 37,
   "id": "8e4b0f6a",
   "metadata": {},
   "outputs": [
    {
     "name": "stdout",
     "output_type": "stream",
     "text": [
      "2099774053232\n",
      "2099773820464\n"
     ]
    }
   ],
   "source": [
    "str1 = 'a'\n",
    "str2 = 'b'\n",
    "print(id(str1))\n",
    "print(id(str2)) # address of variable"
   ]
  },
  {
   "cell_type": "code",
   "execution_count": 39,
   "id": "17f15b09",
   "metadata": {},
   "outputs": [
    {
     "data": {
      "text/plain": [
       "2099885896560"
      ]
     },
     "execution_count": 39,
     "metadata": {},
     "output_type": "execute_result"
    }
   ],
   "source": [
    "id(str1 + str2)"
   ]
  },
  {
   "cell_type": "markdown",
   "id": "43e7bd8e",
   "metadata": {},
   "source": [
    "# Task -1 : Explore all objects/function of string"
   ]
  },
  {
   "cell_type": "markdown",
   "id": "9e531666",
   "metadata": {},
   "source": [
    "# List"
   ]
  },
  {
   "cell_type": "code",
   "execution_count": 35,
   "id": "e130ffda",
   "metadata": {},
   "outputs": [],
   "source": [
    "test1 = [ 1, 2, 3, 4, 5, 6, 7, 8, 9, 8]"
   ]
  },
  {
   "cell_type": "code",
   "execution_count": 36,
   "id": "2db55224",
   "metadata": {},
   "outputs": [
    {
     "data": {
      "text/plain": [
       "10"
      ]
     },
     "execution_count": 36,
     "metadata": {},
     "output_type": "execute_result"
    }
   ],
   "source": [
    "# no of element\n",
    "len(test1)"
   ]
  },
  {
   "cell_type": "code",
   "execution_count": 41,
   "id": "fc5ec985",
   "metadata": {},
   "outputs": [
    {
     "data": {
      "text/plain": [
       "2099885919040"
      ]
     },
     "execution_count": 41,
     "metadata": {},
     "output_type": "execute_result"
    }
   ],
   "source": [
    "id(test1)"
   ]
  },
  {
   "cell_type": "code",
   "execution_count": 42,
   "id": "970bbcf2",
   "metadata": {},
   "outputs": [
    {
     "data": {
      "text/plain": [
       "[1, 2, 3, 4, 5, 6, 7, 8, 9, 8, 9]"
      ]
     },
     "execution_count": 42,
     "metadata": {},
     "output_type": "execute_result"
    }
   ],
   "source": [
    "test1.append(9)\n",
    "test1"
   ]
  },
  {
   "cell_type": "code",
   "execution_count": 44,
   "id": "9a141f33",
   "metadata": {},
   "outputs": [
    {
     "data": {
      "text/plain": [
       "[]"
      ]
     },
     "execution_count": 44,
     "metadata": {},
     "output_type": "execute_result"
    }
   ],
   "source": [
    "test2 = [1,2,3]\n",
    "test2.clear()\n",
    "test2"
   ]
  },
  {
   "cell_type": "code",
   "execution_count": 45,
   "id": "8605b8d5",
   "metadata": {},
   "outputs": [
    {
     "data": {
      "text/plain": [
       "2"
      ]
     },
     "execution_count": 45,
     "metadata": {},
     "output_type": "execute_result"
    }
   ],
   "source": [
    "test1.count(8)"
   ]
  },
  {
   "cell_type": "code",
   "execution_count": 47,
   "id": "fbbfcfa9",
   "metadata": {},
   "outputs": [
    {
     "data": {
      "text/plain": [
       "0"
      ]
     },
     "execution_count": 47,
     "metadata": {},
     "output_type": "execute_result"
    }
   ],
   "source": [
    "test1.count(19)"
   ]
  },
  {
   "cell_type": "code",
   "execution_count": 48,
   "id": "a2219533",
   "metadata": {},
   "outputs": [
    {
     "data": {
      "text/plain": [
       "[1, 2, 3, 4, 5, 6, 7, 8, 9, 8, 9, 10, 11, 12, 13]"
      ]
     },
     "execution_count": 48,
     "metadata": {},
     "output_type": "execute_result"
    }
   ],
   "source": [
    "test1.extend([10,11,12,13]) # adding number of variable into a list\n",
    "test1"
   ]
  },
  {
   "cell_type": "code",
   "execution_count": 50,
   "id": "dce5e16b",
   "metadata": {},
   "outputs": [
    {
     "data": {
      "text/plain": [
       "[1, 2, 3, 4, 5, 6, 7, 8, 9, 8, 9, 10, 11]"
      ]
     },
     "execution_count": 50,
     "metadata": {},
     "output_type": "execute_result"
    }
   ],
   "source": [
    "test1.pop()\n",
    "test1\n"
   ]
  },
  {
   "cell_type": "code",
   "execution_count": 51,
   "id": "4de835a0",
   "metadata": {},
   "outputs": [],
   "source": [
    "test1.remove(9)"
   ]
  },
  {
   "cell_type": "code",
   "execution_count": 52,
   "id": "46fb7fdc",
   "metadata": {},
   "outputs": [
    {
     "data": {
      "text/plain": [
       "[1, 2, 3, 4, 5, 6, 7, 8, 8, 9, 10, 11]"
      ]
     },
     "execution_count": 52,
     "metadata": {},
     "output_type": "execute_result"
    }
   ],
   "source": [
    "test1"
   ]
  },
  {
   "cell_type": "code",
   "execution_count": 53,
   "id": "922e4989",
   "metadata": {},
   "outputs": [
    {
     "data": {
      "text/plain": [
       "[1, 2, 3, 4, 5, 6, 7, 8, 8, 9, 10, 11]"
      ]
     },
     "execution_count": 53,
     "metadata": {},
     "output_type": "execute_result"
    }
   ],
   "source": [
    "test1.sort()\n",
    "test1"
   ]
  },
  {
   "cell_type": "code",
   "execution_count": 57,
   "id": "c9c6e19e",
   "metadata": {},
   "outputs": [
    {
     "data": {
      "text/plain": [
       "[11, 10, 9, 8, 8, 7, 6, 5, 4, 3, 2, 1]"
      ]
     },
     "execution_count": 57,
     "metadata": {},
     "output_type": "execute_result"
    }
   ],
   "source": [
    "test1.reverse()\n",
    "test1"
   ]
  },
  {
   "cell_type": "code",
   "execution_count": 58,
   "id": "d1236316",
   "metadata": {},
   "outputs": [
    {
     "data": {
      "text/plain": [
       "2099885919040"
      ]
     },
     "execution_count": 58,
     "metadata": {},
     "output_type": "execute_result"
    }
   ],
   "source": [
    "id(test1)"
   ]
  },
  {
   "cell_type": "code",
   "execution_count": 59,
   "id": "1ec0f4dd",
   "metadata": {},
   "outputs": [
    {
     "data": {
      "text/plain": [
       "11"
      ]
     },
     "execution_count": 59,
     "metadata": {},
     "output_type": "execute_result"
    }
   ],
   "source": [
    "test1.index(1)"
   ]
  },
  {
   "cell_type": "code",
   "execution_count": 63,
   "id": "c8c616b8",
   "metadata": {},
   "outputs": [
    {
     "data": {
      "text/plain": [
       "[11, 10, 9, 8, 8, 7, 6, 5, 4, 3, 2, 1]"
      ]
     },
     "execution_count": 63,
     "metadata": {},
     "output_type": "execute_result"
    }
   ],
   "source": [
    "test1"
   ]
  },
  {
   "cell_type": "code",
   "execution_count": 66,
   "id": "df3ea2b0",
   "metadata": {},
   "outputs": [
    {
     "data": {
      "text/plain": [
       "[8, 8, 7, 6]"
      ]
     },
     "execution_count": 66,
     "metadata": {},
     "output_type": "execute_result"
    }
   ],
   "source": [
    "test1[test1.index(8):test1.index(6)+1]"
   ]
  },
  {
   "cell_type": "code",
   "execution_count": 73,
   "id": "5ec18701",
   "metadata": {},
   "outputs": [
    {
     "data": {
      "text/plain": [
       "[8, 8, 7, 6]"
      ]
     },
     "execution_count": 73,
     "metadata": {},
     "output_type": "execute_result"
    }
   ],
   "source": [
    "test1[3:7]"
   ]
  },
  {
   "cell_type": "code",
   "execution_count": 70,
   "id": "84aa446d",
   "metadata": {},
   "outputs": [
    {
     "data": {
      "text/plain": [
       "[1, 3, 5, 7, 8, 10]"
      ]
     },
     "execution_count": 70,
     "metadata": {},
     "output_type": "execute_result"
    }
   ],
   "source": [
    "test1[::-2]"
   ]
  },
  {
   "cell_type": "markdown",
   "id": "451760ef",
   "metadata": {},
   "source": [
    "# Tuple - Its immutable"
   ]
  },
  {
   "cell_type": "code",
   "execution_count": 60,
   "id": "b31a4dc3",
   "metadata": {},
   "outputs": [
    {
     "data": {
      "text/plain": [
       "tuple"
      ]
     },
     "execution_count": 60,
     "metadata": {},
     "output_type": "execute_result"
    }
   ],
   "source": [
    "tup = (1,2,3)\n",
    "type(tup)"
   ]
  },
  {
   "cell_type": "code",
   "execution_count": 74,
   "id": "9de14e20",
   "metadata": {},
   "outputs": [
    {
     "data": {
      "text/plain": [
       "1"
      ]
     },
     "execution_count": 74,
     "metadata": {},
     "output_type": "execute_result"
    }
   ],
   "source": [
    "tup.count(1)"
   ]
  },
  {
   "cell_type": "code",
   "execution_count": 75,
   "id": "cfcd20be",
   "metadata": {},
   "outputs": [
    {
     "data": {
      "text/plain": [
       "1"
      ]
     },
     "execution_count": 75,
     "metadata": {},
     "output_type": "execute_result"
    }
   ],
   "source": [
    "tup.index(2)"
   ]
  },
  {
   "cell_type": "code",
   "execution_count": 76,
   "id": "258c3fa2",
   "metadata": {},
   "outputs": [
    {
     "data": {
      "text/plain": [
       "1"
      ]
     },
     "execution_count": 76,
     "metadata": {},
     "output_type": "execute_result"
    }
   ],
   "source": [
    "tup[0]"
   ]
  },
  {
   "cell_type": "code",
   "execution_count": 77,
   "id": "d46b8cc9",
   "metadata": {},
   "outputs": [
    {
     "data": {
      "text/plain": [
       "(1, 2)"
      ]
     },
     "execution_count": 77,
     "metadata": {},
     "output_type": "execute_result"
    }
   ],
   "source": [
    "tup[0:2]"
   ]
  },
  {
   "cell_type": "code",
   "execution_count": 82,
   "id": "872ca50a",
   "metadata": {},
   "outputs": [
    {
     "data": {
      "text/plain": [
       "tuple"
      ]
     },
     "execution_count": 82,
     "metadata": {},
     "output_type": "execute_result"
    }
   ],
   "source": [
    "tup1 = (1.9,)\n",
    "type(tup1)"
   ]
  },
  {
   "cell_type": "code",
   "execution_count": null,
   "id": "ff55d941",
   "metadata": {},
   "outputs": [],
   "source": []
  }
 ],
 "metadata": {
  "kernelspec": {
   "display_name": "Python 3 (ipykernel)",
   "language": "python",
   "name": "python3"
  },
  "language_info": {
   "codemirror_mode": {
    "name": "ipython",
    "version": 3
   },
   "file_extension": ".py",
   "mimetype": "text/x-python",
   "name": "python",
   "nbconvert_exporter": "python",
   "pygments_lexer": "ipython3",
   "version": "3.10.9"
  }
 },
 "nbformat": 4,
 "nbformat_minor": 5
}
