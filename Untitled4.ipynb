{
 "cells": [
  {
   "cell_type": "markdown",
   "id": "e6ff447f",
   "metadata": {},
   "source": [
    "# OOPs Concept"
   ]
  },
  {
   "cell_type": "code",
   "execution_count": 17,
   "id": "368eedeb",
   "metadata": {},
   "outputs": [],
   "source": [
    "class Village:\n",
    "    __people = 0\n",
    "    \n",
    "    def __init__(self, name, people):\n",
    "        self.name =  name\n",
    "        self.__people += people\n",
    "    def __repr__(self):\n",
    "        return f'My village name is {self.name} and people count is {self.__people}'\n",
    "    \n",
    "    def __str__(self):\n",
    "        return f'My village name is {self.name} and people count is {self.__people}'\n"
   ]
  },
  {
   "cell_type": "code",
   "execution_count": 18,
   "id": "cfa35e42",
   "metadata": {},
   "outputs": [
    {
     "data": {
      "text/plain": [
       "My village name is Khartang and people count is 1000"
      ]
     },
     "execution_count": 18,
     "metadata": {},
     "output_type": "execute_result"
    }
   ],
   "source": [
    "v1 = Village('Khartang',1000)\n",
    "v1"
   ]
  },
  {
   "cell_type": "code",
   "execution_count": 19,
   "id": "50e6f46e",
   "metadata": {},
   "outputs": [
    {
     "name": "stdout",
     "output_type": "stream",
     "text": [
      "My village name is Khartang and people count is 1000\n"
     ]
    }
   ],
   "source": [
    "print(v1)"
   ]
  },
  {
   "cell_type": "code",
   "execution_count": null,
   "id": "54d5ad73",
   "metadata": {},
   "outputs": [],
   "source": []
  },
  {
   "cell_type": "code",
   "execution_count": null,
   "id": "364ad9d3",
   "metadata": {},
   "outputs": [],
   "source": [
    "class Village:\n",
    "    __people = 0\n",
    "    \n",
    "    def __init__(self, name, post, GP, District, State):\n",
    "        self. name =  name\n",
    "        self.post = post\n",
    "        self.GP = GP\n",
    "        self.Distrct"
   ]
  }
 ],
 "metadata": {
  "kernelspec": {
   "display_name": "Python 3 (ipykernel)",
   "language": "python",
   "name": "python3"
  },
  "language_info": {
   "codemirror_mode": {
    "name": "ipython",
    "version": 3
   },
   "file_extension": ".py",
   "mimetype": "text/x-python",
   "name": "python",
   "nbconvert_exporter": "python",
   "pygments_lexer": "ipython3",
   "version": "3.11.5"
  }
 },
 "nbformat": 4,
 "nbformat_minor": 5
}
