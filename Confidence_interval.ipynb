{
 "cells": [
  {
   "cell_type": "code",
   "execution_count": 1,
   "id": "cd4e102a",
   "metadata": {},
   "outputs": [],
   "source": [
    "import pandas as pd\n",
    "df_train = pd.read_csv('train.csv')\n",
    "df_test = pd.read_csv('test.csv')"
   ]
  },
  {
   "cell_type": "code",
   "execution_count": 2,
   "id": "9ae60fa1",
   "metadata": {},
   "outputs": [],
   "source": [
    "df = pd.concat([df_train.drop(columns=['Survived']),df_test])"
   ]
  },
  {
   "cell_type": "code",
   "execution_count": 3,
   "id": "8b30ee22",
   "metadata": {},
   "outputs": [
    {
     "data": {
      "text/html": [
       "<div>\n",
       "<style scoped>\n",
       "    .dataframe tbody tr th:only-of-type {\n",
       "        vertical-align: middle;\n",
       "    }\n",
       "\n",
       "    .dataframe tbody tr th {\n",
       "        vertical-align: top;\n",
       "    }\n",
       "\n",
       "    .dataframe thead th {\n",
       "        text-align: right;\n",
       "    }\n",
       "</style>\n",
       "<table border=\"1\" class=\"dataframe\">\n",
       "  <thead>\n",
       "    <tr style=\"text-align: right;\">\n",
       "      <th></th>\n",
       "      <th>PassengerId</th>\n",
       "      <th>Pclass</th>\n",
       "      <th>Name</th>\n",
       "      <th>Sex</th>\n",
       "      <th>Age</th>\n",
       "      <th>SibSp</th>\n",
       "      <th>Parch</th>\n",
       "      <th>Ticket</th>\n",
       "      <th>Fare</th>\n",
       "      <th>Cabin</th>\n",
       "      <th>Embarked</th>\n",
       "    </tr>\n",
       "  </thead>\n",
       "  <tbody>\n",
       "    <tr>\n",
       "      <th>0</th>\n",
       "      <td>1</td>\n",
       "      <td>3</td>\n",
       "      <td>Braund, Mr. Owen Harris</td>\n",
       "      <td>male</td>\n",
       "      <td>22.0</td>\n",
       "      <td>1</td>\n",
       "      <td>0</td>\n",
       "      <td>A/5 21171</td>\n",
       "      <td>7.2500</td>\n",
       "      <td>NaN</td>\n",
       "      <td>S</td>\n",
       "    </tr>\n",
       "    <tr>\n",
       "      <th>1</th>\n",
       "      <td>2</td>\n",
       "      <td>1</td>\n",
       "      <td>Cumings, Mrs. John Bradley (Florence Briggs Th...</td>\n",
       "      <td>female</td>\n",
       "      <td>38.0</td>\n",
       "      <td>1</td>\n",
       "      <td>0</td>\n",
       "      <td>PC 17599</td>\n",
       "      <td>71.2833</td>\n",
       "      <td>C85</td>\n",
       "      <td>C</td>\n",
       "    </tr>\n",
       "    <tr>\n",
       "      <th>2</th>\n",
       "      <td>3</td>\n",
       "      <td>3</td>\n",
       "      <td>Heikkinen, Miss. Laina</td>\n",
       "      <td>female</td>\n",
       "      <td>26.0</td>\n",
       "      <td>0</td>\n",
       "      <td>0</td>\n",
       "      <td>STON/O2. 3101282</td>\n",
       "      <td>7.9250</td>\n",
       "      <td>NaN</td>\n",
       "      <td>S</td>\n",
       "    </tr>\n",
       "    <tr>\n",
       "      <th>3</th>\n",
       "      <td>4</td>\n",
       "      <td>1</td>\n",
       "      <td>Futrelle, Mrs. Jacques Heath (Lily May Peel)</td>\n",
       "      <td>female</td>\n",
       "      <td>35.0</td>\n",
       "      <td>1</td>\n",
       "      <td>0</td>\n",
       "      <td>113803</td>\n",
       "      <td>53.1000</td>\n",
       "      <td>C123</td>\n",
       "      <td>S</td>\n",
       "    </tr>\n",
       "    <tr>\n",
       "      <th>4</th>\n",
       "      <td>5</td>\n",
       "      <td>3</td>\n",
       "      <td>Allen, Mr. William Henry</td>\n",
       "      <td>male</td>\n",
       "      <td>35.0</td>\n",
       "      <td>0</td>\n",
       "      <td>0</td>\n",
       "      <td>373450</td>\n",
       "      <td>8.0500</td>\n",
       "      <td>NaN</td>\n",
       "      <td>S</td>\n",
       "    </tr>\n",
       "    <tr>\n",
       "      <th>...</th>\n",
       "      <td>...</td>\n",
       "      <td>...</td>\n",
       "      <td>...</td>\n",
       "      <td>...</td>\n",
       "      <td>...</td>\n",
       "      <td>...</td>\n",
       "      <td>...</td>\n",
       "      <td>...</td>\n",
       "      <td>...</td>\n",
       "      <td>...</td>\n",
       "      <td>...</td>\n",
       "    </tr>\n",
       "    <tr>\n",
       "      <th>413</th>\n",
       "      <td>1305</td>\n",
       "      <td>3</td>\n",
       "      <td>Spector, Mr. Woolf</td>\n",
       "      <td>male</td>\n",
       "      <td>NaN</td>\n",
       "      <td>0</td>\n",
       "      <td>0</td>\n",
       "      <td>A.5. 3236</td>\n",
       "      <td>8.0500</td>\n",
       "      <td>NaN</td>\n",
       "      <td>S</td>\n",
       "    </tr>\n",
       "    <tr>\n",
       "      <th>414</th>\n",
       "      <td>1306</td>\n",
       "      <td>1</td>\n",
       "      <td>Oliva y Ocana, Dona. Fermina</td>\n",
       "      <td>female</td>\n",
       "      <td>39.0</td>\n",
       "      <td>0</td>\n",
       "      <td>0</td>\n",
       "      <td>PC 17758</td>\n",
       "      <td>108.9000</td>\n",
       "      <td>C105</td>\n",
       "      <td>C</td>\n",
       "    </tr>\n",
       "    <tr>\n",
       "      <th>415</th>\n",
       "      <td>1307</td>\n",
       "      <td>3</td>\n",
       "      <td>Saether, Mr. Simon Sivertsen</td>\n",
       "      <td>male</td>\n",
       "      <td>38.5</td>\n",
       "      <td>0</td>\n",
       "      <td>0</td>\n",
       "      <td>SOTON/O.Q. 3101262</td>\n",
       "      <td>7.2500</td>\n",
       "      <td>NaN</td>\n",
       "      <td>S</td>\n",
       "    </tr>\n",
       "    <tr>\n",
       "      <th>416</th>\n",
       "      <td>1308</td>\n",
       "      <td>3</td>\n",
       "      <td>Ware, Mr. Frederick</td>\n",
       "      <td>male</td>\n",
       "      <td>NaN</td>\n",
       "      <td>0</td>\n",
       "      <td>0</td>\n",
       "      <td>359309</td>\n",
       "      <td>8.0500</td>\n",
       "      <td>NaN</td>\n",
       "      <td>S</td>\n",
       "    </tr>\n",
       "    <tr>\n",
       "      <th>417</th>\n",
       "      <td>1309</td>\n",
       "      <td>3</td>\n",
       "      <td>Peter, Master. Michael J</td>\n",
       "      <td>male</td>\n",
       "      <td>NaN</td>\n",
       "      <td>1</td>\n",
       "      <td>1</td>\n",
       "      <td>2668</td>\n",
       "      <td>22.3583</td>\n",
       "      <td>NaN</td>\n",
       "      <td>C</td>\n",
       "    </tr>\n",
       "  </tbody>\n",
       "</table>\n",
       "<p>1309 rows × 11 columns</p>\n",
       "</div>"
      ],
      "text/plain": [
       "     PassengerId  Pclass                                               Name  \\\n",
       "0              1       3                            Braund, Mr. Owen Harris   \n",
       "1              2       1  Cumings, Mrs. John Bradley (Florence Briggs Th...   \n",
       "2              3       3                             Heikkinen, Miss. Laina   \n",
       "3              4       1       Futrelle, Mrs. Jacques Heath (Lily May Peel)   \n",
       "4              5       3                           Allen, Mr. William Henry   \n",
       "..           ...     ...                                                ...   \n",
       "413         1305       3                                 Spector, Mr. Woolf   \n",
       "414         1306       1                       Oliva y Ocana, Dona. Fermina   \n",
       "415         1307       3                       Saether, Mr. Simon Sivertsen   \n",
       "416         1308       3                                Ware, Mr. Frederick   \n",
       "417         1309       3                           Peter, Master. Michael J   \n",
       "\n",
       "        Sex   Age  SibSp  Parch              Ticket      Fare Cabin Embarked  \n",
       "0      male  22.0      1      0           A/5 21171    7.2500   NaN        S  \n",
       "1    female  38.0      1      0            PC 17599   71.2833   C85        C  \n",
       "2    female  26.0      0      0    STON/O2. 3101282    7.9250   NaN        S  \n",
       "3    female  35.0      1      0              113803   53.1000  C123        S  \n",
       "4      male  35.0      0      0              373450    8.0500   NaN        S  \n",
       "..      ...   ...    ...    ...                 ...       ...   ...      ...  \n",
       "413    male   NaN      0      0           A.5. 3236    8.0500   NaN        S  \n",
       "414  female  39.0      0      0            PC 17758  108.9000  C105        C  \n",
       "415    male  38.5      0      0  SOTON/O.Q. 3101262    7.2500   NaN        S  \n",
       "416    male   NaN      0      0              359309    8.0500   NaN        S  \n",
       "417    male   NaN      1      1                2668   22.3583   NaN        C  \n",
       "\n",
       "[1309 rows x 11 columns]"
      ]
     },
     "execution_count": 3,
     "metadata": {},
     "output_type": "execute_result"
    }
   ],
   "source": [
    "df"
   ]
  },
  {
   "cell_type": "code",
   "execution_count": 4,
   "id": "8a737487",
   "metadata": {},
   "outputs": [
    {
     "data": {
      "text/plain": [
       "<Axes: ylabel='Density'>"
      ]
     },
     "execution_count": 4,
     "metadata": {},
     "output_type": "execute_result"
    },
    {
     "data": {
      "image/png": "[encoded data removed]",
      "text/plain": [
       "<Figure size 640x480 with 1 Axes>"
      ]
     },
     "metadata": {},
     "output_type": "display_data"
    }
   ],
   "source": [
    "df['Fare'].plot(kind='kde')"
   ]
  },
  {
   "cell_type": "code",
   "execution_count": 5,
   "id": "b7c6fe5f",
   "metadata": {},
   "outputs": [
    {
     "data": {
      "text/plain": [
       "[59.4,\n",
       " 7.75,\n",
       " 7.925,\n",
       " 8.05,\n",
       " 7.775,\n",
       " 52.0,\n",
       " 31.275,\n",
       " 21.075,\n",
       " 7.75,\n",
       " 13.5,\n",
       " 30.0,\n",
       " 7.8958,\n",
       " 11.5,\n",
       " 7.25,\n",
       " 16.1,\n",
       " 7.775,\n",
       " 25.7417,\n",
       " 7.75,\n",
       " 7.55,\n",
       " 10.5,\n",
       " 16.1,\n",
       " 13.7917,\n",
       " 75.25,\n",
       " 15.5,\n",
       " 6.45,\n",
       " 7.125,\n",
       " 27.7208,\n",
       " 39.0,\n",
       " 120.0,\n",
       " 31.0]"
      ]
     },
     "execution_count": 5,
     "metadata": {},
     "output_type": "execute_result"
    }
   ],
   "source": [
    "df['Fare'].dropna().sample(30).tolist()"
   ]
  },
  {
   "cell_type": "markdown",
   "id": "495700a7",
   "metadata": {},
   "source": [
    "### splitting Fare column into number of sample"
   ]
  },
  {
   "cell_type": "code",
   "execution_count": 6,
   "id": "945d89c2",
   "metadata": {},
   "outputs": [
    {
     "data": {
      "text/plain": [
       "43.6"
      ]
     },
     "execution_count": 6,
     "metadata": {},
     "output_type": "execute_result"
    }
   ],
   "source": [
    "1308/30"
   ]
  },
  {
   "cell_type": "code",
   "execution_count": 7,
   "id": "9e594fbb",
   "metadata": {},
   "outputs": [],
   "source": [
    "samples = []\n",
    "stds = []\n",
    "for i in range(44):\n",
    "    x = df['Fare'].dropna().sample(30).values\n",
    "    stds.append(x.std())\n",
    "    samples.append(x.tolist())"
   ]
  },
  {
   "cell_type": "code",
   "execution_count": 8,
   "id": "afa49ad2",
   "metadata": {},
   "outputs": [
    {
     "data": {
      "text/plain": [
       "44"
      ]
     },
     "execution_count": 8,
     "metadata": {},
     "output_type": "execute_result"
    }
   ],
   "source": [
    "len(samples)"
   ]
  },
  {
   "cell_type": "code",
   "execution_count": 9,
   "id": "27563c22",
   "metadata": {},
   "outputs": [],
   "source": [
    "def count_list(l):\n",
    "    count = 0\n",
    "    for e in l:\n",
    "        if isinstance(e, list):\n",
    "            count = count + 1 + count_list(e)\n",
    "    return count"
   ]
  },
  {
   "cell_type": "code",
   "execution_count": 10,
   "id": "5b9cfeac",
   "metadata": {},
   "outputs": [
    {
     "data": {
      "text/plain": [
       "44"
      ]
     },
     "execution_count": 10,
     "metadata": {},
     "output_type": "execute_result"
    }
   ],
   "source": [
    "count_list(samples)"
   ]
  },
  {
   "cell_type": "code",
   "execution_count": 11,
   "id": "81a34f56",
   "metadata": {},
   "outputs": [],
   "source": [
    "def count_total(l):\n",
    "    count = 0\n",
    "    for i in l:\n",
    "        count += len(i)\n",
    "    return count"
   ]
  },
  {
   "cell_type": "code",
   "execution_count": 12,
   "id": "0cfd35d0",
   "metadata": {},
   "outputs": [
    {
     "data": {
      "text/plain": [
       "1320"
      ]
     },
     "execution_count": 12,
     "metadata": {},
     "output_type": "execute_result"
    }
   ],
   "source": [
    "count_total(samples)"
   ]
  },
  {
   "cell_type": "code",
   "execution_count": 13,
   "id": "6939e071",
   "metadata": {},
   "outputs": [],
   "source": [
    "import numpy as np"
   ]
  },
  {
   "cell_type": "code",
   "execution_count": 14,
   "id": "56e78b60",
   "metadata": {},
   "outputs": [
    {
     "data": {
      "text/plain": [
       "array([[ 76.7292,  49.5042,  15.5   , ...,  13.    ,  56.9292,   7.8792],\n",
       "       [ 42.4   ,  34.375 ,  26.    , ...,  16.1   ,   7.775 ,   7.8958],\n",
       "       [ 16.1   ,  57.9792,  77.9583, ...,  30.5   ,  26.    ,   0.    ],\n",
       "       ...,\n",
       "       [ 25.4667, 211.5   ,  75.25  , ...,  27.75  ,   7.6292,  21.075 ],\n",
       "       [  7.25  ,   7.2292,   7.225 , ...,  10.5   ,  26.55  , 262.375 ],\n",
       "       [  9.825 ,  24.15  ,   6.2375, ...,  61.3792,  13.8625,   7.75  ]])"
      ]
     },
     "execution_count": 14,
     "metadata": {},
     "output_type": "execute_result"
    }
   ],
   "source": [
    "# convert sample into numpy array\n",
    "samples = np.array(samples)\n",
    "samples"
   ]
  },
  {
   "cell_type": "code",
   "execution_count": 15,
   "id": "12dd0031",
   "metadata": {},
   "outputs": [],
   "source": [
    "sampling_means = samples.mean(axis=1)"
   ]
  },
  {
   "cell_type": "code",
   "execution_count": 16,
   "id": "951e8429",
   "metadata": {},
   "outputs": [
    {
     "data": {
      "text/plain": [
       "array([37.33167333, 20.08888667, 31.56708   , 29.13291333, 48.24041   ,\n",
       "       32.00208333, 17.49097   , 19.05083   , 24.88249333, 29.32916333,\n",
       "       41.65444333, 27.79514   , 33.83944667, 28.94736333, 22.06389   ,\n",
       "       25.95680333, 20.8325    , 39.59056   , 51.81278   , 44.14      ,\n",
       "       42.77208333, 31.55972333, 34.40055667, 29.56444333, 28.90041667,\n",
       "       26.26180667, 33.65472333, 27.66555667, 23.45166   , 27.15680667,\n",
       "       25.05611   , 24.67458667, 48.32098   , 49.4425    , 38.35319   ,\n",
       "       33.67332667, 28.01833333, 30.76736333, 33.61111   , 27.43138667,\n",
       "       32.58486   , 31.20208667, 33.12777667, 23.17444667])"
      ]
     },
     "execution_count": 16,
     "metadata": {},
     "output_type": "execute_result"
    }
   ],
   "source": [
    "sampling_means"
   ]
  },
  {
   "cell_type": "code",
   "execution_count": 17,
   "id": "b482ec34",
   "metadata": {},
   "outputs": [
    {
     "data": {
      "text/plain": [
       "42.58108340781912"
      ]
     },
     "execution_count": 17,
     "metadata": {},
     "output_type": "execute_result"
    }
   ],
   "source": [
    "sample_std = np.mean(stds)\n",
    "sample_std"
   ]
  },
  {
   "cell_type": "markdown",
   "id": "0d69ef43",
   "metadata": {},
   "source": [
    "### CI level"
   ]
  },
  {
   "cell_type": "code",
   "execution_count": 18,
   "id": "7afc3558",
   "metadata": {},
   "outputs": [],
   "source": [
    "lower_limit = sampling_means.mean() - 2.014 * (sample_std/np.sqrt(30))\n",
    "upper_limit = sampling_means.mean() + 2.014 * (sample_std/np.sqrt(30))"
   ]
  },
  {
   "cell_type": "code",
   "execution_count": 19,
   "id": "da4d6170",
   "metadata": {},
   "outputs": [
    {
     "name": "stdout",
     "output_type": "stream",
     "text": [
      "The range is in between 15.946731094369232  47.26123542078227\n"
     ]
    }
   ],
   "source": [
    "print(f'The range is in between {lower_limit}  {upper_limit}')"
   ]
  },
  {
   "cell_type": "code",
   "execution_count": 20,
   "id": "66ba8fed",
   "metadata": {},
   "outputs": [
    {
     "data": {
      "text/plain": [
       "33.29547928134557"
      ]
     },
     "execution_count": 20,
     "metadata": {},
     "output_type": "execute_result"
    }
   ],
   "source": [
    "df['Fare'].mean()"
   ]
  },
  {
   "cell_type": "code",
   "execution_count": 21,
   "id": "bf81c4f6",
   "metadata": {},
   "outputs": [],
   "source": [
    "import seaborn as sns"
   ]
  },
  {
   "cell_type": "code",
   "execution_count": 22,
   "id": "0c23f4db",
   "metadata": {},
   "outputs": [
    {
     "data": {
      "text/plain": [
       "<Axes: ylabel='Density'>"
      ]
     },
     "execution_count": 22,
     "metadata": {},
     "output_type": "execute_result"
    },
    {
     "data": {
      "image/png": "[encoded data removed]",
      "text/plain": [
       "<Figure size 640x480 with 1 Axes>"
      ]
     },
     "metadata": {},
     "output_type": "display_data"
    }
   ],
   "source": [
    "sns.kdeplot(sampling_means)"
   ]
  },
  {
   "cell_type": "code",
   "execution_count": 23,
   "id": "2d36ac60",
   "metadata": {},
   "outputs": [
    {
     "data": {
      "text/plain": [
       "51.75866823917414"
      ]
     },
     "execution_count": 23,
     "metadata": {},
     "output_type": "execute_result"
    }
   ],
   "source": [
    "df['Fare'].std()"
   ]
  },
  {
   "cell_type": "code",
   "execution_count": 24,
   "id": "a70995a3",
   "metadata": {},
   "outputs": [
    {
     "data": {
      "text/plain": [
       "31.603983257575752"
      ]
     },
     "execution_count": 24,
     "metadata": {},
     "output_type": "execute_result"
    }
   ],
   "source": [
    "sampling_means.mean()"
   ]
  },
  {
   "cell_type": "code",
   "execution_count": 25,
   "id": "9d3261c7",
   "metadata": {},
   "outputs": [
    {
     "data": {
      "text/plain": [
       "33.29547928134557"
      ]
     },
     "execution_count": 25,
     "metadata": {},
     "output_type": "execute_result"
    }
   ],
   "source": [
    "df['Fare'].mean()"
   ]
  },
  {
   "cell_type": "code",
   "execution_count": 26,
   "id": "7aeecbeb",
   "metadata": {},
   "outputs": [
    {
     "data": {
      "text/plain": [
       "1380"
      ]
     },
     "execution_count": 26,
     "metadata": {},
     "output_type": "execute_result"
    }
   ],
   "source": [
    "46*30"
   ]
  },
  {
   "cell_type": "code",
   "execution_count": 27,
   "id": "8f164f66",
   "metadata": {},
   "outputs": [
    {
     "data": {
      "text/plain": [
       "1320"
      ]
     },
     "execution_count": 27,
     "metadata": {},
     "output_type": "execute_result"
    }
   ],
   "source": [
    "44*30"
   ]
  },
  {
   "cell_type": "code",
   "execution_count": 28,
   "id": "106ac2fd",
   "metadata": {},
   "outputs": [
    {
     "data": {
      "text/plain": [
       "1290"
      ]
     },
     "execution_count": 28,
     "metadata": {},
     "output_type": "execute_result"
    }
   ],
   "source": [
    "43*30"
   ]
  },
  {
   "cell_type": "code",
   "execution_count": null,
   "id": "6b43721a",
   "metadata": {},
   "outputs": [],
   "source": []
  }
 ],
 "metadata": {
  "kernelspec": {
   "display_name": "Python 3 (ipykernel)",
   "language": "python",
   "name": "python3"
  },
  "language_info": {
   "codemirror_mode": {
    "name": "ipython",
    "version": 3
   },
   "file_extension": ".py",
   "mimetype": "text/x-python",
   "name": "python",
   "nbconvert_exporter": "python",
   "pygments_lexer": "ipython3",
   "version": "3.10.9"
  }
 },
 "nbformat": 4,
 "nbformat_minor": 5
}
