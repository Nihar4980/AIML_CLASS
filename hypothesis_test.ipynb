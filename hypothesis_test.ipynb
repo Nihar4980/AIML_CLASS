{
 "cells": [
  {
   "cell_type": "code",
   "execution_count": 1,
   "id": "872fdb4e",
   "metadata": {},
   "outputs": [],
   "source": [
    "import pandas as pd\n",
    "df_train = pd.read_csv('train.csv')\n",
    "df_test = pd.read_csv('test.csv')"
   ]
  },
  {
   "cell_type": "code",
   "execution_count": 2,
   "id": "2b386f81",
   "metadata": {},
   "outputs": [],
   "source": [
    "df = pd.concat([df_train.drop(columns=['Survived']),df_test])"
   ]
  },
  {
   "cell_type": "code",
   "execution_count": 3,
   "id": "ae869af1",
   "metadata": {},
   "outputs": [],
   "source": [
    "df_age = df['Age'].dropna()"
   ]
  },
  {
   "cell_type": "code",
   "execution_count": 4,
   "id": "d782b636",
   "metadata": {},
   "outputs": [],
   "source": [
    "sample_age = df_age.sample(25).values"
   ]
  },
  {
   "cell_type": "code",
   "execution_count": 5,
   "id": "c475c520",
   "metadata": {},
   "outputs": [
    {
     "data": {
      "text/plain": [
       "array([23.  , 31.  , 27.  , 20.  , 30.  , 18.  , 27.  ,  2.  , 41.  ,\n",
       "       40.  , 28.  ,  0.83,  2.  , 19.  , 38.5 , 23.  , 41.  , 25.  ,\n",
       "       32.  , 24.  , 20.  , 21.  , 36.  , 24.  , 23.  ])"
      ]
     },
     "execution_count": 5,
     "metadata": {},
     "output_type": "execute_result"
    }
   ],
   "source": [
    "sample_age"
   ]
  },
  {
   "cell_type": "code",
   "execution_count": 6,
   "id": "cd9b5bf3",
   "metadata": {},
   "outputs": [
    {
     "data": {
      "text/plain": [
       "29.881137667304014"
      ]
     },
     "execution_count": 6,
     "metadata": {},
     "output_type": "execute_result"
    }
   ],
   "source": [
    "df['Age'].mean()"
   ]
  },
  {
   "cell_type": "markdown",
   "id": "f7bdae59",
   "metadata": {},
   "source": [
    "## Make a hypothesis for above sample\n",
    "- H0 : The age is 35 i.e. age = 35\n",
    "- H1 : The age is less than 35 i.e. age < 35"
   ]
  },
  {
   "cell_type": "code",
   "execution_count": 7,
   "id": "75c013b9",
   "metadata": {},
   "outputs": [
    {
     "name": "stdout",
     "output_type": "stream",
     "text": [
      "ShapiroResult(statistic=0.9134435057640076, pvalue=0.03640370815992355)\n"
     ]
    }
   ],
   "source": [
    "# Check the naormality using Shaprio Wilk test\n",
    "# condition -1\n",
    "\n",
    "from scipy.stats import shapiro\n",
    "\n",
    "shapiro_age = shapiro(sample_age)\n",
    "\n",
    "print(shapiro_age)"
   ]
  },
  {
   "cell_type": "code",
   "execution_count": 8,
   "id": "110f978c",
   "metadata": {},
   "outputs": [
    {
     "data": {
      "text/plain": [
       "24.6532"
      ]
     },
     "execution_count": 8,
     "metadata": {},
     "output_type": "execute_result"
    }
   ],
   "source": [
    "sample_age.mean()"
   ]
  },
  {
   "cell_type": "code",
   "execution_count": 9,
   "id": "a5dea211",
   "metadata": {},
   "outputs": [
    {
     "name": "stdout",
     "output_type": "stream",
     "text": [
      "ShapiroResult(statistic=0.9499357342720032, pvalue=0.07544518262147903)\n"
     ]
    }
   ],
   "source": [
    "sample_age1 = df_age.sample(40).values\n",
    "shapiro_age1 = shapiro(sample_age1)\n",
    "\n",
    "print(shapiro_age1)"
   ]
  },
  {
   "cell_type": "markdown",
   "id": "f8751083",
   "metadata": {},
   "source": [
    "#### For checking a data set is normality or not we have to check result sample dataset in shapiro\n",
    "\n",
    "##### if pvalue > 0.05 - Follow normal distribution"
   ]
  },
  {
   "cell_type": "code",
   "execution_count": 10,
   "id": "ae5ac265",
   "metadata": {},
   "outputs": [],
   "source": [
    "pop_mean = 35"
   ]
  },
  {
   "cell_type": "code",
   "execution_count": 11,
   "id": "52c07598",
   "metadata": {},
   "outputs": [
    {
     "name": "stdout",
     "output_type": "stream",
     "text": [
      "t_statistics : -4.649419910091689\n",
      "p_value : 5.063500792566138e-05\n"
     ]
    }
   ],
   "source": [
    "# test t test and p value \n",
    "\n",
    "import scipy.stats as stats\n",
    "\n",
    "t_statistics, p_value = stats.ttest_1samp(sample_age,pop_mean)\n",
    "\n",
    "print(f't_statistics : {t_statistics}')\n",
    "print(f'p_value : {p_value/2}') # as p_value give result for two tail test we devide 2 for one tail test"
   ]
  },
  {
   "cell_type": "code",
   "execution_count": 12,
   "id": "17660314",
   "metadata": {},
   "outputs": [],
   "source": [
    "alpha = 0.05 # significance level\n",
    "\n",
    "def hypothesis_test(alpha,p_value):\n",
    "    if p_value < alpha:\n",
    "        return 'Reject the null hypothesis'\n",
    "    else:\n",
    "        return 'Fail to reject null hypothesis'"
   ]
  },
  {
   "cell_type": "code",
   "execution_count": 13,
   "id": "dba8c28b",
   "metadata": {},
   "outputs": [
    {
     "data": {
      "text/plain": [
       "'Reject the null hypothesis'"
      ]
     },
     "execution_count": 13,
     "metadata": {},
     "output_type": "execute_result"
    }
   ],
   "source": [
    "hypothesis_test(alpha,p_value)"
   ]
  },
  {
   "cell_type": "code",
   "execution_count": 15,
   "id": "15321ad5",
   "metadata": {},
   "outputs": [
    {
     "ename": "AttributeError",
     "evalue": "module 'numpy' has no attribute 'aranage'",
     "output_type": "error",
     "traceback": [
      "\u001b[1;31m---------------------------------------------------------------------------\u001b[0m",
      "\u001b[1;31mAttributeError\u001b[0m                            Traceback (most recent call last)",
      "Cell \u001b[1;32mIn[15], line 3\u001b[0m\n\u001b[0;32m      1\u001b[0m \u001b[38;5;66;03m# Input data\u001b[39;00m\n\u001b[0;32m      2\u001b[0m \u001b[38;5;28;01mimport\u001b[39;00m \u001b[38;5;21;01mnumpy\u001b[39;00m \u001b[38;5;28;01mas\u001b[39;00m \u001b[38;5;21;01mnp\u001b[39;00m\n\u001b[1;32m----> 3\u001b[0m desktop_data \u001b[38;5;241m=\u001b[39m \u001b[43mnp\u001b[49m\u001b[38;5;241;43m.\u001b[39;49m\u001b[43maranage\u001b[49m(\u001b[38;5;241m10\u001b[39m,\u001b[38;5;241m25\u001b[39m,\u001b[38;5;241m25\u001b[39m)\n",
      "File \u001b[1;32m~\\anaconda3\\lib\\site-packages\\numpy\\__init__.py:311\u001b[0m, in \u001b[0;36m__getattr__\u001b[1;34m(attr)\u001b[0m\n\u001b[0;32m    308\u001b[0m     \u001b[38;5;28;01mfrom\u001b[39;00m \u001b[38;5;21;01m.\u001b[39;00m\u001b[38;5;21;01mtesting\u001b[39;00m \u001b[38;5;28;01mimport\u001b[39;00m Tester\n\u001b[0;32m    309\u001b[0m     \u001b[38;5;28;01mreturn\u001b[39;00m Tester\n\u001b[1;32m--> 311\u001b[0m \u001b[38;5;28;01mraise\u001b[39;00m \u001b[38;5;167;01mAttributeError\u001b[39;00m(\u001b[38;5;124m\"\u001b[39m\u001b[38;5;124mmodule \u001b[39m\u001b[38;5;132;01m{!r}\u001b[39;00m\u001b[38;5;124m has no attribute \u001b[39m\u001b[38;5;124m\"\u001b[39m\n\u001b[0;32m    312\u001b[0m                      \u001b[38;5;124m\"\u001b[39m\u001b[38;5;132;01m{!r}\u001b[39;00m\u001b[38;5;124m\"\u001b[39m\u001b[38;5;241m.\u001b[39mformat(\u001b[38;5;18m__name__\u001b[39m, attr))\n",
      "\u001b[1;31mAttributeError\u001b[0m: module 'numpy' has no attribute 'aranage'"
     ]
    }
   ],
   "source": [
    "# Input data\n",
    "import numpy as np\n",
    "desktop_data = np.arranage(10,25,25)"
   ]
  },
  {
   "cell_type": "code",
   "execution_count": null,
   "id": "68922de9",
   "metadata": {},
   "outputs": [],
   "source": []
  }
 ],
 "metadata": {
  "kernelspec": {
   "display_name": "Python 3 (ipykernel)",
   "language": "python",
   "name": "python3"
  },
  "language_info": {
   "codemirror_mode": {
    "name": "ipython",
    "version": 3
   },
   "file_extension": ".py",
   "mimetype": "text/x-python",
   "name": "python",
   "nbconvert_exporter": "python",
   "pygments_lexer": "ipython3",
   "version": "3.10.9"
  }
 },
 "nbformat": 4,
 "nbformat_minor": 5
}
