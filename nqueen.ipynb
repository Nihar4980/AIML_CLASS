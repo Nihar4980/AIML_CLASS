{
 "cells": [
  {
   "cell_type": "code",
   "execution_count": 1,
   "id": "1e261c6a",
   "metadata": {},
   "outputs": [],
   "source": [
    "l1 = [1,2,3,4]\n",
    "l2 = [5,6,7,8]"
   ]
  },
  {
   "cell_type": "code",
   "execution_count": 2,
   "id": "6c043766",
   "metadata": {},
   "outputs": [
    {
     "data": {
      "text/plain": [
       "[1, 2, 3, 4, 5, 6, 7, 8]"
      ]
     },
     "execution_count": 2,
     "metadata": {},
     "output_type": "execute_result"
    }
   ],
   "source": [
    "l1+l2"
   ]
  },
  {
   "cell_type": "code",
   "execution_count": 4,
   "id": "109f284b",
   "metadata": {},
   "outputs": [
    {
     "name": "stdout",
     "output_type": "stream",
     "text": [
      "6\n",
      "8\n",
      "10\n",
      "12\n"
     ]
    }
   ],
   "source": [
    "for i,j in zip(l1,l2):\n",
    "    print(i+j)"
   ]
  },
  {
   "cell_type": "code",
   "execution_count": 5,
   "id": "49febc0c",
   "metadata": {},
   "outputs": [
    {
     "data": {
      "text/plain": [
       "[6, 8, 10, 12]"
      ]
     },
     "execution_count": 5,
     "metadata": {},
     "output_type": "execute_result"
    }
   ],
   "source": [
    "[i+j for i,j in zip(l1,l2)]"
   ]
  },
  {
   "cell_type": "code",
   "execution_count": 7,
   "id": "534881e7",
   "metadata": {},
   "outputs": [
    {
     "name": "stdout",
     "output_type": "stream",
     "text": [
      "0 1\n",
      "1 2\n",
      "2 3\n",
      "3 4\n"
     ]
    }
   ],
   "source": [
    "for i,j in enumerate(l1):\n",
    "    print(i,j)"
   ]
  },
  {
   "cell_type": "code",
   "execution_count": 36,
   "id": "92d53381",
   "metadata": {},
   "outputs": [],
   "source": [
    "class Nqueen:\n",
    "    def __init__(self,n):\n",
    "        self.n = n\n",
    "        self.board = [[0 for i in range(n)] for i in range(n)]\n",
    "        \n",
    "    def check_column(self,row, column):\n",
    "        for i in range(row,-1,-1):\n",
    "            if self.board[i][column] == 1:\n",
    "                return False\n",
    "        return True\n",
    "    \n",
    "    def check_diagnal(self,row, column):\n",
    "        for i,j in zip(range(row,-1,-1), range(column,-1,-1)):\n",
    "            if self.board[i][j] ==1:\n",
    "                return False\n",
    "        for i,j in zip(range(row,-1,-1), range(column,n)):\n",
    "            if self.board[i][j] ==1:\n",
    "                return False\n",
    "        return True\n",
    "    \n",
    "    # back Tracking\n",
    "    def nqn(self, row):\n",
    "        if row == self.n:\n",
    "            return True\n",
    "        for i in range(self.n):\n",
    "            if (self.check_column(row,i) == True and self.check_diagnal(row,i) == True):\n",
    "                self.board[row][i] = 1\n",
    "                if self.nqn(row+1):\n",
    "                    return True\n",
    "                else:\n",
    "                    self.board[row][i] = 0\n",
    "        return False\n",
    "    \n",
    "    def print_solution(self):\n",
    "        self.nqn(0)\n",
    "        for i in self.board:\n",
    "            print(i)\n",
    "            "
   ]
  },
  {
   "cell_type": "code",
   "execution_count": 45,
   "id": "9d985e3f",
   "metadata": {},
   "outputs": [
    {
     "name": "stdout",
     "output_type": "stream",
     "text": [
      "Enter the value of n : 5\n"
     ]
    }
   ],
   "source": [
    "n = int(input('Enter the value of n : '))\n",
    "queen = Nqueen(n)\n"
   ]
  },
  {
   "cell_type": "code",
   "execution_count": 46,
   "id": "91c3de85",
   "metadata": {},
   "outputs": [
    {
     "data": {
      "text/plain": [
       "True"
      ]
     },
     "execution_count": 46,
     "metadata": {},
     "output_type": "execute_result"
    }
   ],
   "source": [
    "queen.nqn(1)"
   ]
  },
  {
   "cell_type": "code",
   "execution_count": 47,
   "id": "a5f8b2f7",
   "metadata": {},
   "outputs": [
    {
     "data": {
      "text/plain": [
       "[[0, 0, 0, 0, 0],\n",
       " [1, 0, 0, 0, 0],\n",
       " [0, 0, 1, 0, 0],\n",
       " [0, 0, 0, 0, 1],\n",
       " [0, 1, 0, 0, 0]]"
      ]
     },
     "execution_count": 47,
     "metadata": {},
     "output_type": "execute_result"
    }
   ],
   "source": [
    "queen.board"
   ]
  },
  {
   "cell_type": "code",
   "execution_count": 17,
   "id": "60a6b863",
   "metadata": {},
   "outputs": [
    {
     "name": "stdout",
     "output_type": "stream",
     "text": [
      "Enter the value of n : 4\n",
      "[0, 1, 0, 0]\n",
      "[0, 0, 0, 1]\n",
      "[1, 0, 0, 0]\n",
      "[0, 0, 1, 0]\n"
     ]
    }
   ],
   "source": [
    "\n",
    "n = int(input('Enter the value of n : '))\n",
    "\n",
    "board = [[0 for i in range(n)] for i in range(n)]\n",
    "\n",
    "def check_column(board,row, column):\n",
    "    for i in range(row,-1,-1):\n",
    "        if board[i][column] == 1:\n",
    "            return False\n",
    "    return True\n",
    "\n",
    "def check_diagnal(board, row, column):\n",
    "    for i,j in zip(range(row,-1,-1), range(column,-1,-1)):\n",
    "        if board[i][j] ==1:\n",
    "            return False\n",
    "    for i,j in zip(range(row,-1,-1), range(column,n)):\n",
    "        if board[i][j] ==1:\n",
    "            return False\n",
    "    return True   \n",
    "# back Tracking\n",
    "def nqn(board, row):\n",
    "    if row == n:\n",
    "        return True\n",
    "    for i in range(n):\n",
    "        if (check_column(board,row,i) == True and check_diagnal(board,row,i) == True):\n",
    "            board[row][i] = 1\n",
    "            if nqn(board, row+1):\n",
    "                return True\n",
    "            board[row][i] = 0\n",
    "   \n",
    "    return False\n",
    "\n",
    "nqn(board,0)\n",
    "\n",
    "for i in board:\n",
    "    print(i)"
   ]
  },
  {
   "cell_type": "code",
   "execution_count": 13,
   "id": "d2b348a2",
   "metadata": {},
   "outputs": [
    {
     "data": {
      "text/plain": [
       "[[0, 0, 0, 0, 0],\n",
       " [0, 0, 0, 0, 0],\n",
       " [0, 0, 0, 0, 0],\n",
       " [0, 0, 0, 0, 0],\n",
       " [0, 0, 0, 0, 0]]"
      ]
     },
     "execution_count": 13,
     "metadata": {},
     "output_type": "execute_result"
    }
   ],
   "source": [
    "board"
   ]
  },
  {
   "cell_type": "code",
   "execution_count": 14,
   "id": "abdce095",
   "metadata": {},
   "outputs": [],
   "source": [
    "def check_column(board,row, column):\n",
    "    for i in range(row,-1,-1):\n",
    "        if board[i][column] == 1:\n",
    "            return False\n",
    "    return True"
   ]
  },
  {
   "cell_type": "code",
   "execution_count": 28,
   "id": "62c1d31e",
   "metadata": {},
   "outputs": [],
   "source": [
    "def check_diagnal(board, row, column):\n",
    "    for i,j in zip(range(row,-1,-1), range(column,-1,-1)):\n",
    "        if board[i][j] ==1:\n",
    "            return False\n",
    "    for i,j in zip(range(row,-1,-1), range(column,n)):\n",
    "        if board[i][j] ==1:\n",
    "            return False\n",
    "    return True"
   ]
  },
  {
   "cell_type": "code",
   "execution_count": 29,
   "id": "5fe7bad0",
   "metadata": {},
   "outputs": [],
   "source": [
    "# back Tracking\n",
    "def nqn(board, row):\n",
    "    if row == n:\n",
    "        return True\n",
    "    for i in range(n):\n",
    "        if (check_column(board,row,i) == True and check_diagnal(board,row,i) == True):\n",
    "            board[row][i] = 1\n",
    "            if nqn(board, row+1):\n",
    "                return True\n",
    "            board[row][i] = 0\n",
    "    return False          "
   ]
  },
  {
   "cell_type": "code",
   "execution_count": 30,
   "id": "689bdafa",
   "metadata": {},
   "outputs": [
    {
     "data": {
      "text/plain": [
       "True"
      ]
     },
     "execution_count": 30,
     "metadata": {},
     "output_type": "execute_result"
    }
   ],
   "source": [
    "nqn(board,0)"
   ]
  },
  {
   "cell_type": "code",
   "execution_count": 35,
   "id": "ab27edaa",
   "metadata": {},
   "outputs": [
    {
     "name": "stdout",
     "output_type": "stream",
     "text": [
      "[0, 0, 0]\n",
      "[0, 0, 0]\n",
      "[0, 0, 0]\n"
     ]
    }
   ],
   "source": [
    "for i in board:\n",
    "    print(i)"
   ]
  },
  {
   "cell_type": "code",
   "execution_count": null,
   "id": "1a09cedb",
   "metadata": {},
   "outputs": [],
   "source": []
  }
 ],
 "metadata": {
  "kernelspec": {
   "display_name": "Python 3 (ipykernel)",
   "language": "python",
   "name": "python3"
  },
  "language_info": {
   "codemirror_mode": {
    "name": "ipython",
    "version": 3
   },
   "file_extension": ".py",
   "mimetype": "text/x-python",
   "name": "python",
   "nbconvert_exporter": "python",
   "pygments_lexer": "ipython3",
   "version": "3.11.5"
  }
 },
 "nbformat": 4,
 "nbformat_minor": 5
}
