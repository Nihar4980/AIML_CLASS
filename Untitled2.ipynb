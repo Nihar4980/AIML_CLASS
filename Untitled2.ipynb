{
 "cells": [
  {
   "cell_type": "code",
   "execution_count": 1,
   "id": "64ec32fa",
   "metadata": {},
   "outputs": [],
   "source": [
    "class Point(object):\n",
    "    def __init__(self,x = 0,y = 0):\n",
    "        self.x = x\n",
    "        self.y = y\n",
    "\n",
    "    def distance(self):\n",
    "        \"\"\"Find distance from origin\"\"\"\n",
    "        return (self.x**2 + self.y**2) ** 0.5"
   ]
  },
  {
   "cell_type": "code",
   "execution_count": 2,
   "id": "3b028409",
   "metadata": {},
   "outputs": [],
   "source": [
    "p1 = Point(6,8)"
   ]
  },
  {
   "cell_type": "code",
   "execution_count": 3,
   "id": "d5870ef9",
   "metadata": {},
   "outputs": [
    {
     "data": {
      "text/plain": [
       "10.0"
      ]
     },
     "execution_count": 3,
     "metadata": {},
     "output_type": "execute_result"
    }
   ],
   "source": [
    "p1.distance()"
   ]
  },
  {
   "cell_type": "code",
   "execution_count": 4,
   "id": "4612748e",
   "metadata": {},
   "outputs": [
    {
     "data": {
      "text/plain": [
       "function"
      ]
     },
     "execution_count": 4,
     "metadata": {},
     "output_type": "execute_result"
    }
   ],
   "source": [
    "type(Point.distance)"
   ]
  },
  {
   "cell_type": "code",
   "execution_count": 5,
   "id": "24611613",
   "metadata": {},
   "outputs": [
    {
     "data": {
      "text/plain": [
       "method"
      ]
     },
     "execution_count": 5,
     "metadata": {},
     "output_type": "execute_result"
    }
   ],
   "source": [
    "type(p1.distance)"
   ]
  },
  {
   "cell_type": "code",
   "execution_count": 6,
   "id": "7b432410",
   "metadata": {},
   "outputs": [],
   "source": [
    "class A(object):\n",
    "\n",
    "    @staticmethod\n",
    "    def stat_meth():\n",
    "        print(\"Look no self was passed\")"
   ]
  },
  {
   "cell_type": "code",
   "execution_count": 7,
   "id": "37f2f5e0",
   "metadata": {},
   "outputs": [
    {
     "name": "stdout",
     "output_type": "stream",
     "text": [
      "Look no self was passed\n"
     ]
    }
   ],
   "source": [
    "a = A()\n",
    ">>> a.stat_meth()"
   ]
  },
  {
   "cell_type": "code",
   "execution_count": 9,
   "id": "07f2afdd",
   "metadata": {},
   "outputs": [
    {
     "data": {
      "text/plain": [
       "function"
      ]
     },
     "execution_count": 9,
     "metadata": {},
     "output_type": "execute_result"
    }
   ],
   "source": [
    "type(A.stat_meth)"
   ]
  },
  {
   "cell_type": "code",
   "execution_count": 10,
   "id": "1e61ad8e",
   "metadata": {},
   "outputs": [
    {
     "data": {
      "text/plain": [
       "function"
      ]
     },
     "execution_count": 10,
     "metadata": {},
     "output_type": "execute_result"
    }
   ],
   "source": [
    "type(a.stat_meth)"
   ]
  },
  {
   "cell_type": "code",
   "execution_count": 11,
   "id": "26d70410",
   "metadata": {},
   "outputs": [],
   "source": [
    "class C:\n",
    "   def meth(arg):  # Look ma, no self!\n",
    "      self.val = arg\n",
    "      return self.val"
   ]
  },
  {
   "cell_type": "code",
   "execution_count": 12,
   "id": "3504e329",
   "metadata": {},
   "outputs": [
    {
     "ename": "NameError",
     "evalue": "name 'self' is not defined",
     "output_type": "error",
     "traceback": [
      "\u001b[1;31m---------------------------------------------------------------------------\u001b[0m",
      "\u001b[1;31mNameError\u001b[0m                                 Traceback (most recent call last)",
      "Cell \u001b[1;32mIn[12], line 1\u001b[0m\n\u001b[1;32m----> 1\u001b[0m C\u001b[38;5;241m.\u001b[39mmeth(\u001b[38;5;241m10\u001b[39m)\n",
      "Cell \u001b[1;32mIn[11], line 3\u001b[0m, in \u001b[0;36mC.meth\u001b[1;34m(arg)\u001b[0m\n\u001b[0;32m      2\u001b[0m \u001b[38;5;28;01mdef\u001b[39;00m \u001b[38;5;21mmeth\u001b[39m(arg):  \u001b[38;5;66;03m# Look ma, no self!\u001b[39;00m\n\u001b[1;32m----> 3\u001b[0m    \u001b[38;5;28mself\u001b[39m\u001b[38;5;241m.\u001b[39mval \u001b[38;5;241m=\u001b[39m arg\n\u001b[0;32m      4\u001b[0m    \u001b[38;5;28;01mreturn\u001b[39;00m \u001b[38;5;28mself\u001b[39m\u001b[38;5;241m.\u001b[39mval\n",
      "\u001b[1;31mNameError\u001b[0m: name 'self' is not defined"
     ]
    }
   ],
   "source": [
    "C.meth(10)"
   ]
  },
  {
   "cell_type": "code",
   "execution_count": 13,
   "id": "d393d7ac",
   "metadata": {},
   "outputs": [],
   "source": [
    "class C:\n",
    "   def meth(self, arg):\n",
    "      self.val = arg\n",
    "      return self.val"
   ]
  },
  {
   "cell_type": "code",
   "execution_count": 14,
   "id": "1459d8a4",
   "metadata": {},
   "outputs": [
    {
     "ename": "TypeError",
     "evalue": "C.meth() missing 1 required positional argument: 'arg'",
     "output_type": "error",
     "traceback": [
      "\u001b[1;31m---------------------------------------------------------------------------\u001b[0m",
      "\u001b[1;31mTypeError\u001b[0m                                 Traceback (most recent call last)",
      "Cell \u001b[1;32mIn[14], line 1\u001b[0m\n\u001b[1;32m----> 1\u001b[0m C\u001b[38;5;241m.\u001b[39mmeth(\u001b[38;5;241m10\u001b[39m)\n",
      "\u001b[1;31mTypeError\u001b[0m: C.meth() missing 1 required positional argument: 'arg'"
     ]
    }
   ],
   "source": [
    "C.meth(10)"
   ]
  },
  {
   "cell_type": "code",
   "execution_count": 15,
   "id": "3ee7c5db",
   "metadata": {},
   "outputs": [],
   "source": [
    "class C:\n",
    "   pass\n",
    "\n",
    "# Define a global function:\n",
    "def meth(myself, arg):\n",
    "   myself.val = arg\n",
    "   return myself.val"
   ]
  },
  {
   "cell_type": "code",
   "execution_count": 16,
   "id": "83134fdc",
   "metadata": {},
   "outputs": [],
   "source": [
    "C.meth = meth"
   ]
  },
  {
   "cell_type": "code",
   "execution_count": 18,
   "id": "c413fca6",
   "metadata": {},
   "outputs": [
    {
     "ename": "NameError",
     "evalue": "name 'myself' is not defined",
     "output_type": "error",
     "traceback": [
      "\u001b[1;31m---------------------------------------------------------------------------\u001b[0m",
      "\u001b[1;31mNameError\u001b[0m                                 Traceback (most recent call last)",
      "Cell \u001b[1;32mIn[18], line 1\u001b[0m\n\u001b[1;32m----> 1\u001b[0m C\u001b[38;5;241m.\u001b[39mmeth(myself,\u001b[38;5;241m10\u001b[39m)\n",
      "\u001b[1;31mNameError\u001b[0m: name 'myself' is not defined"
     ]
    }
   ],
   "source": [
    "C.meth(myself,10)"
   ]
  },
  {
   "cell_type": "code",
   "execution_count": 19,
   "id": "b132bc0b",
   "metadata": {},
   "outputs": [],
   "source": [
    "class Point(object):\n",
    "\n",
    "    def __new__(cls,*args,**kwargs):\n",
    "        print(\"From new\")\n",
    "        print(cls)\n",
    "        print(args)\n",
    "        print(kwargs)\n",
    "\n",
    "        # create our object and return it\n",
    "        obj = super().__new__(cls)\n",
    "        return obj\n",
    "\n",
    "    def __init__(self,x = 0,y = 0):\n",
    "        print(\"From init\")\n",
    "        self.x = x\n",
    "        self.y = y"
   ]
  },
  {
   "cell_type": "code",
   "execution_count": 22,
   "id": "655748fc",
   "metadata": {},
   "outputs": [
    {
     "name": "stdout",
     "output_type": "stream",
     "text": [
      "From new\n",
      "<class '__main__.Point'>\n",
      "(3, 4)\n",
      "{}\n",
      "From init\n"
     ]
    }
   ],
   "source": [
    "p2 = Point(3,4)"
   ]
  },
  {
   "cell_type": "code",
   "execution_count": 31,
   "id": "837a59e8",
   "metadata": {},
   "outputs": [],
   "source": [
    "class SqPoint:\n",
    "    Max_Inst = 4\n",
    "    Inst_created = 0\n",
    "    \n",
    "    def __new__(cls, *args, **kwargs):\n",
    "        if (cls.Inst_created >= cls.Max_Inst):\n",
    "            raise ValueError ('Cannot Create more objects')\n",
    "            \n",
    "        cls.Inst_created += 1\n",
    "        return super().__new__(cls)"
   ]
  },
  {
   "cell_type": "code",
   "execution_count": 32,
   "id": "bbec75bb",
   "metadata": {},
   "outputs": [],
   "source": [
    "p1 = SqPoint(0,0)\n",
    "p2 = SqPoint(1,0)\n",
    "p3 = SqPoint(1,1)\n",
    "p4 = SqPoint(0,1)"
   ]
  },
  {
   "cell_type": "code",
   "execution_count": 33,
   "id": "cc312144",
   "metadata": {},
   "outputs": [
    {
     "ename": "ValueError",
     "evalue": "Cannot Create more objects",
     "output_type": "error",
     "traceback": [
      "\u001b[1;31m---------------------------------------------------------------------------\u001b[0m",
      "\u001b[1;31mValueError\u001b[0m                                Traceback (most recent call last)",
      "Cell \u001b[1;32mIn[33], line 1\u001b[0m\n\u001b[1;32m----> 1\u001b[0m p4 \u001b[38;5;241m=\u001b[39m SqPoint(\u001b[38;5;241m0\u001b[39m,\u001b[38;5;241m1\u001b[39m)\n",
      "Cell \u001b[1;32mIn[31], line 7\u001b[0m, in \u001b[0;36mSqPoint.__new__\u001b[1;34m(cls, *args, **kwargs)\u001b[0m\n\u001b[0;32m      5\u001b[0m \u001b[38;5;28;01mdef\u001b[39;00m \u001b[38;5;21m__new__\u001b[39m(\u001b[38;5;28mcls\u001b[39m, \u001b[38;5;241m*\u001b[39margs, \u001b[38;5;241m*\u001b[39m\u001b[38;5;241m*\u001b[39mkwargs):\n\u001b[0;32m      6\u001b[0m     \u001b[38;5;28;01mif\u001b[39;00m (\u001b[38;5;28mcls\u001b[39m\u001b[38;5;241m.\u001b[39mInst_created \u001b[38;5;241m>\u001b[39m\u001b[38;5;241m=\u001b[39m \u001b[38;5;28mcls\u001b[39m\u001b[38;5;241m.\u001b[39mMax_Inst):\n\u001b[1;32m----> 7\u001b[0m         \u001b[38;5;28;01mraise\u001b[39;00m \u001b[38;5;167;01mValueError\u001b[39;00m (\u001b[38;5;124m'\u001b[39m\u001b[38;5;124mCannot Create more objects\u001b[39m\u001b[38;5;124m'\u001b[39m)\n\u001b[0;32m      9\u001b[0m     \u001b[38;5;28mcls\u001b[39m\u001b[38;5;241m.\u001b[39mInst_created \u001b[38;5;241m+\u001b[39m\u001b[38;5;241m=\u001b[39m \u001b[38;5;241m1\u001b[39m\n\u001b[0;32m     10\u001b[0m     \u001b[38;5;28;01mreturn\u001b[39;00m \u001b[38;5;28msuper\u001b[39m()\u001b[38;5;241m.\u001b[39m\u001b[38;5;21m__new__\u001b[39m(\u001b[38;5;28mcls\u001b[39m)\n",
      "\u001b[1;31mValueError\u001b[0m: Cannot Create more objects"
     ]
    }
   ],
   "source": [
    "p4 = SqPoint(0,1)"
   ]
  },
  {
   "cell_type": "code",
   "execution_count": 34,
   "id": "2dfc195e",
   "metadata": {},
   "outputs": [
    {
     "data": {
      "text/plain": [
       "4"
      ]
     },
     "execution_count": 34,
     "metadata": {},
     "output_type": "execute_result"
    }
   ],
   "source": [
    "p1.Inst_created"
   ]
  },
  {
   "cell_type": "code",
   "execution_count": 35,
   "id": "5bee6843",
   "metadata": {},
   "outputs": [],
   "source": [
    "class Area:\n",
    "    def __init__(self, *arg):\n",
    "        self.element = arg\n",
    "        \n",
    "        for i in "
   ]
  },
  {
   "cell_type": "code",
   "execution_count": 39,
   "id": "8f495d73",
   "metadata": {},
   "outputs": [
    {
     "data": {
      "text/plain": [
       "(1, 2, 3)"
      ]
     },
     "execution_count": 39,
     "metadata": {},
     "output_type": "execute_result"
    }
   ],
   "source": [
    "Area(1,2,3).element"
   ]
  },
  {
   "cell_type": "code",
   "execution_count": 41,
   "id": "61f103e1",
   "metadata": {},
   "outputs": [
    {
     "name": "stdout",
     "output_type": "stream",
     "text": [
      "Element 0: example1\n",
      "Element 1: example2\n",
      "Element 2: example3\n"
     ]
    }
   ],
   "source": [
    "class MyClass:\n",
    "    def __init__(self, **kwargs):\n",
    "        self.elements = kwargs.values\n",
    "\n",
    "    def print_elements(self):\n",
    "        for i, element in enumerate(self.elements):\n",
    "            print(f\"Element {i}: {element}\")\n",
    "\n",
    "# Example usage\n",
    "elements_to_pass = \"example1\", \"example2\", \"example3\"\n",
    "my_object = MyClass(*elements_to_pass)\n",
    "my_object.print_elements()\n"
   ]
  },
  {
   "cell_type": "code",
   "execution_count": 48,
   "id": "1cc40cf9",
   "metadata": {},
   "outputs": [],
   "source": [
    "a = {1:2}.get(1)"
   ]
  },
  {
   "cell_type": "code",
   "execution_count": 49,
   "id": "0483452b",
   "metadata": {},
   "outputs": [
    {
     "data": {
      "text/plain": [
       "2"
      ]
     },
     "execution_count": 49,
     "metadata": {},
     "output_type": "execute_result"
    }
   ],
   "source": [
    "a"
   ]
  },
  {
   "cell_type": "code",
   "execution_count": 4,
   "id": "f987fb43",
   "metadata": {},
   "outputs": [
    {
     "name": "stderr",
     "output_type": "stream",
     "text": [
      "100%|██████████████████████████████████████████████████████████████████████████████████████| 1000/1000 [00:00<?, ?it/s]\n"
     ]
    }
   ],
   "source": [
    "from tqdm import tqdm\n",
    "\n",
    "for i in tqdm(range(1000)):\n",
    "    ..."
   ]
  },
  {
   "cell_type": "code",
   "execution_count": 5,
   "id": "e122d5a1-e936-472c-99ff-aa657535840b",
   "metadata": {},
   "outputs": [
    {
     "name": "stderr",
     "output_type": "stream",
     "text": [
      "100%|████████████████████████████████████████████████████████████████████████████████████| 4/4 [00:01<00:00,  3.80it/s]\n"
     ]
    }
   ],
   "source": [
    "from tqdm import tqdm\n",
    "from time import sleep\n",
    "\n",
    "text = \"\"\n",
    "for char in tqdm([\"a\", \"b\", \"c\", \"d\"]):\n",
    "    sleep(0.25)\n",
    "    text = text + char"
   ]
  },
  {
   "cell_type": "code",
   "execution_count": 6,
   "id": "a4aee3fe-8ada-4497-8ffa-8ed170742382",
   "metadata": {},
   "outputs": [
    {
     "name": "stderr",
     "output_type": "stream",
     "text": [
      "100%|████████████████████████████████████████████████████████████████████████████████| 100/100 [00:01<00:00, 57.44it/s]\n"
     ]
    }
   ],
   "source": [
    "from tqdm import trange\n",
    "\n",
    "for i in trange(100):\n",
    "    sleep(0.01)"
   ]
  },
  {
   "cell_type": "code",
   "execution_count": 7,
   "id": "bf17b46b-bff5-42ba-b2a4-32879e4c3e36",
   "metadata": {},
   "outputs": [
    {
     "name": "stderr",
     "output_type": "stream",
     "text": [
      "Processing d: 100%|██████████████████████████████████████████████████████████████████████| 4/4 [00:01<00:00,  3.78it/s]\n"
     ]
    }
   ],
   "source": [
    "pbar = tqdm([\"a\", \"b\", \"c\", \"d\"])\n",
    "for char in pbar:\n",
    "    sleep(0.25)\n",
    "    pbar.set_description(\"Processing %s\" % char)"
   ]
  },
  {
   "cell_type": "code",
   "execution_count": 8,
   "id": "f77b9578-8bfa-4973-995e-59688d0f6c35",
   "metadata": {},
   "outputs": [
    {
     "name": "stderr",
     "output_type": "stream",
     "text": [
      "100%|████████████████████████████████████████████████████████████████████████████████| 100/100 [00:01<00:00, 93.18it/s]\n"
     ]
    }
   ],
   "source": [
    "with tqdm(total=100) as pbar:\n",
    "    for i in range(10):\n",
    "        sleep(0.1)\n",
    "        pbar.update(10)"
   ]
  },
  {
   "cell_type": "code",
   "execution_count": null,
   "id": "74850653-aaaf-4bd0-acd7-a07aa7c9af5c",
   "metadata": {},
   "outputs": [],
   "source": []
  }
 ],
 "metadata": {
  "kernelspec": {
   "display_name": "Python 3 (ipykernel)",
   "language": "python",
   "name": "python3"
  },
  "language_info": {
   "codemirror_mode": {
    "name": "ipython",
    "version": 3
   },
   "file_extension": ".py",
   "mimetype": "text/x-python",
   "name": "python",
   "nbconvert_exporter": "python",
   "pygments_lexer": "ipython3",
   "version": "3.11.5"
  }
 },
 "nbformat": 4,
 "nbformat_minor": 5
}
