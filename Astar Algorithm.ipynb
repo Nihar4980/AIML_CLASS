{
 "cells": [
  {
   "cell_type": "code",
   "execution_count": 4,
   "id": "ed3940b1",
   "metadata": {},
   "outputs": [],
   "source": [
    "def heuristic(n):\n",
    "    H_dist = {\n",
    "        'A': 11,\n",
    "        'B': 6,\n",
    "        'C': 99,\n",
    "        'D': 1,\n",
    "        'E': 7,\n",
    "        'G': 0\n",
    "    }\n",
    "    \n",
    "    return H_dist(n)"
   ]
  },
  {
   "cell_type": "code",
   "execution_count": 8,
   "id": "3b8933ce",
   "metadata": {},
   "outputs": [],
   "source": [
    "Graph_node = {\n",
    "        'A': [('B',2),('E', 3)],\n",
    "        'B': [('C',1),('G',9)],\n",
    "        'C': None,\n",
    "        'E': [('D',6)],\n",
    "        'D': [('G', 1)]\n",
    "}"
   ]
  },
  {
   "cell_type": "code",
   "execution_count": 14,
   "id": "45290071",
   "metadata": {},
   "outputs": [
    {
     "name": "stdout",
     "output_type": "stream",
     "text": [
      "<class 'NoneType'>\n"
     ]
    }
   ],
   "source": [
    "print(type(Graph_node['C']))"
   ]
  },
  {
   "cell_type": "code",
   "execution_count": 6,
   "id": "f342d7ae",
   "metadata": {},
   "outputs": [],
   "source": [
    "tree = {'S': [['A', 1], ['B', 5], ['C', 8]],\n",
    "'A': [['S', 1], ['D', 3], ['E', 7], ['G', 9]],\n",
    "'B': [['S', 5], ['G', 4]],\n",
    "'C': [['S', 8], ['G', 5]],\n",
    "'D': [['A', 3]],\n",
    "'E': [['A', 7]]}\n",
    "\n",
    "\n",
    "heuristic = {'S': 8, 'A': 8, 'B': 4, 'C': 3, 'D': 5000, 'E': 5000, 'G': 0}\n",
    "\n",
    "cost = {'S': 0} # total cost for nodes visited"
   ]
  },
  {
   "cell_type": "code",
   "execution_count": 8,
   "id": "16d59ec6",
   "metadata": {},
   "outputs": [],
   "source": [
    "def AStarSearch(tree, heuristic,cost):\n",
    "    first_key, first_value = next(iter(heuristic.items()))\n",
    "    last_key, last_value = list(heuristic.items())[-1]\n",
    "    closed = []\n",
    "    opened = [[first_key, first_value]]\n",
    "    \n",
    "    while True:\n",
    "        fn = [i[1] for i in opened]\n",
    "        choosen_index = fn.index(min(fn))\n",
    "        node = opened[choosen_index][0]\n",
    "        closed.append(opened[choosen_index])\n",
    "        del opened[choosen_index]\n",
    "        \n",
    "        if closed[-1][0] == last_key:\n",
    "            break\n",
    "            \n",
    "        for item in tree[node]:\n",
    "            if item[0] in [closed_item[0] for closed_item in closed]:\n",
    "                continue\n",
    "            cost.update({item[0]: cost[node] + item[1]})\n",
    "            fn_node = cost[node] + heuristic[item[0]] + item[1]\n",
    "            temp = [item[0], fn_node]\n",
    "            opened.append(temp)\n",
    "            \n",
    "    '''find optimal Sequence'''\n",
    "    trace_node = last_key\n",
    "    optimal_sequence = [last_key]\n",
    "    \n",
    "    for i in range(len(closed)-2,-1,-1):\n",
    "        check_node = closed[i][0]\n",
    "        if trace_node in [children[0] for children in tree[check_node]]:\n",
    "            children_cost = [temp[1] for temp in tree[check_node]]\n",
    "            children_nodes = [temp[0] for temp in tree[check_node]]\n",
    "            \n",
    "            if cost[check_node] + children_cost[children_nodes.index(trace_node)] == cost[trace_node]:\n",
    "                optimal_sequence.append(check_node)\n",
    "                trace_node = check_node\n",
    "                \n",
    "    optimal_sequence.reverse()\n",
    "    \n",
    "    return closed, optimal_sequence"
   ]
  },
  {
   "cell_type": "code",
   "execution_count": 127,
   "id": "9d678691",
   "metadata": {},
   "outputs": [],
   "source": [
    " for item in tree[node]:\n",
    "            if item[0] in [closed_item[0] for closed_item in closed]:\n",
    "                continue\n",
    "            cost.update({item[0]: cost[node] + item[1]})\n",
    "            fn_node = cost[node] + heuristic[item[0]] + item[1]\n",
    "            temp = [item[0], fn_node]\n",
    "            opened.append(temp)"
   ]
  },
  {
   "cell_type": "code",
   "execution_count": 128,
   "id": "c4c89b11",
   "metadata": {},
   "outputs": [
    {
     "data": {
      "text/plain": [
       "[['A', 1], ['B', 5], ['C', 8]]"
      ]
     },
     "execution_count": 128,
     "metadata": {},
     "output_type": "execute_result"
    }
   ],
   "source": [
    "[item for item in tree[node]]"
   ]
  },
  {
   "cell_type": "code",
   "execution_count": 150,
   "id": "0af17717",
   "metadata": {},
   "outputs": [],
   "source": [
    "def fun(*args):\n",
    "    add = []\n",
    "    for i in args:\n",
    "        if 1 not in args:\n",
    "            continue\n",
    "        add.append(i)\n",
    "    return add\n",
    "        \n",
    "        \n",
    "    "
   ]
  },
  {
   "cell_type": "code",
   "execution_count": 152,
   "id": "596a9c9e",
   "metadata": {},
   "outputs": [
    {
     "data": {
      "text/plain": [
       "[1, 2, 6, 7]"
      ]
     },
     "execution_count": 152,
     "metadata": {},
     "output_type": "execute_result"
    }
   ],
   "source": [
    "fun(1,2,6,7)"
   ]
  },
  {
   "cell_type": "code",
   "execution_count": null,
   "id": "b12d4fc8",
   "metadata": {},
   "outputs": [],
   "source": []
  },
  {
   "cell_type": "code",
   "execution_count": 9,
   "id": "3511268b",
   "metadata": {},
   "outputs": [],
   "source": [
    "closed,optimal_sequence = AStarSearch(tree, heuristic,cost)"
   ]
  },
  {
   "cell_type": "code",
   "execution_count": 10,
   "id": "c6956120",
   "metadata": {},
   "outputs": [
    {
     "data": {
      "text/plain": [
       "['S', 'B', 'G']"
      ]
     },
     "execution_count": 10,
     "metadata": {},
     "output_type": "execute_result"
    }
   ],
   "source": [
    "optimal_sequence"
   ]
  },
  {
   "cell_type": "code",
   "execution_count": 11,
   "id": "ff1c8779",
   "metadata": {},
   "outputs": [
    {
     "data": {
      "text/plain": [
       "[['S', 8], ['A', 9], ['B', 9], ['G', 9]]"
      ]
     },
     "execution_count": 11,
     "metadata": {},
     "output_type": "execute_result"
    }
   ],
   "source": [
    "closed"
   ]
  },
  {
   "cell_type": "code",
   "execution_count": 107,
   "id": "adbcb8a8",
   "metadata": {},
   "outputs": [],
   "source": [
    "first_key, first_value = next(iter(heuristic.items()))"
   ]
  },
  {
   "cell_type": "code",
   "execution_count": 108,
   "id": "b709de72",
   "metadata": {},
   "outputs": [
    {
     "data": {
      "text/plain": [
       "['S', 8]"
      ]
     },
     "execution_count": 108,
     "metadata": {},
     "output_type": "execute_result"
    }
   ],
   "source": [
    "[first_key, first_value]"
   ]
  },
  {
   "cell_type": "code",
   "execution_count": 124,
   "id": "52d9311d",
   "metadata": {},
   "outputs": [],
   "source": [
    "opened = [['S',8]]"
   ]
  },
  {
   "cell_type": "code",
   "execution_count": 126,
   "id": "4cbb0497",
   "metadata": {},
   "outputs": [
    {
     "data": {
      "text/plain": [
       "'S'"
      ]
     },
     "execution_count": 126,
     "metadata": {},
     "output_type": "execute_result"
    }
   ],
   "source": [
    "opened[0][0]"
   ]
  },
  {
   "cell_type": "code",
   "execution_count": 69,
   "id": "565fe93d",
   "metadata": {},
   "outputs": [],
   "source": [
    "choosen_index = fn.index(min(fn))"
   ]
  },
  {
   "cell_type": "code",
   "execution_count": 42,
   "id": "56d065ee",
   "metadata": {},
   "outputs": [
    {
     "data": {
      "text/plain": [
       "8"
      ]
     },
     "execution_count": 42,
     "metadata": {},
     "output_type": "execute_result"
    }
   ],
   "source": [
    "min(fn)"
   ]
  },
  {
   "cell_type": "code",
   "execution_count": 43,
   "id": "31f2b2bc",
   "metadata": {},
   "outputs": [
    {
     "data": {
      "text/plain": [
       "'S'"
      ]
     },
     "execution_count": 43,
     "metadata": {},
     "output_type": "execute_result"
    }
   ],
   "source": [
    "opened[0][0]"
   ]
  },
  {
   "cell_type": "code",
   "execution_count": 45,
   "id": "e74686f3",
   "metadata": {},
   "outputs": [
    {
     "data": {
      "text/plain": [
       "['S', 8]"
      ]
     },
     "execution_count": 45,
     "metadata": {},
     "output_type": "execute_result"
    }
   ],
   "source": [
    "[i for i in opened[choosen_index]]"
   ]
  },
  {
   "cell_type": "code",
   "execution_count": 33,
   "id": "b11c7d30",
   "metadata": {},
   "outputs": [
    {
     "data": {
      "text/plain": [
       "[]"
      ]
     },
     "execution_count": 33,
     "metadata": {},
     "output_type": "execute_result"
    }
   ],
   "source": [
    "opened"
   ]
  },
  {
   "cell_type": "code",
   "execution_count": 37,
   "id": "7604b9f4",
   "metadata": {},
   "outputs": [
    {
     "name": "stdout",
     "output_type": "stream",
     "text": [
      "A\n",
      "B\n",
      "C\n"
     ]
    }
   ],
   "source": [
    "for item in tree['S']:\n",
    "    print(item[0])"
   ]
  },
  {
   "cell_type": "code",
   "execution_count": 55,
   "id": "b84caf9f",
   "metadata": {},
   "outputs": [],
   "source": [
    "for item in tree[node]:\n",
    "            if item[0] in [closed_item for closed_item in closed]:\n",
    "                continue\n",
    "            cost.update({item[0]: cost[node] + item[1]})\n",
    "            fn_node = cost[node] + heuristic[item[0]] + item[1]"
   ]
  },
  {
   "cell_type": "code",
   "execution_count": 52,
   "id": "e554240f",
   "metadata": {},
   "outputs": [
    {
     "data": {
      "text/plain": [
       "{'S': 0, 'A': 1, 'B': 5, 'C': 8}"
      ]
     },
     "execution_count": 52,
     "metadata": {},
     "output_type": "execute_result"
    }
   ],
   "source": [
    "cost"
   ]
  },
  {
   "cell_type": "code",
   "execution_count": 56,
   "id": "065b3fbd",
   "metadata": {},
   "outputs": [
    {
     "data": {
      "text/plain": [
       "11"
      ]
     },
     "execution_count": 56,
     "metadata": {},
     "output_type": "execute_result"
    }
   ],
   "source": [
    "fn_node"
   ]
  },
  {
   "cell_type": "code",
   "execution_count": 57,
   "id": "c29b98c5",
   "metadata": {},
   "outputs": [
    {
     "data": {
      "text/plain": [
       "0"
      ]
     },
     "execution_count": 57,
     "metadata": {},
     "output_type": "execute_result"
    }
   ],
   "source": [
    "cost[node]"
   ]
  },
  {
   "cell_type": "code",
   "execution_count": 58,
   "id": "c1a9b1ff",
   "metadata": {},
   "outputs": [
    {
     "data": {
      "text/plain": [
       "'C'"
      ]
     },
     "execution_count": 58,
     "metadata": {},
     "output_type": "execute_result"
    }
   ],
   "source": [
    "item[0]"
   ]
  },
  {
   "cell_type": "code",
   "execution_count": 63,
   "id": "4e173f02",
   "metadata": {},
   "outputs": [
    {
     "data": {
      "text/plain": [
       "[3, 2, 1, 0]"
      ]
     },
     "execution_count": 63,
     "metadata": {},
     "output_type": "execute_result"
    }
   ],
   "source": [
    "[i for i in range(len([1,2,3,4,5])-2,-1,-1)]"
   ]
  },
  {
   "cell_type": "code",
   "execution_count": 70,
   "id": "4ec44a19",
   "metadata": {},
   "outputs": [],
   "source": [
    "closed = []"
   ]
  },
  {
   "cell_type": "code",
   "execution_count": 71,
   "id": "7000ba81",
   "metadata": {},
   "outputs": [],
   "source": [
    "closed.append(opened[choosen_index])"
   ]
  },
  {
   "cell_type": "code",
   "execution_count": 72,
   "id": "14d83d4f",
   "metadata": {},
   "outputs": [
    {
     "data": {
      "text/plain": [
       "[['S', 8]]"
      ]
     },
     "execution_count": 72,
     "metadata": {},
     "output_type": "execute_result"
    }
   ],
   "source": [
    "closed"
   ]
  },
  {
   "cell_type": "code",
   "execution_count": 112,
   "id": "5e2ea858",
   "metadata": {},
   "outputs": [],
   "source": [
    "last_key, last_value = list(heuristic.items())[-1]"
   ]
  },
  {
   "cell_type": "code",
   "execution_count": 113,
   "id": "ea879cbf",
   "metadata": {},
   "outputs": [
    {
     "data": {
      "text/plain": [
       "('G', 0)"
      ]
     },
     "execution_count": 113,
     "metadata": {},
     "output_type": "execute_result"
    }
   ],
   "source": [
    "last_key, last_value"
   ]
  },
  {
   "cell_type": "code",
   "execution_count": 114,
   "id": "a3376b09",
   "metadata": {},
   "outputs": [
    {
     "data": {
      "text/plain": [
       "('G', 0)"
      ]
     },
     "execution_count": 114,
     "metadata": {},
     "output_type": "execute_result"
    }
   ],
   "source": [
    "list(heuristic.items())[-1]"
   ]
  },
  {
   "cell_type": "code",
   "execution_count": 123,
   "id": "7c71a0bd",
   "metadata": {},
   "outputs": [
    {
     "data": {
      "text/plain": [
       "2"
      ]
     },
     "execution_count": 123,
     "metadata": {},
     "output_type": "execute_result"
    }
   ],
   "source": [
    "fn = [1, 2, 3]\n",
    "fn.index(max(fn))"
   ]
  },
  {
   "cell_type": "code",
   "execution_count": 5,
   "id": "0e6db3f7",
   "metadata": {},
   "outputs": [
    {
     "name": "stdout",
     "output_type": "stream",
     "text": [
      "5\n",
      "4\n",
      "3\n",
      "2\n",
      "1\n",
      "0\n"
     ]
    }
   ],
   "source": [
    " for i in range(len([1,2,3,4,5,6,7])-2,-1,-1):\n",
    "        print(i)"
   ]
  },
  {
   "cell_type": "code",
   "execution_count": 5,
   "id": "7c439c07",
   "metadata": {},
   "outputs": [
    {
     "name": "stdout",
     "output_type": "stream",
     "text": [
      "['a', 1, ['b', 12]]\n"
     ]
    }
   ],
   "source": [
    "a = ['a',1,['b',12]]\n",
    "\n",
    "if ['b',12] in a:\n",
    "    print(a)"
   ]
  },
  {
   "cell_type": "code",
   "execution_count": null,
   "id": "18a8c711",
   "metadata": {},
   "outputs": [],
   "source": []
  }
 ],
 "metadata": {
  "kernelspec": {
   "display_name": "Python 3 (ipykernel)",
   "language": "python",
   "name": "python3"
  },
  "language_info": {
   "codemirror_mode": {
    "name": "ipython",
    "version": 3
   },
   "file_extension": ".py",
   "mimetype": "text/x-python",
   "name": "python",
   "nbconvert_exporter": "python",
   "pygments_lexer": "ipython3",
   "version": "3.11.5"
  }
 },
 "nbformat": 4,
 "nbformat_minor": 5
}
